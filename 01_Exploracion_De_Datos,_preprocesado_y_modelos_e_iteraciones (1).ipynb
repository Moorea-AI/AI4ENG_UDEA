{
  "nbformat": 4,
  "nbformat_minor": 0,
  "metadata": {
    "colab": {
      "provenance": []
    },
    "kernelspec": {
      "name": "python3",
      "display_name": "Python 3"
    },
    "language_info": {
      "name": "python"
    }
  },
  "cells": [
    {
      "cell_type": "markdown",
      "source": [
        "[![Open in Colab](https://colab.research.google.com/assets/colab-badge.svg)](https://colab.research.google.com/github/Moorea-AI/AI4ENG_UDEA/blob/main/01_Exploracion_De_Datos.ipynb)"
      ],
      "metadata": {
        "id": "YmKqjksL6Twh"
      }
    },
    {
      "cell_type": "markdown",
      "source": [
        "#EXPLORACIÓN DE DATOS PARA EL DATASET \"Fraude en Transacciones Electrónicas\" <br>\n",
        "###TOMADO DE: https://www.kaggle.com/competitions/ieee-fraud-detection/data?select=test_transaction"
      ],
      "metadata": {
        "id": "Y6-KU8P-w4nB"
      }
    },
    {
      "cell_type": "markdown",
      "source": [
        "Presentado por: </br>\n",
        "Aura Luz Moreno Díaz, Estudiante de Ingeniería Industrial </br>\n",
        "Evelyn Zharick Saez Gallego, Estudiante de Ingeniería Ambiental</br></br>\n",
        "Para la materia:<br>\n",
        "INTRODUCCIÓN A LA INTELIGENCIA ARTIFICIAL PARA LAS CIENCIAS Y LA INGENIERIA<BR>\n",
        "Con el profesor: RAÚL RAMOS POLLAN"
      ],
      "metadata": {
        "id": "jcZxrE1XxC-z"
      }
    },
    {
      "cell_type": "code",
      "execution_count": 15,
      "metadata": {
        "id": "gCYrctRVwvPv"
      },
      "outputs": [],
      "source": [
        "#PASO 1: Importación de librerias que serán necesarias para la exploración de datos\n",
        "import pandas as pd\n",
        "import numpy as np\n",
        "import matplotlib.pyplot as plt\n",
        "import random\n",
        "import requests\n",
        "import json\n",
        "import seaborn as sns\n",
        "\n",
        "#Importacion de librerias para manipulación de datos para Machine Learning\n",
        "from sklearn.linear_model import LinearRegression\n",
        "from sklearn.tree import DecisionTreeRegressor\n",
        "from sklearn.ensemble import RandomForestRegressor\n",
        "from sklearn.model_selection import cross_validate, ShuffleSplit\n",
        "\n",
        "from sklearn.model_selection import learning_curve\n",
        "from sklearn.metrics import mean_squared_error\n",
        "from sklearn.impute import SimpleImputer\n",
        "from sklearn.preprocessing import OneHotEncoder\n",
        "from sklearn.preprocessing import FunctionTransformer\n",
        "from sklearn.pipeline import Pipeline\n",
        "from sklearn.compose import ColumnTransformer\n",
        "from sklearn.preprocessing import LabelEncoder\n",
        "from sklearn import utils\n",
        "from sklearn import preprocessing\n",
        "from sklearn.model_selection import train_test_split,KFold,GroupKFold\n",
        "\n",
        "from scipy.stats import norm\n",
        "from scipy import stats\n",
        "\n",
        "\n",
        "import lightgbm as lgb\n",
        "import gc\n",
        "\n",
        "import warnings\n",
        "warnings.filterwarnings('ignore')\n",
        "\n"
      ]
    },
    {
      "cell_type": "markdown",
      "source": [
        "##1. Lectura y concatenación de los Dataset"
      ],
      "metadata": {
        "id": "2HFItEBzt8lm"
      }
    },
    {
      "cell_type": "code",
      "source": [
        "# Cargando credenciales de Kaggle\n",
        "data = {\"username\":\"mooreamed\",\"key\":\"a253e996d6247d9093be1edd604d0125\"}\n",
        "with open('kaggle.json', 'w') as file:\n",
        "    json.dump(data, file, indent=4)\n",
        "\n",
        "#!cp kaggle.json ~/.kaggle/"
      ],
      "metadata": {
        "id": "gzj11gdT03In"
      },
      "execution_count": 2,
      "outputs": []
    },
    {
      "cell_type": "code",
      "source": [
        "! pip install kaggle"
      ],
      "metadata": {
        "colab": {
          "base_uri": "https://localhost:8080/"
        },
        "id": "ByfCyklBSnGi",
        "outputId": "bb85f47a-a2fd-4e97-858d-cbcc01d06177"
      },
      "execution_count": 3,
      "outputs": [
        {
          "output_type": "stream",
          "name": "stdout",
          "text": [
            "Looking in indexes: https://pypi.org/simple, https://us-python.pkg.dev/colab-wheels/public/simple/\n",
            "Requirement already satisfied: kaggle in /usr/local/lib/python3.10/dist-packages (1.5.13)\n",
            "Requirement already satisfied: six>=1.10 in /usr/local/lib/python3.10/dist-packages (from kaggle) (1.16.0)\n",
            "Requirement already satisfied: certifi in /usr/local/lib/python3.10/dist-packages (from kaggle) (2022.12.7)\n",
            "Requirement already satisfied: python-dateutil in /usr/local/lib/python3.10/dist-packages (from kaggle) (2.8.2)\n",
            "Requirement already satisfied: requests in /usr/local/lib/python3.10/dist-packages (from kaggle) (2.27.1)\n",
            "Requirement already satisfied: tqdm in /usr/local/lib/python3.10/dist-packages (from kaggle) (4.65.0)\n",
            "Requirement already satisfied: python-slugify in /usr/local/lib/python3.10/dist-packages (from kaggle) (8.0.1)\n",
            "Requirement already satisfied: urllib3 in /usr/local/lib/python3.10/dist-packages (from kaggle) (1.26.15)\n",
            "Requirement already satisfied: text-unidecode>=1.3 in /usr/local/lib/python3.10/dist-packages (from python-slugify->kaggle) (1.3)\n",
            "Requirement already satisfied: charset-normalizer~=2.0.0 in /usr/local/lib/python3.10/dist-packages (from requests->kaggle) (2.0.12)\n",
            "Requirement already satisfied: idna<4,>=2.5 in /usr/local/lib/python3.10/dist-packages (from requests->kaggle) (3.4)\n"
          ]
        }
      ]
    },
    {
      "cell_type": "code",
      "source": [
        "! mkdir ~/.kaggle"
      ],
      "metadata": {
        "colab": {
          "base_uri": "https://localhost:8080/"
        },
        "id": "k86IPF6RSqqV",
        "outputId": "1dd33a1e-8bb1-45cb-8d9c-2648f59c71d4"
      },
      "execution_count": 5,
      "outputs": [
        {
          "output_type": "stream",
          "name": "stdout",
          "text": [
            "mkdir: cannot create directory ‘/root/.kaggle’: File exists\n"
          ]
        }
      ]
    },
    {
      "cell_type": "code",
      "source": [
        "! cp kaggle.json ~/.kaggle/"
      ],
      "metadata": {
        "id": "tIgyKJJySxpK"
      },
      "execution_count": 6,
      "outputs": []
    },
    {
      "cell_type": "code",
      "source": [
        "! chmod 600 ~/.kaggle/kaggle.json"
      ],
      "metadata": {
        "id": "-pSiM8zISzCQ"
      },
      "execution_count": 8,
      "outputs": []
    },
    {
      "cell_type": "code",
      "source": [
        "# Se descarga el dataset\n",
        "!kaggle datasets download -d niangmohamed/ieeecis-fraud-detection\n",
        "\n",
        "# Se descomprime el dataset\n",
        "!unzip ieeecis-fraud-detection.zip"
      ],
      "metadata": {
        "colab": {
          "base_uri": "https://localhost:8080/"
        },
        "id": "6BkJ2yvf1Rxa",
        "outputId": "0f8d91c1-c200-4836-8090-ffcc106ea336"
      },
      "execution_count": 7,
      "outputs": [
        {
          "output_type": "stream",
          "name": "stdout",
          "text": [
            "ieeecis-fraud-detection.zip: Skipping, found more recently modified local copy (use --force to force download)\n",
            "Archive:  ieeecis-fraud-detection.zip\n",
            "replace sample_submission.csv? [y]es, [n]o, [A]ll, [N]one, [r]ename: n\n",
            "replace test_identity.csv? [y]es, [n]o, [A]ll, [N]one, [r]ename: n\n",
            "replace test_transaction.csv? [y]es, [n]o, [A]ll, [N]one, [r]ename: n\n",
            "replace train_identity.csv? [y]es, [n]o, [A]ll, [N]one, [r]ename: n\n",
            "replace train_transaction.csv? [y]es, [n]o, [A]ll, [N]one, [r]ename: n\n"
          ]
        }
      ]
    },
    {
      "cell_type": "code",
      "source": [
        "#Verificamos que se este funcionando la conexión de la API\n",
        "!kaggle datasets list"
      ],
      "metadata": {
        "id": "wrdMIUP_1Ohi",
        "colab": {
          "base_uri": "https://localhost:8080/"
        },
        "outputId": "37bd1a8d-cd78-48f7-b7f8-a6f303ff993e"
      },
      "execution_count": 9,
      "outputs": [
        {
          "output_type": "stream",
          "name": "stdout",
          "text": [
            "ref                                                                   title                                                size  lastUpdated          downloadCount  voteCount  usabilityRating  \n",
            "--------------------------------------------------------------------  --------------------------------------------------  -----  -------------------  -------------  ---------  ---------------  \n",
            "arnabchaki/data-science-salaries-2023                                 Data Science Salaries 2023 💸                         25KB  2023-04-13 09:55:16          21830        605  1.0              \n",
            "mauryansshivam/netflix-ott-revenue-and-subscribers-csv-file           Netflix OTT Revenue and Subscribers (CSV File)        2KB  2023-05-13 17:40:23            936         23  1.0              \n",
            "fatihb/coffee-quality-data-cqi                                        Coffee Quality Data (CQI May-2023)                   22KB  2023-05-12 13:06:39           2371         56  1.0              \n",
            "darshanprabhu09/stock-prices-for                                      Stock prices of Amazon , Microsoft , Google, Apple   85KB  2023-05-16 15:17:16           1035         31  1.0              \n",
            "adityaramachandran27/world-air-quality-index-by-city-and-coordinates  World Air Quality Index by City and Coordinates     372KB  2023-05-07 07:29:26            979         28  1.0              \n",
            "anxods/spotify-top-50-playlist-songs-anxods                           Spotify Top 50 Playlist Songs | @anxods              66KB  2023-05-28 11:40:44            887         29  0.9411765        \n",
            "bilalwaseer/google-stocks-complete                                    Google Stocks Complete                               98KB  2023-05-16 18:17:17            530         23  1.0              \n",
            "iammustafatz/diabetes-prediction-dataset                              Diabetes prediction dataset                         734KB  2023-04-08 06:11:45          11317        166  1.0              \n",
            "tanisha1416/aqi-bangalore-2023                                        Smog City Diaries: Unveiling Air Quality Trends📈      4KB  2023-05-25 04:18:15            336         23  1.0              \n",
            "mohithsairamreddy/salary-data                                         Salary_Data                                          17KB  2023-05-18 14:05:19           1447         38  0.88235295       \n",
            "desalegngeb/students-exam-scores                                      Students Exam Scores: Extended Dataset              695KB  2023-04-14 00:15:38           9069        179  1.0              \n",
            "utkarshx27/lovoo-dating-app-dataset                                   Dating App Fame & Behavior                          572KB  2023-05-14 12:26:00            624         21  1.0              \n",
            "ashpalsingh1525/imdb-movies-dataset                                   IMDB movies dataset                                   3MB  2023-04-28 23:18:15           2530         55  1.0              \n",
            "radheshyamkollipara/bank-customer-churn                               Bank Customer Churn                                 307KB  2023-04-28 16:32:01           2565         41  1.0              \n",
            "danbraswell/temporary-us-births                                       US Births 👶 by Year, State, and Education Level      60KB  2023-05-08 23:15:33           1038         23  1.0              \n",
            "utkarshx27/fashion-ecommerce-user-data                                Fashion E-commerce User Data                          2MB  2023-05-19 11:04:09            825         29  1.0              \n",
            "riybot/riyadh-cafes                                                   Riyadh Cafes                                        251KB  2023-05-22 22:24:22            577         25  1.0              \n",
            "arnabchaki/tripadvisor-reviews-2023                                   Tripadvisor Reviews 2023 ⭐                           22MB  2023-05-17 08:26:35            415         24  1.0              \n",
            "utkarshx27/inflation-rate-in-asia                                     Inflation Rate in Asia                                3KB  2023-05-13 17:41:29           1052         34  1.0              \n",
            "utkarshx27/breast-cancer-wisconsin-diagnostic-dataset                 Breast Cancer Wisconsin Diagnostic Dataset           48KB  2023-05-10 04:40:33            681         27  1.0              \n"
          ]
        }
      ]
    },
    {
      "cell_type": "markdown",
      "source": [
        "### ANALISIS DE LOS DATOS\n",
        "\n",
        "####**TABLA IDENTITY** <BR>\n",
        "Las variables en esta tabla son información de identidad: \n",
        "<BR><BR>\n",
        "información de conexión de red (IP, ISP, Proxy, etc.) y firma digital (UA/\n",
        "navegador/OS/versión, etc.) asociada con las transacciones.<BR><BR>\n",
        "Son recopilados por el sistema de protección contra fraudes de Vesta y los socios de seguridad digital.<BR><BR>\n",
        "(Los nombres de los campos están enmascarados y no se proporcionará el diccionario por pares para la protección de la privacidad y el acuerdo del contrato)<BR><BR>\n",
        "\n",
        "TransactionID<br>\n",
        "id_12 - id_38<BR>\n",
        "DeviceType<BR>\n",
        "DeviceInfo<BR>\n",
        "<BR>\n",
        "####**TABLA TRANSACCIONES:** <BR>\n",
        "\n",
        "TransactionDT: timedelta de una fecha y hora de referencia determinada (no una marca de tiempo real). timedelta de una fecha y hora de referencia dada (no una marca de tiempo real). El primer valor de TransactionDT es 86400, que corresponde a la cantidad de segundos en un día (60 * 60 * 24 = 86400), así que creo que la unidad es segundos. Usando esto, sabemos que los datos abarcan 6 meses, ya que el valor máximo es 15811131, que correspondería al día 183”\n",
        "<BR>\n",
        "\n",
        "TransactionAMT: monto del pago de la transacción en USD<BR>\n",
        "\n",
        "ProductCD: código de producto, el producto para cada transacción<BR>\n",
        "\n",
        "card1 - card6: información de la tarjeta de pago, como tipo de tarjeta, categoría de tarjeta, banco emisor, país, etc.<BR>\n",
        "\n",
        "dirección: dirección addr1 como región de facturación, addr2 como país de facturación<BR>\n",
        "\n",
        "distancia: distancias entre (no limitadas) la dirección de facturación, la dirección postal, el código postal, la dirección IP, el área telefónica, etc\n",
        "<BR>\n",
        "\n",
        "P_ y (R__) emaildomain: dominio de correo electrónico del comprador y del destinatario<BR>\n",
        "\n",
        "C1-C14: conteo, como cuántas direcciones se encuentran asociadas con la tarjeta de pago, etc. El significado real está enmascarado.<BR>\n",
        "\n",
        "D1-D15: timedelta, como días entre transacciones anteriores, etc.<BR>\n",
        "\n",
        "M1-M9: coincidencia, como nombres en la tarjeta y dirección, etc.<BR>\n",
        "\n",
        "Vxxx: características completas diseñadas por Vesta, que incluyen clasificación, conteo y otras relaciones de entidad.<BR><BR>\n",
        "\n",
        "Características categóricas:<BR>\n",
        "\n",
        "ProductCD<BR>\n",
        "card1 - card6<BR>\n",
        "addr1, addr2<BR>\n",
        "P_emaildomain<BR>\n",
        "R_emaildomain<BR>\n",
        "M1 - M9<BR>\n",
        "\n",
        "\n"
      ],
      "metadata": {
        "id": "jPj6EZVAAd3N"
      }
    },
    {
      "cell_type": "code",
      "source": [
        "#Lectura  los datos que tiene el dataset para empezar con el análisis exploratorio\n",
        "#Lo llamaremos df por dataframe, tid por transactions id para que quede dftid\n",
        "\n",
        "dftid = pd.read_csv('train_identity.csv')\n",
        "dftid.head(10)"
      ],
      "metadata": {
        "colab": {
          "base_uri": "https://localhost:8080/",
          "height": 393
        },
        "id": "Xg3tKPB11V6l",
        "outputId": "1b9c3103-ced2-4669-85c5-dc870f6a73fc"
      },
      "execution_count": 2,
      "outputs": [
        {
          "output_type": "execute_result",
          "data": {
            "text/plain": [
              "   TransactionID  id_01     id_02  id_03  id_04  id_05  id_06  id_07  id_08  \\\n",
              "0        2987004    0.0   70787.0    NaN    NaN    NaN    NaN    NaN    NaN   \n",
              "1        2987008   -5.0   98945.0    NaN    NaN    0.0   -5.0    NaN    NaN   \n",
              "2        2987010   -5.0  191631.0    0.0    0.0    0.0    0.0    NaN    NaN   \n",
              "3        2987011   -5.0  221832.0    NaN    NaN    0.0   -6.0    NaN    NaN   \n",
              "4        2987016    0.0    7460.0    0.0    0.0    1.0    0.0    NaN    NaN   \n",
              "5        2987017   -5.0   61141.0    3.0    0.0    3.0    0.0    NaN    NaN   \n",
              "6        2987022  -15.0       NaN    NaN    NaN    NaN    NaN    NaN    NaN   \n",
              "7        2987038    0.0   31964.0    0.0    0.0    0.0  -10.0    NaN    NaN   \n",
              "8        2987040  -10.0  116098.0    0.0    0.0    0.0    0.0    NaN    NaN   \n",
              "9        2987048   -5.0  257037.0    NaN    NaN    0.0    0.0    NaN    NaN   \n",
              "\n",
              "   id_09  ...                id_31  id_32      id_33           id_34  id_35  \\\n",
              "0    NaN  ...  samsung browser 6.2   32.0  2220x1080  match_status:2      T   \n",
              "1    NaN  ...   mobile safari 11.0   32.0   1334x750  match_status:1      T   \n",
              "2    0.0  ...          chrome 62.0    NaN        NaN             NaN      F   \n",
              "3    NaN  ...          chrome 62.0    NaN        NaN             NaN      F   \n",
              "4    0.0  ...          chrome 62.0   24.0   1280x800  match_status:2      T   \n",
              "5    3.0  ...          chrome 62.0   24.0   1366x768  match_status:2      T   \n",
              "6    NaN  ...                  NaN    NaN        NaN             NaN    NaN   \n",
              "7    0.0  ...          chrome 62.0   32.0  1920x1080  match_status:2      T   \n",
              "8    0.0  ...          chrome 62.0    NaN        NaN             NaN      F   \n",
              "9    NaN  ...          chrome 62.0    NaN        NaN             NaN      F   \n",
              "\n",
              "  id_36 id_37  id_38  DeviceType                     DeviceInfo  \n",
              "0     F     T      T      mobile  SAMSUNG SM-G892A Build/NRD90M  \n",
              "1     F     F      T      mobile                     iOS Device  \n",
              "2     F     T      T     desktop                        Windows  \n",
              "3     F     T      T     desktop                            NaN  \n",
              "4     F     T      T     desktop                          MacOS  \n",
              "5     F     T      T     desktop                        Windows  \n",
              "6   NaN   NaN    NaN         NaN                            NaN  \n",
              "7     F     T      T      mobile                            NaN  \n",
              "8     F     T      T     desktop                        Windows  \n",
              "9     F     T      T     desktop                        Windows  \n",
              "\n",
              "[10 rows x 41 columns]"
            ],
            "text/html": [
              "\n",
              "  <div id=\"df-7530fccc-9fdd-4f83-8ca9-2609b130b512\">\n",
              "    <div class=\"colab-df-container\">\n",
              "      <div>\n",
              "<style scoped>\n",
              "    .dataframe tbody tr th:only-of-type {\n",
              "        vertical-align: middle;\n",
              "    }\n",
              "\n",
              "    .dataframe tbody tr th {\n",
              "        vertical-align: top;\n",
              "    }\n",
              "\n",
              "    .dataframe thead th {\n",
              "        text-align: right;\n",
              "    }\n",
              "</style>\n",
              "<table border=\"1\" class=\"dataframe\">\n",
              "  <thead>\n",
              "    <tr style=\"text-align: right;\">\n",
              "      <th></th>\n",
              "      <th>TransactionID</th>\n",
              "      <th>id_01</th>\n",
              "      <th>id_02</th>\n",
              "      <th>id_03</th>\n",
              "      <th>id_04</th>\n",
              "      <th>id_05</th>\n",
              "      <th>id_06</th>\n",
              "      <th>id_07</th>\n",
              "      <th>id_08</th>\n",
              "      <th>id_09</th>\n",
              "      <th>...</th>\n",
              "      <th>id_31</th>\n",
              "      <th>id_32</th>\n",
              "      <th>id_33</th>\n",
              "      <th>id_34</th>\n",
              "      <th>id_35</th>\n",
              "      <th>id_36</th>\n",
              "      <th>id_37</th>\n",
              "      <th>id_38</th>\n",
              "      <th>DeviceType</th>\n",
              "      <th>DeviceInfo</th>\n",
              "    </tr>\n",
              "  </thead>\n",
              "  <tbody>\n",
              "    <tr>\n",
              "      <th>0</th>\n",
              "      <td>2987004</td>\n",
              "      <td>0.0</td>\n",
              "      <td>70787.0</td>\n",
              "      <td>NaN</td>\n",
              "      <td>NaN</td>\n",
              "      <td>NaN</td>\n",
              "      <td>NaN</td>\n",
              "      <td>NaN</td>\n",
              "      <td>NaN</td>\n",
              "      <td>NaN</td>\n",
              "      <td>...</td>\n",
              "      <td>samsung browser 6.2</td>\n",
              "      <td>32.0</td>\n",
              "      <td>2220x1080</td>\n",
              "      <td>match_status:2</td>\n",
              "      <td>T</td>\n",
              "      <td>F</td>\n",
              "      <td>T</td>\n",
              "      <td>T</td>\n",
              "      <td>mobile</td>\n",
              "      <td>SAMSUNG SM-G892A Build/NRD90M</td>\n",
              "    </tr>\n",
              "    <tr>\n",
              "      <th>1</th>\n",
              "      <td>2987008</td>\n",
              "      <td>-5.0</td>\n",
              "      <td>98945.0</td>\n",
              "      <td>NaN</td>\n",
              "      <td>NaN</td>\n",
              "      <td>0.0</td>\n",
              "      <td>-5.0</td>\n",
              "      <td>NaN</td>\n",
              "      <td>NaN</td>\n",
              "      <td>NaN</td>\n",
              "      <td>...</td>\n",
              "      <td>mobile safari 11.0</td>\n",
              "      <td>32.0</td>\n",
              "      <td>1334x750</td>\n",
              "      <td>match_status:1</td>\n",
              "      <td>T</td>\n",
              "      <td>F</td>\n",
              "      <td>F</td>\n",
              "      <td>T</td>\n",
              "      <td>mobile</td>\n",
              "      <td>iOS Device</td>\n",
              "    </tr>\n",
              "    <tr>\n",
              "      <th>2</th>\n",
              "      <td>2987010</td>\n",
              "      <td>-5.0</td>\n",
              "      <td>191631.0</td>\n",
              "      <td>0.0</td>\n",
              "      <td>0.0</td>\n",
              "      <td>0.0</td>\n",
              "      <td>0.0</td>\n",
              "      <td>NaN</td>\n",
              "      <td>NaN</td>\n",
              "      <td>0.0</td>\n",
              "      <td>...</td>\n",
              "      <td>chrome 62.0</td>\n",
              "      <td>NaN</td>\n",
              "      <td>NaN</td>\n",
              "      <td>NaN</td>\n",
              "      <td>F</td>\n",
              "      <td>F</td>\n",
              "      <td>T</td>\n",
              "      <td>T</td>\n",
              "      <td>desktop</td>\n",
              "      <td>Windows</td>\n",
              "    </tr>\n",
              "    <tr>\n",
              "      <th>3</th>\n",
              "      <td>2987011</td>\n",
              "      <td>-5.0</td>\n",
              "      <td>221832.0</td>\n",
              "      <td>NaN</td>\n",
              "      <td>NaN</td>\n",
              "      <td>0.0</td>\n",
              "      <td>-6.0</td>\n",
              "      <td>NaN</td>\n",
              "      <td>NaN</td>\n",
              "      <td>NaN</td>\n",
              "      <td>...</td>\n",
              "      <td>chrome 62.0</td>\n",
              "      <td>NaN</td>\n",
              "      <td>NaN</td>\n",
              "      <td>NaN</td>\n",
              "      <td>F</td>\n",
              "      <td>F</td>\n",
              "      <td>T</td>\n",
              "      <td>T</td>\n",
              "      <td>desktop</td>\n",
              "      <td>NaN</td>\n",
              "    </tr>\n",
              "    <tr>\n",
              "      <th>4</th>\n",
              "      <td>2987016</td>\n",
              "      <td>0.0</td>\n",
              "      <td>7460.0</td>\n",
              "      <td>0.0</td>\n",
              "      <td>0.0</td>\n",
              "      <td>1.0</td>\n",
              "      <td>0.0</td>\n",
              "      <td>NaN</td>\n",
              "      <td>NaN</td>\n",
              "      <td>0.0</td>\n",
              "      <td>...</td>\n",
              "      <td>chrome 62.0</td>\n",
              "      <td>24.0</td>\n",
              "      <td>1280x800</td>\n",
              "      <td>match_status:2</td>\n",
              "      <td>T</td>\n",
              "      <td>F</td>\n",
              "      <td>T</td>\n",
              "      <td>T</td>\n",
              "      <td>desktop</td>\n",
              "      <td>MacOS</td>\n",
              "    </tr>\n",
              "    <tr>\n",
              "      <th>5</th>\n",
              "      <td>2987017</td>\n",
              "      <td>-5.0</td>\n",
              "      <td>61141.0</td>\n",
              "      <td>3.0</td>\n",
              "      <td>0.0</td>\n",
              "      <td>3.0</td>\n",
              "      <td>0.0</td>\n",
              "      <td>NaN</td>\n",
              "      <td>NaN</td>\n",
              "      <td>3.0</td>\n",
              "      <td>...</td>\n",
              "      <td>chrome 62.0</td>\n",
              "      <td>24.0</td>\n",
              "      <td>1366x768</td>\n",
              "      <td>match_status:2</td>\n",
              "      <td>T</td>\n",
              "      <td>F</td>\n",
              "      <td>T</td>\n",
              "      <td>T</td>\n",
              "      <td>desktop</td>\n",
              "      <td>Windows</td>\n",
              "    </tr>\n",
              "    <tr>\n",
              "      <th>6</th>\n",
              "      <td>2987022</td>\n",
              "      <td>-15.0</td>\n",
              "      <td>NaN</td>\n",
              "      <td>NaN</td>\n",
              "      <td>NaN</td>\n",
              "      <td>NaN</td>\n",
              "      <td>NaN</td>\n",
              "      <td>NaN</td>\n",
              "      <td>NaN</td>\n",
              "      <td>NaN</td>\n",
              "      <td>...</td>\n",
              "      <td>NaN</td>\n",
              "      <td>NaN</td>\n",
              "      <td>NaN</td>\n",
              "      <td>NaN</td>\n",
              "      <td>NaN</td>\n",
              "      <td>NaN</td>\n",
              "      <td>NaN</td>\n",
              "      <td>NaN</td>\n",
              "      <td>NaN</td>\n",
              "      <td>NaN</td>\n",
              "    </tr>\n",
              "    <tr>\n",
              "      <th>7</th>\n",
              "      <td>2987038</td>\n",
              "      <td>0.0</td>\n",
              "      <td>31964.0</td>\n",
              "      <td>0.0</td>\n",
              "      <td>0.0</td>\n",
              "      <td>0.0</td>\n",
              "      <td>-10.0</td>\n",
              "      <td>NaN</td>\n",
              "      <td>NaN</td>\n",
              "      <td>0.0</td>\n",
              "      <td>...</td>\n",
              "      <td>chrome 62.0</td>\n",
              "      <td>32.0</td>\n",
              "      <td>1920x1080</td>\n",
              "      <td>match_status:2</td>\n",
              "      <td>T</td>\n",
              "      <td>F</td>\n",
              "      <td>T</td>\n",
              "      <td>T</td>\n",
              "      <td>mobile</td>\n",
              "      <td>NaN</td>\n",
              "    </tr>\n",
              "    <tr>\n",
              "      <th>8</th>\n",
              "      <td>2987040</td>\n",
              "      <td>-10.0</td>\n",
              "      <td>116098.0</td>\n",
              "      <td>0.0</td>\n",
              "      <td>0.0</td>\n",
              "      <td>0.0</td>\n",
              "      <td>0.0</td>\n",
              "      <td>NaN</td>\n",
              "      <td>NaN</td>\n",
              "      <td>0.0</td>\n",
              "      <td>...</td>\n",
              "      <td>chrome 62.0</td>\n",
              "      <td>NaN</td>\n",
              "      <td>NaN</td>\n",
              "      <td>NaN</td>\n",
              "      <td>F</td>\n",
              "      <td>F</td>\n",
              "      <td>T</td>\n",
              "      <td>T</td>\n",
              "      <td>desktop</td>\n",
              "      <td>Windows</td>\n",
              "    </tr>\n",
              "    <tr>\n",
              "      <th>9</th>\n",
              "      <td>2987048</td>\n",
              "      <td>-5.0</td>\n",
              "      <td>257037.0</td>\n",
              "      <td>NaN</td>\n",
              "      <td>NaN</td>\n",
              "      <td>0.0</td>\n",
              "      <td>0.0</td>\n",
              "      <td>NaN</td>\n",
              "      <td>NaN</td>\n",
              "      <td>NaN</td>\n",
              "      <td>...</td>\n",
              "      <td>chrome 62.0</td>\n",
              "      <td>NaN</td>\n",
              "      <td>NaN</td>\n",
              "      <td>NaN</td>\n",
              "      <td>F</td>\n",
              "      <td>F</td>\n",
              "      <td>T</td>\n",
              "      <td>T</td>\n",
              "      <td>desktop</td>\n",
              "      <td>Windows</td>\n",
              "    </tr>\n",
              "  </tbody>\n",
              "</table>\n",
              "<p>10 rows × 41 columns</p>\n",
              "</div>\n",
              "      <button class=\"colab-df-convert\" onclick=\"convertToInteractive('df-7530fccc-9fdd-4f83-8ca9-2609b130b512')\"\n",
              "              title=\"Convert this dataframe to an interactive table.\"\n",
              "              style=\"display:none;\">\n",
              "        \n",
              "  <svg xmlns=\"http://www.w3.org/2000/svg\" height=\"24px\"viewBox=\"0 0 24 24\"\n",
              "       width=\"24px\">\n",
              "    <path d=\"M0 0h24v24H0V0z\" fill=\"none\"/>\n",
              "    <path d=\"M18.56 5.44l.94 2.06.94-2.06 2.06-.94-2.06-.94-.94-2.06-.94 2.06-2.06.94zm-11 1L8.5 8.5l.94-2.06 2.06-.94-2.06-.94L8.5 2.5l-.94 2.06-2.06.94zm10 10l.94 2.06.94-2.06 2.06-.94-2.06-.94-.94-2.06-.94 2.06-2.06.94z\"/><path d=\"M17.41 7.96l-1.37-1.37c-.4-.4-.92-.59-1.43-.59-.52 0-1.04.2-1.43.59L10.3 9.45l-7.72 7.72c-.78.78-.78 2.05 0 2.83L4 21.41c.39.39.9.59 1.41.59.51 0 1.02-.2 1.41-.59l7.78-7.78 2.81-2.81c.8-.78.8-2.07 0-2.86zM5.41 20L4 18.59l7.72-7.72 1.47 1.35L5.41 20z\"/>\n",
              "  </svg>\n",
              "      </button>\n",
              "      \n",
              "  <style>\n",
              "    .colab-df-container {\n",
              "      display:flex;\n",
              "      flex-wrap:wrap;\n",
              "      gap: 12px;\n",
              "    }\n",
              "\n",
              "    .colab-df-convert {\n",
              "      background-color: #E8F0FE;\n",
              "      border: none;\n",
              "      border-radius: 50%;\n",
              "      cursor: pointer;\n",
              "      display: none;\n",
              "      fill: #1967D2;\n",
              "      height: 32px;\n",
              "      padding: 0 0 0 0;\n",
              "      width: 32px;\n",
              "    }\n",
              "\n",
              "    .colab-df-convert:hover {\n",
              "      background-color: #E2EBFA;\n",
              "      box-shadow: 0px 1px 2px rgba(60, 64, 67, 0.3), 0px 1px 3px 1px rgba(60, 64, 67, 0.15);\n",
              "      fill: #174EA6;\n",
              "    }\n",
              "\n",
              "    [theme=dark] .colab-df-convert {\n",
              "      background-color: #3B4455;\n",
              "      fill: #D2E3FC;\n",
              "    }\n",
              "\n",
              "    [theme=dark] .colab-df-convert:hover {\n",
              "      background-color: #434B5C;\n",
              "      box-shadow: 0px 1px 3px 1px rgba(0, 0, 0, 0.15);\n",
              "      filter: drop-shadow(0px 1px 2px rgba(0, 0, 0, 0.3));\n",
              "      fill: #FFFFFF;\n",
              "    }\n",
              "  </style>\n",
              "\n",
              "      <script>\n",
              "        const buttonEl =\n",
              "          document.querySelector('#df-7530fccc-9fdd-4f83-8ca9-2609b130b512 button.colab-df-convert');\n",
              "        buttonEl.style.display =\n",
              "          google.colab.kernel.accessAllowed ? 'block' : 'none';\n",
              "\n",
              "        async function convertToInteractive(key) {\n",
              "          const element = document.querySelector('#df-7530fccc-9fdd-4f83-8ca9-2609b130b512');\n",
              "          const dataTable =\n",
              "            await google.colab.kernel.invokeFunction('convertToInteractive',\n",
              "                                                     [key], {});\n",
              "          if (!dataTable) return;\n",
              "\n",
              "          const docLinkHtml = 'Like what you see? Visit the ' +\n",
              "            '<a target=\"_blank\" href=https://colab.research.google.com/notebooks/data_table.ipynb>data table notebook</a>'\n",
              "            + ' to learn more about interactive tables.';\n",
              "          element.innerHTML = '';\n",
              "          dataTable['output_type'] = 'display_data';\n",
              "          await google.colab.output.renderOutput(dataTable, element);\n",
              "          const docLink = document.createElement('div');\n",
              "          docLink.innerHTML = docLinkHtml;\n",
              "          element.appendChild(docLink);\n",
              "        }\n",
              "      </script>\n",
              "    </div>\n",
              "  </div>\n",
              "  "
            ]
          },
          "metadata": {},
          "execution_count": 2
        }
      ]
    },
    {
      "cell_type": "code",
      "source": [
        "#Se imprimen las columnas para poder identificarlas y seleccionar cuáles serán susceptibles de análisis. \n",
        "#Para esto, tomaremos solamente la tabla de identidad\n",
        "dftid.columns"
      ],
      "metadata": {
        "colab": {
          "base_uri": "https://localhost:8080/"
        },
        "id": "mTUaN9or8GG2",
        "outputId": "51b56295-f839-4fd2-f6b9-965222dcfe6a"
      },
      "execution_count": 22,
      "outputs": [
        {
          "output_type": "execute_result",
          "data": {
            "text/plain": [
              "Index(['TransactionID', 'id_01', 'id_02', 'id_03', 'id_04', 'id_05', 'id_06',\n",
              "       'id_07', 'id_08', 'id_09', 'id_10', 'id_11', 'id_12', 'id_13', 'id_14',\n",
              "       'id_15', 'id_16', 'id_17', 'id_18', 'id_19', 'id_20', 'id_21', 'id_22',\n",
              "       'id_23', 'id_24', 'id_25', 'id_26', 'id_27', 'id_28', 'id_29', 'id_30',\n",
              "       'id_31', 'id_32', 'id_33', 'id_34', 'id_35', 'id_36', 'id_37', 'id_38',\n",
              "       'DeviceType', 'DeviceInfo'],\n",
              "      dtype='object')"
            ]
          },
          "metadata": {},
          "execution_count": 22
        }
      ]
    },
    {
      "cell_type": "code",
      "source": [
        "#Para cumplir el requerimiento solicitado por el trabajo académico, tenemos 41 columnas y 141.907 instancias\n",
        "dftid.shape"
      ],
      "metadata": {
        "colab": {
          "base_uri": "https://localhost:8080/"
        },
        "id": "qzR-kqEA8ICw",
        "outputId": "583d23cb-9ffd-46f0-ab4a-e5ca49ed41d1"
      },
      "execution_count": 12,
      "outputs": [
        {
          "output_type": "execute_result",
          "data": {
            "text/plain": [
              "(144233, 41)"
            ]
          },
          "metadata": {},
          "execution_count": 12
        }
      ]
    },
    {
      "cell_type": "code",
      "source": [
        "#Y la info exacta del DF\n",
        "dftid.info() "
      ],
      "metadata": {
        "colab": {
          "base_uri": "https://localhost:8080/"
        },
        "id": "Han3GLxt8JjU",
        "outputId": "01fd534a-0759-49b8-e536-e44949e84e76"
      },
      "execution_count": 13,
      "outputs": [
        {
          "output_type": "stream",
          "name": "stdout",
          "text": [
            "<class 'pandas.core.frame.DataFrame'>\n",
            "RangeIndex: 144233 entries, 0 to 144232\n",
            "Data columns (total 41 columns):\n",
            " #   Column         Non-Null Count   Dtype  \n",
            "---  ------         --------------   -----  \n",
            " 0   TransactionID  144233 non-null  int64  \n",
            " 1   id_01          144233 non-null  float64\n",
            " 2   id_02          140872 non-null  float64\n",
            " 3   id_03          66324 non-null   float64\n",
            " 4   id_04          66324 non-null   float64\n",
            " 5   id_05          136865 non-null  float64\n",
            " 6   id_06          136865 non-null  float64\n",
            " 7   id_07          5155 non-null    float64\n",
            " 8   id_08          5155 non-null    float64\n",
            " 9   id_09          74926 non-null   float64\n",
            " 10  id_10          74926 non-null   float64\n",
            " 11  id_11          140978 non-null  float64\n",
            " 12  id_12          144233 non-null  object \n",
            " 13  id_13          127320 non-null  float64\n",
            " 14  id_14          80044 non-null   float64\n",
            " 15  id_15          140985 non-null  object \n",
            " 16  id_16          129340 non-null  object \n",
            " 17  id_17          139369 non-null  float64\n",
            " 18  id_18          45113 non-null   float64\n",
            " 19  id_19          139318 non-null  float64\n",
            " 20  id_20          139261 non-null  float64\n",
            " 21  id_21          5159 non-null    float64\n",
            " 22  id_22          5169 non-null    float64\n",
            " 23  id_23          5169 non-null    object \n",
            " 24  id_24          4747 non-null    float64\n",
            " 25  id_25          5132 non-null    float64\n",
            " 26  id_26          5163 non-null    float64\n",
            " 27  id_27          5169 non-null    object \n",
            " 28  id_28          140978 non-null  object \n",
            " 29  id_29          140978 non-null  object \n",
            " 30  id_30          77565 non-null   object \n",
            " 31  id_31          140282 non-null  object \n",
            " 32  id_32          77586 non-null   float64\n",
            " 33  id_33          73289 non-null   object \n",
            " 34  id_34          77805 non-null   object \n",
            " 35  id_35          140985 non-null  object \n",
            " 36  id_36          140985 non-null  object \n",
            " 37  id_37          140985 non-null  object \n",
            " 38  id_38          140985 non-null  object \n",
            " 39  DeviceType     140810 non-null  object \n",
            " 40  DeviceInfo     118666 non-null  object \n",
            "dtypes: float64(23), int64(1), object(17)\n",
            "memory usage: 45.1+ MB\n"
          ]
        }
      ]
    },
    {
      "cell_type": "code",
      "source": [
        "#Debemos verificar cuántos valores nulos tenemos en la tabla, para esto hacemos el chequeo asi:\n",
        "check_for_any_nan= dftid.isna().any().any()#Vamos a encontrar cuantos NaN existen en el dataframe\n",
        "total_nan_values = dftid.isna().sum().sum()#Vamos a sumar el total NaN presente en el dataframe\n",
        "fil ,col = dftid.shape\n",
        "num_datos = fil*col\n",
        "print(\"Existen valores NaN: \"+str(check_for_any_nan))\n",
        "print(\"Total de valores NaN: \"+str(total_nan_values))\n",
        "#print(\"El porcentaje de valores NaN: \" +str((total_nan_values*100)/num_datos) + \"%\")\n",
        "print(\"El porcentaje de valores NaN: {:.1f}%\".format(round((total_nan_values*100)/num_datos, 1)))\n"
      ],
      "metadata": {
        "colab": {
          "base_uri": "https://localhost:8080/"
        },
        "id": "811PfKZgP7A8",
        "outputId": "a8e8892d-93f1-499b-ea5a-94bbc0fd62c0"
      },
      "execution_count": 11,
      "outputs": [
        {
          "output_type": "stream",
          "name": "stdout",
          "text": [
            "Existen valores NaN: True\n",
            "Total de valores NaN: 2104107\n",
            "El porcentaje de valores NaN: 35.6%\n"
          ]
        }
      ]
    },
    {
      "cell_type": "markdown",
      "source": [
        "Según el dato anterior, tenemos 2.104.107 de datos nulos, es decir, superior al 5%, ya que tenemos un total de 5.913.553 datos. <br>\n",
        "Con esto se cumple la condición solicitada en el trabajo académico ya que tenemos el 35.6% de datos nulos"
      ],
      "metadata": {
        "id": "seUMXK30Tvkv"
      }
    },
    {
      "cell_type": "code",
      "source": [
        "dftid.isnull().sum() #Columnas con valores nulos"
      ],
      "metadata": {
        "id": "g483FzWS8Vaq",
        "colab": {
          "base_uri": "https://localhost:8080/"
        },
        "outputId": "8836c599-2a9b-485d-d6cc-13700006d8c0"
      },
      "execution_count": 14,
      "outputs": [
        {
          "output_type": "execute_result",
          "data": {
            "text/plain": [
              "TransactionID         0\n",
              "id_01                 0\n",
              "id_02              3361\n",
              "id_03             77909\n",
              "id_04             77909\n",
              "id_05              7368\n",
              "id_06              7368\n",
              "id_07            139078\n",
              "id_08            139078\n",
              "id_09             69307\n",
              "id_10             69307\n",
              "id_11              3255\n",
              "id_12                 0\n",
              "id_13             16913\n",
              "id_14             64189\n",
              "id_15              3248\n",
              "id_16             14893\n",
              "id_17              4864\n",
              "id_18             99120\n",
              "id_19              4915\n",
              "id_20              4972\n",
              "id_21            139074\n",
              "id_22            139064\n",
              "id_23            139064\n",
              "id_24            139486\n",
              "id_25            139101\n",
              "id_26            139070\n",
              "id_27            139064\n",
              "id_28              3255\n",
              "id_29              3255\n",
              "id_30             66668\n",
              "id_31              3951\n",
              "id_32             66647\n",
              "id_33             70944\n",
              "id_34             66428\n",
              "id_35              3248\n",
              "id_36              3248\n",
              "id_37              3248\n",
              "id_38              3248\n",
              "DeviceType         3423\n",
              "DeviceInfo        25567\n",
              "dtype: int64"
            ]
          },
          "metadata": {},
          "execution_count": 14
        }
      ]
    },
    {
      "cell_type": "code",
      "source": [
        "#Queremos saber cual es el promedio de cada columna con valores nulos.\n",
        "dftid.isnull().mean() * 100 "
      ],
      "metadata": {
        "id": "dc9wcD868W3F",
        "colab": {
          "base_uri": "https://localhost:8080/"
        },
        "outputId": "e4cef3e3-39b8-4735-8afd-ded9e4dc8fab"
      },
      "execution_count": 13,
      "outputs": [
        {
          "output_type": "execute_result",
          "data": {
            "text/plain": [
              "TransactionID     0.000000\n",
              "id_01             0.000000\n",
              "id_02             2.330257\n",
              "id_03            54.016071\n",
              "id_04            54.016071\n",
              "id_05             5.108401\n",
              "id_06             5.108401\n",
              "id_07            96.425922\n",
              "id_08            96.425922\n",
              "id_09            48.052110\n",
              "id_10            48.052110\n",
              "id_11             2.256765\n",
              "id_12             0.000000\n",
              "id_13            11.726165\n",
              "id_14            44.503685\n",
              "id_15             2.251912\n",
              "id_16            10.325654\n",
              "id_17             3.372321\n",
              "id_18            68.722137\n",
              "id_19             3.407681\n",
              "id_20             3.447200\n",
              "id_21            96.423149\n",
              "id_22            96.416215\n",
              "id_23            96.416215\n",
              "id_24            96.708798\n",
              "id_25            96.441868\n",
              "id_26            96.420375\n",
              "id_27            96.416215\n",
              "id_28             2.256765\n",
              "id_29             2.256765\n",
              "id_30            46.222432\n",
              "id_31             2.739318\n",
              "id_32            46.207872\n",
              "id_33            49.187079\n",
              "id_34            46.056034\n",
              "id_35             2.251912\n",
              "id_36             2.251912\n",
              "id_37             2.251912\n",
              "id_38             2.251912\n",
              "DeviceType        2.373243\n",
              "DeviceInfo       17.726179\n",
              "dtype: float64"
            ]
          },
          "metadata": {},
          "execution_count": 13
        }
      ]
    },
    {
      "cell_type": "markdown",
      "source": [
        "Del resultado anterior, podemos ver que existen varias columnas con un gran porcentaje de datos nulos, por ende podrían ser susceptibles de ser borradas una vez sean analizados para saber si se tienen en cuenta o no para los fines del trabajo académico."
      ],
      "metadata": {
        "id": "vUQMC2G1VUFk"
      }
    },
    {
      "cell_type": "code",
      "source": [
        "dftid_sinNaN = dftid.dropna() #eliminamos todas las columnas con valores en NaN\n",
        "dftid_sinNaN.isnull().sum() #Verificamos si las filas en NaN fueron eliminadas"
      ],
      "metadata": {
        "colab": {
          "base_uri": "https://localhost:8080/"
        },
        "id": "xM5a_3cXYnzf",
        "outputId": "0bb9ee45-6b55-4d79-e06f-47d5a22ef02d"
      },
      "execution_count": 3,
      "outputs": [
        {
          "output_type": "execute_result",
          "data": {
            "text/plain": [
              "TransactionID    0\n",
              "id_01            0\n",
              "id_02            0\n",
              "id_03            0\n",
              "id_04            0\n",
              "id_05            0\n",
              "id_06            0\n",
              "id_07            0\n",
              "id_08            0\n",
              "id_09            0\n",
              "id_10            0\n",
              "id_11            0\n",
              "id_12            0\n",
              "id_13            0\n",
              "id_14            0\n",
              "id_15            0\n",
              "id_16            0\n",
              "id_17            0\n",
              "id_18            0\n",
              "id_19            0\n",
              "id_20            0\n",
              "id_21            0\n",
              "id_22            0\n",
              "id_23            0\n",
              "id_24            0\n",
              "id_25            0\n",
              "id_26            0\n",
              "id_27            0\n",
              "id_28            0\n",
              "id_29            0\n",
              "id_30            0\n",
              "id_31            0\n",
              "id_32            0\n",
              "id_33            0\n",
              "id_34            0\n",
              "id_35            0\n",
              "id_36            0\n",
              "id_37            0\n",
              "id_38            0\n",
              "DeviceType       0\n",
              "DeviceInfo       0\n",
              "dtype: int64"
            ]
          },
          "metadata": {},
          "execution_count": 3
        }
      ]
    },
    {
      "cell_type": "code",
      "source": [
        "dftid_sinNaN"
      ],
      "metadata": {
        "colab": {
          "base_uri": "https://localhost:8080/",
          "height": 468
        },
        "id": "2rwpt-mXv92n",
        "outputId": "42236b5d-3583-45f8-ad41-39c3b1b2f279"
      },
      "execution_count": 25,
      "outputs": [
        {
          "output_type": "execute_result",
          "data": {
            "text/plain": [
              "        TransactionID  id_01     id_02  id_03  id_04  id_05  id_06  id_07  \\\n",
              "19            2987099  -10.0  129080.0    0.0    0.0    9.0  -43.0   22.0   \n",
              "370           2988702  -20.0  171610.0    0.0    0.0   13.0  -34.0    2.0   \n",
              "372           2988706  -20.0   50100.0    0.0    0.0   12.0  -34.0    2.0   \n",
              "375           2988714  -55.0   83328.0    0.0    0.0    9.0 -100.0   17.0   \n",
              "604           2990059 -100.0  773938.0    0.0    0.0    0.0   -1.0   18.0   \n",
              "...               ...    ...       ...    ...    ...    ...    ...    ...   \n",
              "143395        3572892  -30.0  267420.0    0.0    0.0    9.0  -34.0   16.0   \n",
              "143476        3573334   -5.0   34007.0    0.0    0.0   -6.0  -30.0   25.0   \n",
              "143477        3573336   -5.0   33041.0    0.0    0.0   -6.0  -30.0   27.0   \n",
              "143591        3573907  -20.0    1408.0    0.0    0.0   15.0  -33.0   20.0   \n",
              "144207        3577384  -20.0   50886.0    0.0    0.0   13.0  -34.0   39.0   \n",
              "\n",
              "        id_08  id_09  ...                  id_31  id_32      id_33  \\\n",
              "19      -34.0    0.0  ...  mobile safari generic   32.0   1334x750   \n",
              "370     -33.0    0.0  ...     mobile safari 11.0   32.0  2208x1242   \n",
              "372     -33.0    0.0  ...     mobile safari 11.0   32.0  2208x1242   \n",
              "375     -13.0    0.0  ...    ie 11.0 for desktop   24.0   1440x900   \n",
              "604     -50.0    0.0  ...            chrome 62.0   24.0  1280x1024   \n",
              "...       ...    ...  ...                    ...    ...        ...   \n",
              "143395  -43.0    0.0  ...                 google   32.0  2048x1536   \n",
              "143476  -34.0    0.0  ...     mobile safari 11.0   32.0  2436x1125   \n",
              "143477  -34.0    0.0  ...     mobile safari 11.0   32.0  2436x1125   \n",
              "143591 -100.0    0.0  ...    samsung browser 4.0   32.0  1920x1080   \n",
              "144207 -100.0    0.0  ...     mobile safari 11.0   32.0  2436x1125   \n",
              "\n",
              "                 id_34  id_35 id_36 id_37  id_38  DeviceType  \\\n",
              "19      match_status:2      T     F     T      F      mobile   \n",
              "370     match_status:1      T     F     T      T      mobile   \n",
              "372     match_status:1      T     F     T      T      mobile   \n",
              "375     match_status:2      T     T     T      T     desktop   \n",
              "604     match_status:2      T     F     T      T     desktop   \n",
              "...                ...    ...   ...   ...    ...         ...   \n",
              "143395  match_status:2      T     F     T      F      mobile   \n",
              "143476  match_status:2      T     F     T      T      mobile   \n",
              "143477  match_status:1      T     F     T      T      mobile   \n",
              "143591  match_status:2      T     F     T      T      mobile   \n",
              "144207  match_status:1      T     F     T      T      mobile   \n",
              "\n",
              "                           DeviceInfo  \n",
              "19                         iOS Device  \n",
              "370                        iOS Device  \n",
              "372                        iOS Device  \n",
              "375                       Trident/7.0  \n",
              "604                           Windows  \n",
              "...                               ...  \n",
              "143395                     iOS Device  \n",
              "143476                     iOS Device  \n",
              "143477                     iOS Device  \n",
              "143591  SAMSUNG-SM-G900A Build/MMB29M  \n",
              "144207                     iOS Device  \n",
              "\n",
              "[935 rows x 41 columns]"
            ],
            "text/html": [
              "\n",
              "  <div id=\"df-e302e418-c59c-4bac-9db9-3362b30dee65\">\n",
              "    <div class=\"colab-df-container\">\n",
              "      <div>\n",
              "<style scoped>\n",
              "    .dataframe tbody tr th:only-of-type {\n",
              "        vertical-align: middle;\n",
              "    }\n",
              "\n",
              "    .dataframe tbody tr th {\n",
              "        vertical-align: top;\n",
              "    }\n",
              "\n",
              "    .dataframe thead th {\n",
              "        text-align: right;\n",
              "    }\n",
              "</style>\n",
              "<table border=\"1\" class=\"dataframe\">\n",
              "  <thead>\n",
              "    <tr style=\"text-align: right;\">\n",
              "      <th></th>\n",
              "      <th>TransactionID</th>\n",
              "      <th>id_01</th>\n",
              "      <th>id_02</th>\n",
              "      <th>id_03</th>\n",
              "      <th>id_04</th>\n",
              "      <th>id_05</th>\n",
              "      <th>id_06</th>\n",
              "      <th>id_07</th>\n",
              "      <th>id_08</th>\n",
              "      <th>id_09</th>\n",
              "      <th>...</th>\n",
              "      <th>id_31</th>\n",
              "      <th>id_32</th>\n",
              "      <th>id_33</th>\n",
              "      <th>id_34</th>\n",
              "      <th>id_35</th>\n",
              "      <th>id_36</th>\n",
              "      <th>id_37</th>\n",
              "      <th>id_38</th>\n",
              "      <th>DeviceType</th>\n",
              "      <th>DeviceInfo</th>\n",
              "    </tr>\n",
              "  </thead>\n",
              "  <tbody>\n",
              "    <tr>\n",
              "      <th>19</th>\n",
              "      <td>2987099</td>\n",
              "      <td>-10.0</td>\n",
              "      <td>129080.0</td>\n",
              "      <td>0.0</td>\n",
              "      <td>0.0</td>\n",
              "      <td>9.0</td>\n",
              "      <td>-43.0</td>\n",
              "      <td>22.0</td>\n",
              "      <td>-34.0</td>\n",
              "      <td>0.0</td>\n",
              "      <td>...</td>\n",
              "      <td>mobile safari generic</td>\n",
              "      <td>32.0</td>\n",
              "      <td>1334x750</td>\n",
              "      <td>match_status:2</td>\n",
              "      <td>T</td>\n",
              "      <td>F</td>\n",
              "      <td>T</td>\n",
              "      <td>F</td>\n",
              "      <td>mobile</td>\n",
              "      <td>iOS Device</td>\n",
              "    </tr>\n",
              "    <tr>\n",
              "      <th>370</th>\n",
              "      <td>2988702</td>\n",
              "      <td>-20.0</td>\n",
              "      <td>171610.0</td>\n",
              "      <td>0.0</td>\n",
              "      <td>0.0</td>\n",
              "      <td>13.0</td>\n",
              "      <td>-34.0</td>\n",
              "      <td>2.0</td>\n",
              "      <td>-33.0</td>\n",
              "      <td>0.0</td>\n",
              "      <td>...</td>\n",
              "      <td>mobile safari 11.0</td>\n",
              "      <td>32.0</td>\n",
              "      <td>2208x1242</td>\n",
              "      <td>match_status:1</td>\n",
              "      <td>T</td>\n",
              "      <td>F</td>\n",
              "      <td>T</td>\n",
              "      <td>T</td>\n",
              "      <td>mobile</td>\n",
              "      <td>iOS Device</td>\n",
              "    </tr>\n",
              "    <tr>\n",
              "      <th>372</th>\n",
              "      <td>2988706</td>\n",
              "      <td>-20.0</td>\n",
              "      <td>50100.0</td>\n",
              "      <td>0.0</td>\n",
              "      <td>0.0</td>\n",
              "      <td>12.0</td>\n",
              "      <td>-34.0</td>\n",
              "      <td>2.0</td>\n",
              "      <td>-33.0</td>\n",
              "      <td>0.0</td>\n",
              "      <td>...</td>\n",
              "      <td>mobile safari 11.0</td>\n",
              "      <td>32.0</td>\n",
              "      <td>2208x1242</td>\n",
              "      <td>match_status:1</td>\n",
              "      <td>T</td>\n",
              "      <td>F</td>\n",
              "      <td>T</td>\n",
              "      <td>T</td>\n",
              "      <td>mobile</td>\n",
              "      <td>iOS Device</td>\n",
              "    </tr>\n",
              "    <tr>\n",
              "      <th>375</th>\n",
              "      <td>2988714</td>\n",
              "      <td>-55.0</td>\n",
              "      <td>83328.0</td>\n",
              "      <td>0.0</td>\n",
              "      <td>0.0</td>\n",
              "      <td>9.0</td>\n",
              "      <td>-100.0</td>\n",
              "      <td>17.0</td>\n",
              "      <td>-13.0</td>\n",
              "      <td>0.0</td>\n",
              "      <td>...</td>\n",
              "      <td>ie 11.0 for desktop</td>\n",
              "      <td>24.0</td>\n",
              "      <td>1440x900</td>\n",
              "      <td>match_status:2</td>\n",
              "      <td>T</td>\n",
              "      <td>T</td>\n",
              "      <td>T</td>\n",
              "      <td>T</td>\n",
              "      <td>desktop</td>\n",
              "      <td>Trident/7.0</td>\n",
              "    </tr>\n",
              "    <tr>\n",
              "      <th>604</th>\n",
              "      <td>2990059</td>\n",
              "      <td>-100.0</td>\n",
              "      <td>773938.0</td>\n",
              "      <td>0.0</td>\n",
              "      <td>0.0</td>\n",
              "      <td>0.0</td>\n",
              "      <td>-1.0</td>\n",
              "      <td>18.0</td>\n",
              "      <td>-50.0</td>\n",
              "      <td>0.0</td>\n",
              "      <td>...</td>\n",
              "      <td>chrome 62.0</td>\n",
              "      <td>24.0</td>\n",
              "      <td>1280x1024</td>\n",
              "      <td>match_status:2</td>\n",
              "      <td>T</td>\n",
              "      <td>F</td>\n",
              "      <td>T</td>\n",
              "      <td>T</td>\n",
              "      <td>desktop</td>\n",
              "      <td>Windows</td>\n",
              "    </tr>\n",
              "    <tr>\n",
              "      <th>...</th>\n",
              "      <td>...</td>\n",
              "      <td>...</td>\n",
              "      <td>...</td>\n",
              "      <td>...</td>\n",
              "      <td>...</td>\n",
              "      <td>...</td>\n",
              "      <td>...</td>\n",
              "      <td>...</td>\n",
              "      <td>...</td>\n",
              "      <td>...</td>\n",
              "      <td>...</td>\n",
              "      <td>...</td>\n",
              "      <td>...</td>\n",
              "      <td>...</td>\n",
              "      <td>...</td>\n",
              "      <td>...</td>\n",
              "      <td>...</td>\n",
              "      <td>...</td>\n",
              "      <td>...</td>\n",
              "      <td>...</td>\n",
              "      <td>...</td>\n",
              "    </tr>\n",
              "    <tr>\n",
              "      <th>143395</th>\n",
              "      <td>3572892</td>\n",
              "      <td>-30.0</td>\n",
              "      <td>267420.0</td>\n",
              "      <td>0.0</td>\n",
              "      <td>0.0</td>\n",
              "      <td>9.0</td>\n",
              "      <td>-34.0</td>\n",
              "      <td>16.0</td>\n",
              "      <td>-43.0</td>\n",
              "      <td>0.0</td>\n",
              "      <td>...</td>\n",
              "      <td>google</td>\n",
              "      <td>32.0</td>\n",
              "      <td>2048x1536</td>\n",
              "      <td>match_status:2</td>\n",
              "      <td>T</td>\n",
              "      <td>F</td>\n",
              "      <td>T</td>\n",
              "      <td>F</td>\n",
              "      <td>mobile</td>\n",
              "      <td>iOS Device</td>\n",
              "    </tr>\n",
              "    <tr>\n",
              "      <th>143476</th>\n",
              "      <td>3573334</td>\n",
              "      <td>-5.0</td>\n",
              "      <td>34007.0</td>\n",
              "      <td>0.0</td>\n",
              "      <td>0.0</td>\n",
              "      <td>-6.0</td>\n",
              "      <td>-30.0</td>\n",
              "      <td>25.0</td>\n",
              "      <td>-34.0</td>\n",
              "      <td>0.0</td>\n",
              "      <td>...</td>\n",
              "      <td>mobile safari 11.0</td>\n",
              "      <td>32.0</td>\n",
              "      <td>2436x1125</td>\n",
              "      <td>match_status:2</td>\n",
              "      <td>T</td>\n",
              "      <td>F</td>\n",
              "      <td>T</td>\n",
              "      <td>T</td>\n",
              "      <td>mobile</td>\n",
              "      <td>iOS Device</td>\n",
              "    </tr>\n",
              "    <tr>\n",
              "      <th>143477</th>\n",
              "      <td>3573336</td>\n",
              "      <td>-5.0</td>\n",
              "      <td>33041.0</td>\n",
              "      <td>0.0</td>\n",
              "      <td>0.0</td>\n",
              "      <td>-6.0</td>\n",
              "      <td>-30.0</td>\n",
              "      <td>27.0</td>\n",
              "      <td>-34.0</td>\n",
              "      <td>0.0</td>\n",
              "      <td>...</td>\n",
              "      <td>mobile safari 11.0</td>\n",
              "      <td>32.0</td>\n",
              "      <td>2436x1125</td>\n",
              "      <td>match_status:1</td>\n",
              "      <td>T</td>\n",
              "      <td>F</td>\n",
              "      <td>T</td>\n",
              "      <td>T</td>\n",
              "      <td>mobile</td>\n",
              "      <td>iOS Device</td>\n",
              "    </tr>\n",
              "    <tr>\n",
              "      <th>143591</th>\n",
              "      <td>3573907</td>\n",
              "      <td>-20.0</td>\n",
              "      <td>1408.0</td>\n",
              "      <td>0.0</td>\n",
              "      <td>0.0</td>\n",
              "      <td>15.0</td>\n",
              "      <td>-33.0</td>\n",
              "      <td>20.0</td>\n",
              "      <td>-100.0</td>\n",
              "      <td>0.0</td>\n",
              "      <td>...</td>\n",
              "      <td>samsung browser 4.0</td>\n",
              "      <td>32.0</td>\n",
              "      <td>1920x1080</td>\n",
              "      <td>match_status:2</td>\n",
              "      <td>T</td>\n",
              "      <td>F</td>\n",
              "      <td>T</td>\n",
              "      <td>T</td>\n",
              "      <td>mobile</td>\n",
              "      <td>SAMSUNG-SM-G900A Build/MMB29M</td>\n",
              "    </tr>\n",
              "    <tr>\n",
              "      <th>144207</th>\n",
              "      <td>3577384</td>\n",
              "      <td>-20.0</td>\n",
              "      <td>50886.0</td>\n",
              "      <td>0.0</td>\n",
              "      <td>0.0</td>\n",
              "      <td>13.0</td>\n",
              "      <td>-34.0</td>\n",
              "      <td>39.0</td>\n",
              "      <td>-100.0</td>\n",
              "      <td>0.0</td>\n",
              "      <td>...</td>\n",
              "      <td>mobile safari 11.0</td>\n",
              "      <td>32.0</td>\n",
              "      <td>2436x1125</td>\n",
              "      <td>match_status:1</td>\n",
              "      <td>T</td>\n",
              "      <td>F</td>\n",
              "      <td>T</td>\n",
              "      <td>T</td>\n",
              "      <td>mobile</td>\n",
              "      <td>iOS Device</td>\n",
              "    </tr>\n",
              "  </tbody>\n",
              "</table>\n",
              "<p>935 rows × 41 columns</p>\n",
              "</div>\n",
              "      <button class=\"colab-df-convert\" onclick=\"convertToInteractive('df-e302e418-c59c-4bac-9db9-3362b30dee65')\"\n",
              "              title=\"Convert this dataframe to an interactive table.\"\n",
              "              style=\"display:none;\">\n",
              "        \n",
              "  <svg xmlns=\"http://www.w3.org/2000/svg\" height=\"24px\"viewBox=\"0 0 24 24\"\n",
              "       width=\"24px\">\n",
              "    <path d=\"M0 0h24v24H0V0z\" fill=\"none\"/>\n",
              "    <path d=\"M18.56 5.44l.94 2.06.94-2.06 2.06-.94-2.06-.94-.94-2.06-.94 2.06-2.06.94zm-11 1L8.5 8.5l.94-2.06 2.06-.94-2.06-.94L8.5 2.5l-.94 2.06-2.06.94zm10 10l.94 2.06.94-2.06 2.06-.94-2.06-.94-.94-2.06-.94 2.06-2.06.94z\"/><path d=\"M17.41 7.96l-1.37-1.37c-.4-.4-.92-.59-1.43-.59-.52 0-1.04.2-1.43.59L10.3 9.45l-7.72 7.72c-.78.78-.78 2.05 0 2.83L4 21.41c.39.39.9.59 1.41.59.51 0 1.02-.2 1.41-.59l7.78-7.78 2.81-2.81c.8-.78.8-2.07 0-2.86zM5.41 20L4 18.59l7.72-7.72 1.47 1.35L5.41 20z\"/>\n",
              "  </svg>\n",
              "      </button>\n",
              "      \n",
              "  <style>\n",
              "    .colab-df-container {\n",
              "      display:flex;\n",
              "      flex-wrap:wrap;\n",
              "      gap: 12px;\n",
              "    }\n",
              "\n",
              "    .colab-df-convert {\n",
              "      background-color: #E8F0FE;\n",
              "      border: none;\n",
              "      border-radius: 50%;\n",
              "      cursor: pointer;\n",
              "      display: none;\n",
              "      fill: #1967D2;\n",
              "      height: 32px;\n",
              "      padding: 0 0 0 0;\n",
              "      width: 32px;\n",
              "    }\n",
              "\n",
              "    .colab-df-convert:hover {\n",
              "      background-color: #E2EBFA;\n",
              "      box-shadow: 0px 1px 2px rgba(60, 64, 67, 0.3), 0px 1px 3px 1px rgba(60, 64, 67, 0.15);\n",
              "      fill: #174EA6;\n",
              "    }\n",
              "\n",
              "    [theme=dark] .colab-df-convert {\n",
              "      background-color: #3B4455;\n",
              "      fill: #D2E3FC;\n",
              "    }\n",
              "\n",
              "    [theme=dark] .colab-df-convert:hover {\n",
              "      background-color: #434B5C;\n",
              "      box-shadow: 0px 1px 3px 1px rgba(0, 0, 0, 0.15);\n",
              "      filter: drop-shadow(0px 1px 2px rgba(0, 0, 0, 0.3));\n",
              "      fill: #FFFFFF;\n",
              "    }\n",
              "  </style>\n",
              "\n",
              "      <script>\n",
              "        const buttonEl =\n",
              "          document.querySelector('#df-e302e418-c59c-4bac-9db9-3362b30dee65 button.colab-df-convert');\n",
              "        buttonEl.style.display =\n",
              "          google.colab.kernel.accessAllowed ? 'block' : 'none';\n",
              "\n",
              "        async function convertToInteractive(key) {\n",
              "          const element = document.querySelector('#df-e302e418-c59c-4bac-9db9-3362b30dee65');\n",
              "          const dataTable =\n",
              "            await google.colab.kernel.invokeFunction('convertToInteractive',\n",
              "                                                     [key], {});\n",
              "          if (!dataTable) return;\n",
              "\n",
              "          const docLinkHtml = 'Like what you see? Visit the ' +\n",
              "            '<a target=\"_blank\" href=https://colab.research.google.com/notebooks/data_table.ipynb>data table notebook</a>'\n",
              "            + ' to learn more about interactive tables.';\n",
              "          element.innerHTML = '';\n",
              "          dataTable['output_type'] = 'display_data';\n",
              "          await google.colab.output.renderOutput(dataTable, element);\n",
              "          const docLink = document.createElement('div');\n",
              "          docLink.innerHTML = docLinkHtml;\n",
              "          element.appendChild(docLink);\n",
              "        }\n",
              "      </script>\n",
              "    </div>\n",
              "  </div>\n",
              "  "
            ]
          },
          "metadata": {},
          "execution_count": 25
        }
      ]
    },
    {
      "cell_type": "code",
      "source": [
        "dftid_sinNaN.info() #comprobamos que ya no hay datos nulos"
      ],
      "metadata": {
        "colab": {
          "base_uri": "https://localhost:8080/"
        },
        "id": "-P4_GCtWZcYj",
        "outputId": "b3e732c7-959a-4eac-9978-ae9c3ad54a56"
      },
      "execution_count": 16,
      "outputs": [
        {
          "output_type": "stream",
          "name": "stdout",
          "text": [
            "<class 'pandas.core.frame.DataFrame'>\n",
            "Int64Index: 935 entries, 19 to 144207\n",
            "Data columns (total 41 columns):\n",
            " #   Column         Non-Null Count  Dtype  \n",
            "---  ------         --------------  -----  \n",
            " 0   TransactionID  935 non-null    int64  \n",
            " 1   id_01          935 non-null    float64\n",
            " 2   id_02          935 non-null    float64\n",
            " 3   id_03          935 non-null    float64\n",
            " 4   id_04          935 non-null    float64\n",
            " 5   id_05          935 non-null    float64\n",
            " 6   id_06          935 non-null    float64\n",
            " 7   id_07          935 non-null    float64\n",
            " 8   id_08          935 non-null    float64\n",
            " 9   id_09          935 non-null    float64\n",
            " 10  id_10          935 non-null    float64\n",
            " 11  id_11          935 non-null    float64\n",
            " 12  id_12          935 non-null    object \n",
            " 13  id_13          935 non-null    float64\n",
            " 14  id_14          935 non-null    float64\n",
            " 15  id_15          935 non-null    object \n",
            " 16  id_16          935 non-null    object \n",
            " 17  id_17          935 non-null    float64\n",
            " 18  id_18          935 non-null    float64\n",
            " 19  id_19          935 non-null    float64\n",
            " 20  id_20          935 non-null    float64\n",
            " 21  id_21          935 non-null    float64\n",
            " 22  id_22          935 non-null    float64\n",
            " 23  id_23          935 non-null    object \n",
            " 24  id_24          935 non-null    float64\n",
            " 25  id_25          935 non-null    float64\n",
            " 26  id_26          935 non-null    float64\n",
            " 27  id_27          935 non-null    object \n",
            " 28  id_28          935 non-null    object \n",
            " 29  id_29          935 non-null    object \n",
            " 30  id_30          935 non-null    object \n",
            " 31  id_31          935 non-null    object \n",
            " 32  id_32          935 non-null    float64\n",
            " 33  id_33          935 non-null    object \n",
            " 34  id_34          935 non-null    object \n",
            " 35  id_35          935 non-null    object \n",
            " 36  id_36          935 non-null    object \n",
            " 37  id_37          935 non-null    object \n",
            " 38  id_38          935 non-null    object \n",
            " 39  DeviceType     935 non-null    object \n",
            " 40  DeviceInfo     935 non-null    object \n",
            "dtypes: float64(23), int64(1), object(17)\n",
            "memory usage: 306.8+ KB\n"
          ]
        }
      ]
    },
    {
      "cell_type": "code",
      "source": [
        "#creamos una nueva tabla 'identidad' con las columnas seleccionadas, ya que no necesitamos todo el dataset original para hacer los análisis que nos interesan.\n",
        "\n",
        "identidad = dftid[['TransactionID', 'id_23', 'id_30', 'id_31', 'id_33', 'DeviceType', 'DeviceInfo']].copy()"
      ],
      "metadata": {
        "id": "WJLQ0PfEZsMl"
      },
      "execution_count": 4,
      "outputs": []
    },
    {
      "cell_type": "code",
      "source": [
        "#cambiamos los nombres de las columnas en la tabla 'transacciones' por los que nos interesan para que sean identificables\n",
        "identidad = identidad.rename(columns={'TransactionID': 'IdTransaccion',\n",
        "                                              'id_23': 'Proxy',\n",
        "                                              'id_30': 'SistemaOperativo',\n",
        "                                              'id_31': 'Navegador',\n",
        "                                              'id_33': 'Resolucion',\n",
        "                                              'DeviceType': 'TipoDispositivo',\n",
        "                                              'DeviceInfo': 'InfoDispositivo'})\n",
        "identidad"
      ],
      "metadata": {
        "colab": {
          "base_uri": "https://localhost:8080/",
          "height": 424
        },
        "id": "AijDhVNsZ2QS",
        "outputId": "72e01d21-5b5c-45d4-d262-6f352eb442ae"
      },
      "execution_count": 5,
      "outputs": [
        {
          "output_type": "execute_result",
          "data": {
            "text/plain": [
              "        IdTransaccion Proxy  SistemaOperativo                Navegador  \\\n",
              "0             2987004   NaN       Android 7.0      samsung browser 6.2   \n",
              "1             2987008   NaN        iOS 11.1.2       mobile safari 11.0   \n",
              "2             2987010   NaN               NaN              chrome 62.0   \n",
              "3             2987011   NaN               NaN              chrome 62.0   \n",
              "4             2987016   NaN  Mac OS X 10_11_6              chrome 62.0   \n",
              "...               ...   ...               ...                      ...   \n",
              "144228        3577521   NaN               NaN  chrome 66.0 for android   \n",
              "144229        3577526   NaN     Android 7.1.1  chrome 55.0 for android   \n",
              "144230        3577529   NaN               NaN  chrome 65.0 for android   \n",
              "144231        3577531   NaN   Mac OS X 10_9_5              chrome 66.0   \n",
              "144232        3577534   NaN               NaN  chrome 66.0 for android   \n",
              "\n",
              "       Resolucion TipoDispositivo                     InfoDispositivo  \n",
              "0       2220x1080          mobile       SAMSUNG SM-G892A Build/NRD90M  \n",
              "1        1334x750          mobile                          iOS Device  \n",
              "2             NaN         desktop                             Windows  \n",
              "3             NaN         desktop                                 NaN  \n",
              "4        1280x800         desktop                               MacOS  \n",
              "...           ...             ...                                 ...  \n",
              "144228        NaN          mobile             F3111 Build/33.3.A.1.97  \n",
              "144229    855x480          mobile                 A574BL Build/NMF26F  \n",
              "144230        NaN          mobile  Moto E (4) Plus Build/NMA26.42-152  \n",
              "144231  2560x1600         desktop                               MacOS  \n",
              "144232        NaN          mobile         RNE-L03 Build/HUAWEIRNE-L03  \n",
              "\n",
              "[144233 rows x 7 columns]"
            ],
            "text/html": [
              "\n",
              "  <div id=\"df-e18e0e7c-0355-4de5-82c7-78e71e58dcf2\">\n",
              "    <div class=\"colab-df-container\">\n",
              "      <div>\n",
              "<style scoped>\n",
              "    .dataframe tbody tr th:only-of-type {\n",
              "        vertical-align: middle;\n",
              "    }\n",
              "\n",
              "    .dataframe tbody tr th {\n",
              "        vertical-align: top;\n",
              "    }\n",
              "\n",
              "    .dataframe thead th {\n",
              "        text-align: right;\n",
              "    }\n",
              "</style>\n",
              "<table border=\"1\" class=\"dataframe\">\n",
              "  <thead>\n",
              "    <tr style=\"text-align: right;\">\n",
              "      <th></th>\n",
              "      <th>IdTransaccion</th>\n",
              "      <th>Proxy</th>\n",
              "      <th>SistemaOperativo</th>\n",
              "      <th>Navegador</th>\n",
              "      <th>Resolucion</th>\n",
              "      <th>TipoDispositivo</th>\n",
              "      <th>InfoDispositivo</th>\n",
              "    </tr>\n",
              "  </thead>\n",
              "  <tbody>\n",
              "    <tr>\n",
              "      <th>0</th>\n",
              "      <td>2987004</td>\n",
              "      <td>NaN</td>\n",
              "      <td>Android 7.0</td>\n",
              "      <td>samsung browser 6.2</td>\n",
              "      <td>2220x1080</td>\n",
              "      <td>mobile</td>\n",
              "      <td>SAMSUNG SM-G892A Build/NRD90M</td>\n",
              "    </tr>\n",
              "    <tr>\n",
              "      <th>1</th>\n",
              "      <td>2987008</td>\n",
              "      <td>NaN</td>\n",
              "      <td>iOS 11.1.2</td>\n",
              "      <td>mobile safari 11.0</td>\n",
              "      <td>1334x750</td>\n",
              "      <td>mobile</td>\n",
              "      <td>iOS Device</td>\n",
              "    </tr>\n",
              "    <tr>\n",
              "      <th>2</th>\n",
              "      <td>2987010</td>\n",
              "      <td>NaN</td>\n",
              "      <td>NaN</td>\n",
              "      <td>chrome 62.0</td>\n",
              "      <td>NaN</td>\n",
              "      <td>desktop</td>\n",
              "      <td>Windows</td>\n",
              "    </tr>\n",
              "    <tr>\n",
              "      <th>3</th>\n",
              "      <td>2987011</td>\n",
              "      <td>NaN</td>\n",
              "      <td>NaN</td>\n",
              "      <td>chrome 62.0</td>\n",
              "      <td>NaN</td>\n",
              "      <td>desktop</td>\n",
              "      <td>NaN</td>\n",
              "    </tr>\n",
              "    <tr>\n",
              "      <th>4</th>\n",
              "      <td>2987016</td>\n",
              "      <td>NaN</td>\n",
              "      <td>Mac OS X 10_11_6</td>\n",
              "      <td>chrome 62.0</td>\n",
              "      <td>1280x800</td>\n",
              "      <td>desktop</td>\n",
              "      <td>MacOS</td>\n",
              "    </tr>\n",
              "    <tr>\n",
              "      <th>...</th>\n",
              "      <td>...</td>\n",
              "      <td>...</td>\n",
              "      <td>...</td>\n",
              "      <td>...</td>\n",
              "      <td>...</td>\n",
              "      <td>...</td>\n",
              "      <td>...</td>\n",
              "    </tr>\n",
              "    <tr>\n",
              "      <th>144228</th>\n",
              "      <td>3577521</td>\n",
              "      <td>NaN</td>\n",
              "      <td>NaN</td>\n",
              "      <td>chrome 66.0 for android</td>\n",
              "      <td>NaN</td>\n",
              "      <td>mobile</td>\n",
              "      <td>F3111 Build/33.3.A.1.97</td>\n",
              "    </tr>\n",
              "    <tr>\n",
              "      <th>144229</th>\n",
              "      <td>3577526</td>\n",
              "      <td>NaN</td>\n",
              "      <td>Android 7.1.1</td>\n",
              "      <td>chrome 55.0 for android</td>\n",
              "      <td>855x480</td>\n",
              "      <td>mobile</td>\n",
              "      <td>A574BL Build/NMF26F</td>\n",
              "    </tr>\n",
              "    <tr>\n",
              "      <th>144230</th>\n",
              "      <td>3577529</td>\n",
              "      <td>NaN</td>\n",
              "      <td>NaN</td>\n",
              "      <td>chrome 65.0 for android</td>\n",
              "      <td>NaN</td>\n",
              "      <td>mobile</td>\n",
              "      <td>Moto E (4) Plus Build/NMA26.42-152</td>\n",
              "    </tr>\n",
              "    <tr>\n",
              "      <th>144231</th>\n",
              "      <td>3577531</td>\n",
              "      <td>NaN</td>\n",
              "      <td>Mac OS X 10_9_5</td>\n",
              "      <td>chrome 66.0</td>\n",
              "      <td>2560x1600</td>\n",
              "      <td>desktop</td>\n",
              "      <td>MacOS</td>\n",
              "    </tr>\n",
              "    <tr>\n",
              "      <th>144232</th>\n",
              "      <td>3577534</td>\n",
              "      <td>NaN</td>\n",
              "      <td>NaN</td>\n",
              "      <td>chrome 66.0 for android</td>\n",
              "      <td>NaN</td>\n",
              "      <td>mobile</td>\n",
              "      <td>RNE-L03 Build/HUAWEIRNE-L03</td>\n",
              "    </tr>\n",
              "  </tbody>\n",
              "</table>\n",
              "<p>144233 rows × 7 columns</p>\n",
              "</div>\n",
              "      <button class=\"colab-df-convert\" onclick=\"convertToInteractive('df-e18e0e7c-0355-4de5-82c7-78e71e58dcf2')\"\n",
              "              title=\"Convert this dataframe to an interactive table.\"\n",
              "              style=\"display:none;\">\n",
              "        \n",
              "  <svg xmlns=\"http://www.w3.org/2000/svg\" height=\"24px\"viewBox=\"0 0 24 24\"\n",
              "       width=\"24px\">\n",
              "    <path d=\"M0 0h24v24H0V0z\" fill=\"none\"/>\n",
              "    <path d=\"M18.56 5.44l.94 2.06.94-2.06 2.06-.94-2.06-.94-.94-2.06-.94 2.06-2.06.94zm-11 1L8.5 8.5l.94-2.06 2.06-.94-2.06-.94L8.5 2.5l-.94 2.06-2.06.94zm10 10l.94 2.06.94-2.06 2.06-.94-2.06-.94-.94-2.06-.94 2.06-2.06.94z\"/><path d=\"M17.41 7.96l-1.37-1.37c-.4-.4-.92-.59-1.43-.59-.52 0-1.04.2-1.43.59L10.3 9.45l-7.72 7.72c-.78.78-.78 2.05 0 2.83L4 21.41c.39.39.9.59 1.41.59.51 0 1.02-.2 1.41-.59l7.78-7.78 2.81-2.81c.8-.78.8-2.07 0-2.86zM5.41 20L4 18.59l7.72-7.72 1.47 1.35L5.41 20z\"/>\n",
              "  </svg>\n",
              "      </button>\n",
              "      \n",
              "  <style>\n",
              "    .colab-df-container {\n",
              "      display:flex;\n",
              "      flex-wrap:wrap;\n",
              "      gap: 12px;\n",
              "    }\n",
              "\n",
              "    .colab-df-convert {\n",
              "      background-color: #E8F0FE;\n",
              "      border: none;\n",
              "      border-radius: 50%;\n",
              "      cursor: pointer;\n",
              "      display: none;\n",
              "      fill: #1967D2;\n",
              "      height: 32px;\n",
              "      padding: 0 0 0 0;\n",
              "      width: 32px;\n",
              "    }\n",
              "\n",
              "    .colab-df-convert:hover {\n",
              "      background-color: #E2EBFA;\n",
              "      box-shadow: 0px 1px 2px rgba(60, 64, 67, 0.3), 0px 1px 3px 1px rgba(60, 64, 67, 0.15);\n",
              "      fill: #174EA6;\n",
              "    }\n",
              "\n",
              "    [theme=dark] .colab-df-convert {\n",
              "      background-color: #3B4455;\n",
              "      fill: #D2E3FC;\n",
              "    }\n",
              "\n",
              "    [theme=dark] .colab-df-convert:hover {\n",
              "      background-color: #434B5C;\n",
              "      box-shadow: 0px 1px 3px 1px rgba(0, 0, 0, 0.15);\n",
              "      filter: drop-shadow(0px 1px 2px rgba(0, 0, 0, 0.3));\n",
              "      fill: #FFFFFF;\n",
              "    }\n",
              "  </style>\n",
              "\n",
              "      <script>\n",
              "        const buttonEl =\n",
              "          document.querySelector('#df-e18e0e7c-0355-4de5-82c7-78e71e58dcf2 button.colab-df-convert');\n",
              "        buttonEl.style.display =\n",
              "          google.colab.kernel.accessAllowed ? 'block' : 'none';\n",
              "\n",
              "        async function convertToInteractive(key) {\n",
              "          const element = document.querySelector('#df-e18e0e7c-0355-4de5-82c7-78e71e58dcf2');\n",
              "          const dataTable =\n",
              "            await google.colab.kernel.invokeFunction('convertToInteractive',\n",
              "                                                     [key], {});\n",
              "          if (!dataTable) return;\n",
              "\n",
              "          const docLinkHtml = 'Like what you see? Visit the ' +\n",
              "            '<a target=\"_blank\" href=https://colab.research.google.com/notebooks/data_table.ipynb>data table notebook</a>'\n",
              "            + ' to learn more about interactive tables.';\n",
              "          element.innerHTML = '';\n",
              "          dataTable['output_type'] = 'display_data';\n",
              "          await google.colab.output.renderOutput(dataTable, element);\n",
              "          const docLink = document.createElement('div');\n",
              "          docLink.innerHTML = docLinkHtml;\n",
              "          element.appendChild(docLink);\n",
              "        }\n",
              "      </script>\n",
              "    </div>\n",
              "  </div>\n",
              "  "
            ]
          },
          "metadata": {},
          "execution_count": 5
        }
      ]
    },
    {
      "cell_type": "code",
      "source": [
        "#Empezamos a explorar los contenidos de las variables para estandarizarlos\n",
        "identidad['Proxy'].value_counts()"
      ],
      "metadata": {
        "colab": {
          "base_uri": "https://localhost:8080/"
        },
        "id": "6Ku5wZ6Gbs5X",
        "outputId": "4411d30e-3861-40e3-c855-f5ea50c07382"
      },
      "execution_count": 15,
      "outputs": [
        {
          "output_type": "execute_result",
          "data": {
            "text/plain": [
              "IP_PROXY:TRANSPARENT    3489\n",
              "IP_PROXY:ANONYMOUS      1071\n",
              "IP_PROXY:HIDDEN          609\n",
              "Name: Proxy, dtype: int64"
            ]
          },
          "metadata": {},
          "execution_count": 15
        }
      ]
    },
    {
      "cell_type": "code",
      "source": [
        "#hacemos los cambios pertinentes para Proxy\n",
        "identidad['Proxy'] = identidad['Proxy'].replace(['IP_PROXY:TRANSPARENT'], 'Transparent')\n",
        "identidad['Proxy'] = identidad['Proxy'].replace(['IP_PROXY:ANONYMOUS'], 'Anonymous')\n",
        "identidad['Proxy'] = identidad['Proxy'].replace(['IP_PROXY:HIDDEN'], 'Hidden')"
      ],
      "metadata": {
        "id": "88fJyeoLb5nV"
      },
      "execution_count": 6,
      "outputs": []
    },
    {
      "cell_type": "code",
      "source": [
        "#Ahora hacemos lo mismo para S.O.\n",
        "identidad['SistemaOperativo'].value_counts().sort_values(ascending=True)"
      ],
      "metadata": {
        "colab": {
          "base_uri": "https://localhost:8080/"
        },
        "id": "4EG2fgEocJvX",
        "outputId": "362f2d58-9e30-4a08-d337-a43535a9aaaa"
      },
      "execution_count": 17,
      "outputs": [
        {
          "output_type": "execute_result",
          "data": {
            "text/plain": [
              "iOS 11.4.1              1\n",
              "Windows                 3\n",
              "Mac OS X 10_13_5        4\n",
              "iOS 11.4.0              5\n",
              "func                   10\n",
              "                    ...  \n",
              "Android 7.0          2871\n",
              "iOS 11.1.2           3699\n",
              "iOS 11.2.1           3722\n",
              "Windows 7           13110\n",
              "Windows 10          21155\n",
              "Name: SistemaOperativo, Length: 75, dtype: int64"
            ]
          },
          "metadata": {},
          "execution_count": 17
        }
      ]
    },
    {
      "cell_type": "code",
      "source": [
        "#Organizamos lo de iOS\n",
        "identidad['SistemaOperativo'] = identidad['SistemaOperativo'].str.replace('_', '.')\n",
        "identidad['SistemaOperativo'] = identidad['SistemaOperativo'].replace(['Ios', 'iOs', 'ioS', 'IOs', 'iOS', 'i0S'], 'IOS')\n",
        "identidad['SistemaOperativo'] = identidad['SistemaOperativo'].apply(lambda x: x.lower().strip() if pd.notnull(x) else x )"
      ],
      "metadata": {
        "id": "n8oJeD_CctCD"
      },
      "execution_count": 7,
      "outputs": []
    },
    {
      "cell_type": "code",
      "source": [
        "#Hacemos lo mismo para la columna Navegador pero vemos que son demasiado asi que lo dejamos asi\n",
        "identidad['Navegador'].value_counts().sort_values()"
      ],
      "metadata": {
        "colab": {
          "base_uri": "https://localhost:8080/"
        },
        "id": "o72QRSkFfE-s",
        "outputId": "d04339f1-154c-45aa-875d-bade15b073ac"
      },
      "execution_count": 30,
      "outputs": [
        {
          "output_type": "execute_result",
          "data": {
            "text/plain": [
              "chrome 67.0 for android        1\n",
              "firefox mobile 61.0            1\n",
              "chrome 69.0                    1\n",
              "chromium                       1\n",
              "android                        1\n",
              "                           ...  \n",
              "safari generic              8195\n",
              "ie 11.0 for desktop         9030\n",
              "mobile safari generic      11474\n",
              "mobile safari 11.0         13423\n",
              "chrome 63.0                22000\n",
              "Name: Navegador, Length: 130, dtype: int64"
            ]
          },
          "metadata": {},
          "execution_count": 30
        }
      ]
    },
    {
      "cell_type": "code",
      "source": [
        "identidad['TipoDispositivo'].value_counts().sort_values(ascending=True)"
      ],
      "metadata": {
        "colab": {
          "base_uri": "https://localhost:8080/"
        },
        "id": "SipYMEvwfJMP",
        "outputId": "6ce69605-05b9-40cd-c8dd-882a3679feb2"
      },
      "execution_count": 31,
      "outputs": [
        {
          "output_type": "execute_result",
          "data": {
            "text/plain": [
              "mobile     55645\n",
              "desktop    85165\n",
              "Name: TipoDispositivo, dtype: int64"
            ]
          },
          "metadata": {},
          "execution_count": 31
        }
      ]
    },
    {
      "cell_type": "markdown",
      "source": [
        "###############################################################################################\n",
        "\n",
        "\n",
        "\n",
        "\n",
        "\n",
        "\n",
        "\n",
        "\n",
        "#           CON ESTO YA TENEMOS SOLAMENTE LOS DATOS QUE NOS INTERESAN PARA EL DASHBOARD EN LA TABLA DE IDENTIDAD\n",
        "\n",
        "\n",
        "\n",
        "\n",
        "\n",
        "\n",
        "\n",
        "###############################################################################################"
      ],
      "metadata": {
        "id": "rrUwg1tK6vR4"
      }
    },
    {
      "cell_type": "code",
      "source": [],
      "metadata": {
        "id": "8sawR7CN62FN"
      },
      "execution_count": null,
      "outputs": []
    },
    {
      "cell_type": "markdown",
      "source": [
        "AHORA HACEMOS LO MISMO PARA LA OTRA TABLA\n",
        "##TRANSACTIONS\n",
        "\n",
        "\n",
        "TABLA TRANSACCIONES:\n",
        "TransactionDT: timedelta de una fecha y hora de referencia determinada (no una marca de tiempo real). timedelta de una fecha y hora de referencia dada (no una marca de tiempo real). El primer valor de TransactionDT es 86400, que corresponde a la cantidad de segundos en un día (60 * 60 * 24 = 86400), así que creo que la unidad es segundos. Usando esto, sabemos que los datos abarcan 6 meses, ya que el valor máximo es 15811131, que correspondería al día 183”\n",
        "\n",
        "TransactionAMT: monto del pago de la transacción en USD\n",
        "\n",
        "ProductCD: código de producto, el producto para cada transacción\n",
        "\n",
        "card1 - card6: información de la tarjeta de pago, como tipo de tarjeta, categoría de tarjeta, banco emisor, país, etc.\n",
        "\n",
        "dirección: dirección addr1 como región de facturación, addr2 como país de facturación\n",
        "\n",
        "distancia: distancias entre (no limitadas) la dirección de facturación, la dirección postal, el código postal, la dirección IP, el área telefónica, etc\n",
        "\n",
        "P_ y (R__) emaildomain: dominio de correo electrónico del comprador y del destinatario\n",
        "\n",
        "C1-C14: conteo, como cuántas direcciones se encuentran asociadas con la tarjeta de pago, etc. El significado real está enmascarado.\n",
        "\n",
        "D1-D15: timedelta, como días entre transacciones anteriores, etc.\n",
        "\n",
        "M1-M9: coincidencia, como nombres en la tarjeta y dirección, etc.\n",
        "\n",
        "Vxxx: características completas diseñadas por Vesta, que incluyen clasificación, conteo y otras relaciones de entidad."
      ],
      "metadata": {
        "id": "rNKKrOYJm7uB"
      }
    },
    {
      "cell_type": "code",
      "source": [
        "#Vamos a leer los datos que tiene el dataset para empezar con el análisis explorartorio\n",
        "#El nombre será df por DataFrame, ttr por Tabla de TRansacciones\n",
        "dfttr = pd.read_csv('train_transaction.csv')\n",
        "dfttr.head(10)"
      ],
      "metadata": {
        "colab": {
          "base_uri": "https://localhost:8080/",
          "height": 393
        },
        "id": "DghlbhrZnEaw",
        "outputId": "8476acad-2cb5-4f2d-ef50-6e87392fb8b7"
      },
      "execution_count": 8,
      "outputs": [
        {
          "output_type": "execute_result",
          "data": {
            "text/plain": [
              "   TransactionID  isFraud  TransactionDT  TransactionAmt ProductCD  card1  \\\n",
              "0        2987000        0          86400            68.5         W  13926   \n",
              "1        2987001        0          86401            29.0         W   2755   \n",
              "2        2987002        0          86469            59.0         W   4663   \n",
              "3        2987003        0          86499            50.0         W  18132   \n",
              "4        2987004        0          86506            50.0         H   4497   \n",
              "5        2987005        0          86510            49.0         W   5937   \n",
              "6        2987006        0          86522           159.0         W  12308   \n",
              "7        2987007        0          86529           422.5         W  12695   \n",
              "8        2987008        0          86535            15.0         H   2803   \n",
              "9        2987009        0          86536           117.0         W  17399   \n",
              "\n",
              "   card2  card3       card4  card5  ... V330  V331  V332  V333  V334 V335  \\\n",
              "0    NaN  150.0    discover  142.0  ...  NaN   NaN   NaN   NaN   NaN  NaN   \n",
              "1  404.0  150.0  mastercard  102.0  ...  NaN   NaN   NaN   NaN   NaN  NaN   \n",
              "2  490.0  150.0        visa  166.0  ...  NaN   NaN   NaN   NaN   NaN  NaN   \n",
              "3  567.0  150.0  mastercard  117.0  ...  NaN   NaN   NaN   NaN   NaN  NaN   \n",
              "4  514.0  150.0  mastercard  102.0  ...  0.0   0.0   0.0   0.0   0.0  0.0   \n",
              "5  555.0  150.0        visa  226.0  ...  NaN   NaN   NaN   NaN   NaN  NaN   \n",
              "6  360.0  150.0        visa  166.0  ...  NaN   NaN   NaN   NaN   NaN  NaN   \n",
              "7  490.0  150.0        visa  226.0  ...  NaN   NaN   NaN   NaN   NaN  NaN   \n",
              "8  100.0  150.0        visa  226.0  ...  0.0   0.0   0.0   0.0   0.0  0.0   \n",
              "9  111.0  150.0  mastercard  224.0  ...  NaN   NaN   NaN   NaN   NaN  NaN   \n",
              "\n",
              "  V336  V337  V338  V339  \n",
              "0  NaN   NaN   NaN   NaN  \n",
              "1  NaN   NaN   NaN   NaN  \n",
              "2  NaN   NaN   NaN   NaN  \n",
              "3  NaN   NaN   NaN   NaN  \n",
              "4  0.0   0.0   0.0   0.0  \n",
              "5  NaN   NaN   NaN   NaN  \n",
              "6  NaN   NaN   NaN   NaN  \n",
              "7  NaN   NaN   NaN   NaN  \n",
              "8  0.0   0.0   0.0   0.0  \n",
              "9  NaN   NaN   NaN   NaN  \n",
              "\n",
              "[10 rows x 394 columns]"
            ],
            "text/html": [
              "\n",
              "  <div id=\"df-ae2af172-1185-4bea-91ac-01de207aa9a7\">\n",
              "    <div class=\"colab-df-container\">\n",
              "      <div>\n",
              "<style scoped>\n",
              "    .dataframe tbody tr th:only-of-type {\n",
              "        vertical-align: middle;\n",
              "    }\n",
              "\n",
              "    .dataframe tbody tr th {\n",
              "        vertical-align: top;\n",
              "    }\n",
              "\n",
              "    .dataframe thead th {\n",
              "        text-align: right;\n",
              "    }\n",
              "</style>\n",
              "<table border=\"1\" class=\"dataframe\">\n",
              "  <thead>\n",
              "    <tr style=\"text-align: right;\">\n",
              "      <th></th>\n",
              "      <th>TransactionID</th>\n",
              "      <th>isFraud</th>\n",
              "      <th>TransactionDT</th>\n",
              "      <th>TransactionAmt</th>\n",
              "      <th>ProductCD</th>\n",
              "      <th>card1</th>\n",
              "      <th>card2</th>\n",
              "      <th>card3</th>\n",
              "      <th>card4</th>\n",
              "      <th>card5</th>\n",
              "      <th>...</th>\n",
              "      <th>V330</th>\n",
              "      <th>V331</th>\n",
              "      <th>V332</th>\n",
              "      <th>V333</th>\n",
              "      <th>V334</th>\n",
              "      <th>V335</th>\n",
              "      <th>V336</th>\n",
              "      <th>V337</th>\n",
              "      <th>V338</th>\n",
              "      <th>V339</th>\n",
              "    </tr>\n",
              "  </thead>\n",
              "  <tbody>\n",
              "    <tr>\n",
              "      <th>0</th>\n",
              "      <td>2987000</td>\n",
              "      <td>0</td>\n",
              "      <td>86400</td>\n",
              "      <td>68.5</td>\n",
              "      <td>W</td>\n",
              "      <td>13926</td>\n",
              "      <td>NaN</td>\n",
              "      <td>150.0</td>\n",
              "      <td>discover</td>\n",
              "      <td>142.0</td>\n",
              "      <td>...</td>\n",
              "      <td>NaN</td>\n",
              "      <td>NaN</td>\n",
              "      <td>NaN</td>\n",
              "      <td>NaN</td>\n",
              "      <td>NaN</td>\n",
              "      <td>NaN</td>\n",
              "      <td>NaN</td>\n",
              "      <td>NaN</td>\n",
              "      <td>NaN</td>\n",
              "      <td>NaN</td>\n",
              "    </tr>\n",
              "    <tr>\n",
              "      <th>1</th>\n",
              "      <td>2987001</td>\n",
              "      <td>0</td>\n",
              "      <td>86401</td>\n",
              "      <td>29.0</td>\n",
              "      <td>W</td>\n",
              "      <td>2755</td>\n",
              "      <td>404.0</td>\n",
              "      <td>150.0</td>\n",
              "      <td>mastercard</td>\n",
              "      <td>102.0</td>\n",
              "      <td>...</td>\n",
              "      <td>NaN</td>\n",
              "      <td>NaN</td>\n",
              "      <td>NaN</td>\n",
              "      <td>NaN</td>\n",
              "      <td>NaN</td>\n",
              "      <td>NaN</td>\n",
              "      <td>NaN</td>\n",
              "      <td>NaN</td>\n",
              "      <td>NaN</td>\n",
              "      <td>NaN</td>\n",
              "    </tr>\n",
              "    <tr>\n",
              "      <th>2</th>\n",
              "      <td>2987002</td>\n",
              "      <td>0</td>\n",
              "      <td>86469</td>\n",
              "      <td>59.0</td>\n",
              "      <td>W</td>\n",
              "      <td>4663</td>\n",
              "      <td>490.0</td>\n",
              "      <td>150.0</td>\n",
              "      <td>visa</td>\n",
              "      <td>166.0</td>\n",
              "      <td>...</td>\n",
              "      <td>NaN</td>\n",
              "      <td>NaN</td>\n",
              "      <td>NaN</td>\n",
              "      <td>NaN</td>\n",
              "      <td>NaN</td>\n",
              "      <td>NaN</td>\n",
              "      <td>NaN</td>\n",
              "      <td>NaN</td>\n",
              "      <td>NaN</td>\n",
              "      <td>NaN</td>\n",
              "    </tr>\n",
              "    <tr>\n",
              "      <th>3</th>\n",
              "      <td>2987003</td>\n",
              "      <td>0</td>\n",
              "      <td>86499</td>\n",
              "      <td>50.0</td>\n",
              "      <td>W</td>\n",
              "      <td>18132</td>\n",
              "      <td>567.0</td>\n",
              "      <td>150.0</td>\n",
              "      <td>mastercard</td>\n",
              "      <td>117.0</td>\n",
              "      <td>...</td>\n",
              "      <td>NaN</td>\n",
              "      <td>NaN</td>\n",
              "      <td>NaN</td>\n",
              "      <td>NaN</td>\n",
              "      <td>NaN</td>\n",
              "      <td>NaN</td>\n",
              "      <td>NaN</td>\n",
              "      <td>NaN</td>\n",
              "      <td>NaN</td>\n",
              "      <td>NaN</td>\n",
              "    </tr>\n",
              "    <tr>\n",
              "      <th>4</th>\n",
              "      <td>2987004</td>\n",
              "      <td>0</td>\n",
              "      <td>86506</td>\n",
              "      <td>50.0</td>\n",
              "      <td>H</td>\n",
              "      <td>4497</td>\n",
              "      <td>514.0</td>\n",
              "      <td>150.0</td>\n",
              "      <td>mastercard</td>\n",
              "      <td>102.0</td>\n",
              "      <td>...</td>\n",
              "      <td>0.0</td>\n",
              "      <td>0.0</td>\n",
              "      <td>0.0</td>\n",
              "      <td>0.0</td>\n",
              "      <td>0.0</td>\n",
              "      <td>0.0</td>\n",
              "      <td>0.0</td>\n",
              "      <td>0.0</td>\n",
              "      <td>0.0</td>\n",
              "      <td>0.0</td>\n",
              "    </tr>\n",
              "    <tr>\n",
              "      <th>5</th>\n",
              "      <td>2987005</td>\n",
              "      <td>0</td>\n",
              "      <td>86510</td>\n",
              "      <td>49.0</td>\n",
              "      <td>W</td>\n",
              "      <td>5937</td>\n",
              "      <td>555.0</td>\n",
              "      <td>150.0</td>\n",
              "      <td>visa</td>\n",
              "      <td>226.0</td>\n",
              "      <td>...</td>\n",
              "      <td>NaN</td>\n",
              "      <td>NaN</td>\n",
              "      <td>NaN</td>\n",
              "      <td>NaN</td>\n",
              "      <td>NaN</td>\n",
              "      <td>NaN</td>\n",
              "      <td>NaN</td>\n",
              "      <td>NaN</td>\n",
              "      <td>NaN</td>\n",
              "      <td>NaN</td>\n",
              "    </tr>\n",
              "    <tr>\n",
              "      <th>6</th>\n",
              "      <td>2987006</td>\n",
              "      <td>0</td>\n",
              "      <td>86522</td>\n",
              "      <td>159.0</td>\n",
              "      <td>W</td>\n",
              "      <td>12308</td>\n",
              "      <td>360.0</td>\n",
              "      <td>150.0</td>\n",
              "      <td>visa</td>\n",
              "      <td>166.0</td>\n",
              "      <td>...</td>\n",
              "      <td>NaN</td>\n",
              "      <td>NaN</td>\n",
              "      <td>NaN</td>\n",
              "      <td>NaN</td>\n",
              "      <td>NaN</td>\n",
              "      <td>NaN</td>\n",
              "      <td>NaN</td>\n",
              "      <td>NaN</td>\n",
              "      <td>NaN</td>\n",
              "      <td>NaN</td>\n",
              "    </tr>\n",
              "    <tr>\n",
              "      <th>7</th>\n",
              "      <td>2987007</td>\n",
              "      <td>0</td>\n",
              "      <td>86529</td>\n",
              "      <td>422.5</td>\n",
              "      <td>W</td>\n",
              "      <td>12695</td>\n",
              "      <td>490.0</td>\n",
              "      <td>150.0</td>\n",
              "      <td>visa</td>\n",
              "      <td>226.0</td>\n",
              "      <td>...</td>\n",
              "      <td>NaN</td>\n",
              "      <td>NaN</td>\n",
              "      <td>NaN</td>\n",
              "      <td>NaN</td>\n",
              "      <td>NaN</td>\n",
              "      <td>NaN</td>\n",
              "      <td>NaN</td>\n",
              "      <td>NaN</td>\n",
              "      <td>NaN</td>\n",
              "      <td>NaN</td>\n",
              "    </tr>\n",
              "    <tr>\n",
              "      <th>8</th>\n",
              "      <td>2987008</td>\n",
              "      <td>0</td>\n",
              "      <td>86535</td>\n",
              "      <td>15.0</td>\n",
              "      <td>H</td>\n",
              "      <td>2803</td>\n",
              "      <td>100.0</td>\n",
              "      <td>150.0</td>\n",
              "      <td>visa</td>\n",
              "      <td>226.0</td>\n",
              "      <td>...</td>\n",
              "      <td>0.0</td>\n",
              "      <td>0.0</td>\n",
              "      <td>0.0</td>\n",
              "      <td>0.0</td>\n",
              "      <td>0.0</td>\n",
              "      <td>0.0</td>\n",
              "      <td>0.0</td>\n",
              "      <td>0.0</td>\n",
              "      <td>0.0</td>\n",
              "      <td>0.0</td>\n",
              "    </tr>\n",
              "    <tr>\n",
              "      <th>9</th>\n",
              "      <td>2987009</td>\n",
              "      <td>0</td>\n",
              "      <td>86536</td>\n",
              "      <td>117.0</td>\n",
              "      <td>W</td>\n",
              "      <td>17399</td>\n",
              "      <td>111.0</td>\n",
              "      <td>150.0</td>\n",
              "      <td>mastercard</td>\n",
              "      <td>224.0</td>\n",
              "      <td>...</td>\n",
              "      <td>NaN</td>\n",
              "      <td>NaN</td>\n",
              "      <td>NaN</td>\n",
              "      <td>NaN</td>\n",
              "      <td>NaN</td>\n",
              "      <td>NaN</td>\n",
              "      <td>NaN</td>\n",
              "      <td>NaN</td>\n",
              "      <td>NaN</td>\n",
              "      <td>NaN</td>\n",
              "    </tr>\n",
              "  </tbody>\n",
              "</table>\n",
              "<p>10 rows × 394 columns</p>\n",
              "</div>\n",
              "      <button class=\"colab-df-convert\" onclick=\"convertToInteractive('df-ae2af172-1185-4bea-91ac-01de207aa9a7')\"\n",
              "              title=\"Convert this dataframe to an interactive table.\"\n",
              "              style=\"display:none;\">\n",
              "        \n",
              "  <svg xmlns=\"http://www.w3.org/2000/svg\" height=\"24px\"viewBox=\"0 0 24 24\"\n",
              "       width=\"24px\">\n",
              "    <path d=\"M0 0h24v24H0V0z\" fill=\"none\"/>\n",
              "    <path d=\"M18.56 5.44l.94 2.06.94-2.06 2.06-.94-2.06-.94-.94-2.06-.94 2.06-2.06.94zm-11 1L8.5 8.5l.94-2.06 2.06-.94-2.06-.94L8.5 2.5l-.94 2.06-2.06.94zm10 10l.94 2.06.94-2.06 2.06-.94-2.06-.94-.94-2.06-.94 2.06-2.06.94z\"/><path d=\"M17.41 7.96l-1.37-1.37c-.4-.4-.92-.59-1.43-.59-.52 0-1.04.2-1.43.59L10.3 9.45l-7.72 7.72c-.78.78-.78 2.05 0 2.83L4 21.41c.39.39.9.59 1.41.59.51 0 1.02-.2 1.41-.59l7.78-7.78 2.81-2.81c.8-.78.8-2.07 0-2.86zM5.41 20L4 18.59l7.72-7.72 1.47 1.35L5.41 20z\"/>\n",
              "  </svg>\n",
              "      </button>\n",
              "      \n",
              "  <style>\n",
              "    .colab-df-container {\n",
              "      display:flex;\n",
              "      flex-wrap:wrap;\n",
              "      gap: 12px;\n",
              "    }\n",
              "\n",
              "    .colab-df-convert {\n",
              "      background-color: #E8F0FE;\n",
              "      border: none;\n",
              "      border-radius: 50%;\n",
              "      cursor: pointer;\n",
              "      display: none;\n",
              "      fill: #1967D2;\n",
              "      height: 32px;\n",
              "      padding: 0 0 0 0;\n",
              "      width: 32px;\n",
              "    }\n",
              "\n",
              "    .colab-df-convert:hover {\n",
              "      background-color: #E2EBFA;\n",
              "      box-shadow: 0px 1px 2px rgba(60, 64, 67, 0.3), 0px 1px 3px 1px rgba(60, 64, 67, 0.15);\n",
              "      fill: #174EA6;\n",
              "    }\n",
              "\n",
              "    [theme=dark] .colab-df-convert {\n",
              "      background-color: #3B4455;\n",
              "      fill: #D2E3FC;\n",
              "    }\n",
              "\n",
              "    [theme=dark] .colab-df-convert:hover {\n",
              "      background-color: #434B5C;\n",
              "      box-shadow: 0px 1px 3px 1px rgba(0, 0, 0, 0.15);\n",
              "      filter: drop-shadow(0px 1px 2px rgba(0, 0, 0, 0.3));\n",
              "      fill: #FFFFFF;\n",
              "    }\n",
              "  </style>\n",
              "\n",
              "      <script>\n",
              "        const buttonEl =\n",
              "          document.querySelector('#df-ae2af172-1185-4bea-91ac-01de207aa9a7 button.colab-df-convert');\n",
              "        buttonEl.style.display =\n",
              "          google.colab.kernel.accessAllowed ? 'block' : 'none';\n",
              "\n",
              "        async function convertToInteractive(key) {\n",
              "          const element = document.querySelector('#df-ae2af172-1185-4bea-91ac-01de207aa9a7');\n",
              "          const dataTable =\n",
              "            await google.colab.kernel.invokeFunction('convertToInteractive',\n",
              "                                                     [key], {});\n",
              "          if (!dataTable) return;\n",
              "\n",
              "          const docLinkHtml = 'Like what you see? Visit the ' +\n",
              "            '<a target=\"_blank\" href=https://colab.research.google.com/notebooks/data_table.ipynb>data table notebook</a>'\n",
              "            + ' to learn more about interactive tables.';\n",
              "          element.innerHTML = '';\n",
              "          dataTable['output_type'] = 'display_data';\n",
              "          await google.colab.output.renderOutput(dataTable, element);\n",
              "          const docLink = document.createElement('div');\n",
              "          docLink.innerHTML = docLinkHtml;\n",
              "          element.appendChild(docLink);\n",
              "        }\n",
              "      </script>\n",
              "    </div>\n",
              "  </div>\n",
              "  "
            ]
          },
          "metadata": {},
          "execution_count": 8
        }
      ]
    },
    {
      "cell_type": "code",
      "source": [
        "#Se imprimen las columnas para poder identificarlas y seleccionar cuáles serán susceptibles de análisis. \n",
        "dfttr.columns"
      ],
      "metadata": {
        "colab": {
          "base_uri": "https://localhost:8080/"
        },
        "id": "UUNPXh3an-aq",
        "outputId": "cb7512cd-3fa7-4597-dfc4-0c9f46fb1a18"
      },
      "execution_count": 23,
      "outputs": [
        {
          "output_type": "execute_result",
          "data": {
            "text/plain": [
              "Index(['TransactionID', 'isFraud', 'TransactionDT', 'TransactionAmt',\n",
              "       'ProductCD', 'card1', 'card2', 'card3', 'card4', 'card5',\n",
              "       ...\n",
              "       'V330', 'V331', 'V332', 'V333', 'V334', 'V335', 'V336', 'V337', 'V338',\n",
              "       'V339'],\n",
              "      dtype='object', length=394)"
            ]
          },
          "metadata": {},
          "execution_count": 23
        }
      ]
    },
    {
      "cell_type": "code",
      "source": [
        "#Para cumplir el requerimiento solicitado por el trabajo académico, tenemos 394 columnas y 590.540 instancias\n",
        "dfttr.shape"
      ],
      "metadata": {
        "colab": {
          "base_uri": "https://localhost:8080/"
        },
        "id": "dkQZ2NSGjok3",
        "outputId": "33ede3f2-ef4a-4a85-cd1e-545a1eeb90aa"
      },
      "execution_count": 148,
      "outputs": [
        {
          "output_type": "execute_result",
          "data": {
            "text/plain": [
              "(590540, 394)"
            ]
          },
          "metadata": {},
          "execution_count": 148
        }
      ]
    },
    {
      "cell_type": "code",
      "source": [
        "#Debemos verificar cuántos valores nulos tenemos en la tabla, para esto hacemos el chequeo asi:\n",
        "check_for_any_nan= dfttr.isna().any().any()#Vamos a encontrar cuantos valores NaN existen en el dataframe\n",
        "total_nan_values = dfttr.isna().sum().sum()#Vamos a sumar el total de valores NaN presentes en el dataframe\n",
        "fil ,col = dfttr.shape\n",
        "num_datos = fil*col\n",
        "print(\"Existen valores NaN: \"+str(check_for_any_nan))\n",
        "print(\"Total de valores NaN: \"+str(total_nan_values))\n",
        "#print(\"El porcentaje de valores NaN: \" +str((total_nan_values*100)/num_datos) + \"%\")\n",
        "print(\"El porcentaje de valores NaN: {:.1f}%\".format(round((total_nan_values*100)/num_datos, 1)))"
      ],
      "metadata": {
        "colab": {
          "base_uri": "https://localhost:8080/"
        },
        "id": "j_q_oyTDjsyz",
        "outputId": "204c4577-201a-432c-95d4-a486cabfb690"
      },
      "execution_count": 9,
      "outputs": [
        {
          "output_type": "stream",
          "name": "stdout",
          "text": [
            "Existen valores NaN: True\n",
            "Total de valores NaN: 95566686\n",
            "El porcentaje de valores NaN: 41.1%\n"
          ]
        }
      ]
    },
    {
      "cell_type": "code",
      "source": [
        "dfttr.isnull().sum() #Columnas con valores nulos"
      ],
      "metadata": {
        "colab": {
          "base_uri": "https://localhost:8080/"
        },
        "id": "MaGiU6MOjwI2",
        "outputId": "b48b51a2-133f-4d08-96bf-7985a745fabd"
      },
      "execution_count": 128,
      "outputs": [
        {
          "output_type": "execute_result",
          "data": {
            "text/plain": [
              "TransactionID          0\n",
              "isFraud                0\n",
              "TransactionDT          0\n",
              "TransactionAmt         0\n",
              "ProductCD              0\n",
              "card1                  0\n",
              "card2               8933\n",
              "card3               1565\n",
              "card4               1577\n",
              "card5               4259\n",
              "card6               1571\n",
              "addr1              65706\n",
              "addr2              65706\n",
              "dist1             352271\n",
              "dist2             552913\n",
              "P_emaildomain      94456\n",
              "R_emaildomain     453249\n",
              "C1                     0\n",
              "C2                     0\n",
              "C3                     0\n",
              "C4                     0\n",
              "C5                     0\n",
              "C6                     0\n",
              "C7                     0\n",
              "C8                     0\n",
              "C9                     0\n",
              "C10                    0\n",
              "C11                    0\n",
              "C12                    0\n",
              "C13                    0\n",
              "C14                    0\n",
              "D1                  1269\n",
              "D2                280797\n",
              "D3                262878\n",
              "D4                168922\n",
              "D5                309841\n",
              "D6                517353\n",
              "D7                551623\n",
              "D8                515614\n",
              "D9                515614\n",
              "D10                76022\n",
              "D11               279287\n",
              "D12               525823\n",
              "D13               528588\n",
              "D14               528353\n",
              "D15                89113\n",
              "M1                271100\n",
              "M2                271100\n",
              "M3                271100\n",
              "M4                281444\n",
              "M5                350482\n",
              "M6                169360\n",
              "M7                346265\n",
              "M8                346252\n",
              "M9                346252\n",
              "V1                279287\n",
              "V2                279287\n",
              "V3                279287\n",
              "V4                279287\n",
              "V5                279287\n",
              "V6                279287\n",
              "V7                279287\n",
              "V8                279287\n",
              "V9                279287\n",
              "V10               279287\n",
              "V11               279287\n",
              "V12                76073\n",
              "V13                76073\n",
              "V14                76073\n",
              "V15                76073\n",
              "V16                76073\n",
              "V17                76073\n",
              "V18                76073\n",
              "V19                76073\n",
              "V20                76073\n",
              "V21                76073\n",
              "V22                76073\n",
              "V23                76073\n",
              "V24                76073\n",
              "V25                76073\n",
              "V26                76073\n",
              "V27                76073\n",
              "V28                76073\n",
              "V29                76073\n",
              "V30                76073\n",
              "V31                76073\n",
              "V32                76073\n",
              "V33                76073\n",
              "V34                76073\n",
              "V35               168969\n",
              "V36               168969\n",
              "V37               168969\n",
              "V38               168969\n",
              "V39               168969\n",
              "V40               168969\n",
              "V41               168969\n",
              "V42               168969\n",
              "V43               168969\n",
              "V44               168969\n",
              "V45               168969\n",
              "V46               168969\n",
              "V47               168969\n",
              "V48               168969\n",
              "V49               168969\n",
              "V50               168969\n",
              "V51               168969\n",
              "V52               168969\n",
              "V53                77096\n",
              "V54                77096\n",
              "V55                77096\n",
              "V56                77096\n",
              "V57                77096\n",
              "V58                77096\n",
              "V59                77096\n",
              "V60                77096\n",
              "V61                77096\n",
              "V62                77096\n",
              "V63                77096\n",
              "V64                77096\n",
              "V65                77096\n",
              "V66                77096\n",
              "V67                77096\n",
              "V68                77096\n",
              "V69                77096\n",
              "V70                77096\n",
              "V71                77096\n",
              "V72                77096\n",
              "V73                77096\n",
              "V74                77096\n",
              "V75                89164\n",
              "V76                89164\n",
              "V77                89164\n",
              "V78                89164\n",
              "V79                89164\n",
              "V80                89164\n",
              "V81                89164\n",
              "V82                89164\n",
              "V83                89164\n",
              "V84                89164\n",
              "V85                89164\n",
              "V86                89164\n",
              "V87                89164\n",
              "V88                89164\n",
              "V89                89164\n",
              "V90                89164\n",
              "V91                89164\n",
              "V92                89164\n",
              "V93                89164\n",
              "V94                89164\n",
              "V95                  314\n",
              "V96                  314\n",
              "V97                  314\n",
              "V98                  314\n",
              "V99                  314\n",
              "V100                 314\n",
              "V101                 314\n",
              "V102                 314\n",
              "V103                 314\n",
              "V104                 314\n",
              "V105                 314\n",
              "V106                 314\n",
              "V107                 314\n",
              "V108                 314\n",
              "V109                 314\n",
              "V110                 314\n",
              "V111                 314\n",
              "V112                 314\n",
              "V113                 314\n",
              "V114                 314\n",
              "V115                 314\n",
              "V116                 314\n",
              "V117                 314\n",
              "V118                 314\n",
              "V119                 314\n",
              "V120                 314\n",
              "V121                 314\n",
              "V122                 314\n",
              "V123                 314\n",
              "V124                 314\n",
              "V125                 314\n",
              "V126                 314\n",
              "V127                 314\n",
              "V128                 314\n",
              "V129                 314\n",
              "V130                 314\n",
              "V131                 314\n",
              "V132                 314\n",
              "V133                 314\n",
              "V134                 314\n",
              "V135                 314\n",
              "V136                 314\n",
              "V137                 314\n",
              "V138              508595\n",
              "V139              508595\n",
              "V140              508595\n",
              "V141              508595\n",
              "V142              508595\n",
              "V143              508589\n",
              "V144              508589\n",
              "V145              508589\n",
              "V146              508595\n",
              "V147              508595\n",
              "V148              508595\n",
              "V149              508595\n",
              "V150              508589\n",
              "V151              508589\n",
              "V152              508589\n",
              "V153              508595\n",
              "V154              508595\n",
              "V155              508595\n",
              "V156              508595\n",
              "V157              508595\n",
              "V158              508595\n",
              "V159              508589\n",
              "V160              508589\n",
              "V161              508595\n",
              "V162              508595\n",
              "V163              508595\n",
              "V164              508589\n",
              "V165              508589\n",
              "V166              508589\n",
              "V167              450909\n",
              "V168              450909\n",
              "V169              450721\n",
              "V170              450721\n",
              "V171              450721\n",
              "V172              450909\n",
              "V173              450909\n",
              "V174              450721\n",
              "V175              450721\n",
              "V176              450909\n",
              "V177              450909\n",
              "V178              450909\n",
              "V179              450909\n",
              "V180              450721\n",
              "V181              450909\n",
              "V182              450909\n",
              "V183              450909\n",
              "V184              450721\n",
              "V185              450721\n",
              "V186              450909\n",
              "V187              450909\n",
              "V188              450721\n",
              "V189              450721\n",
              "V190              450909\n",
              "V191              450909\n",
              "V192              450909\n",
              "V193              450909\n",
              "V194              450721\n",
              "V195              450721\n",
              "V196              450909\n",
              "V197              450721\n",
              "V198              450721\n",
              "V199              450909\n",
              "V200              450721\n",
              "V201              450721\n",
              "V202              450909\n",
              "V203              450909\n",
              "V204              450909\n",
              "V205              450909\n",
              "V206              450909\n",
              "V207              450909\n",
              "V208              450721\n",
              "V209              450721\n",
              "V210              450721\n",
              "V211              450909\n",
              "V212              450909\n",
              "V213              450909\n",
              "V214              450909\n",
              "V215              450909\n",
              "V216              450909\n",
              "V217              460110\n",
              "V218              460110\n",
              "V219              460110\n",
              "V220              449124\n",
              "V221              449124\n",
              "V222              449124\n",
              "V223              460110\n",
              "V224              460110\n",
              "V225              460110\n",
              "V226              460110\n",
              "V227              449124\n",
              "V228              460110\n",
              "V229              460110\n",
              "V230              460110\n",
              "V231              460110\n",
              "V232              460110\n",
              "V233              460110\n",
              "V234              449124\n",
              "V235              460110\n",
              "V236              460110\n",
              "V237              460110\n",
              "V238              449124\n",
              "V239              449124\n",
              "V240              460110\n",
              "V241              460110\n",
              "V242              460110\n",
              "V243              460110\n",
              "V244              460110\n",
              "V245              449124\n",
              "V246              460110\n",
              "V247              460110\n",
              "V248              460110\n",
              "V249              460110\n",
              "V250              449124\n",
              "V251              449124\n",
              "V252              460110\n",
              "V253              460110\n",
              "V254              460110\n",
              "V255              449124\n",
              "V256              449124\n",
              "V257              460110\n",
              "V258              460110\n",
              "V259              449124\n",
              "V260              460110\n",
              "V261              460110\n",
              "V262              460110\n",
              "V263              460110\n",
              "V264              460110\n",
              "V265              460110\n",
              "V266              460110\n",
              "V267              460110\n",
              "V268              460110\n",
              "V269              460110\n",
              "V270              449124\n",
              "V271              449124\n",
              "V272              449124\n",
              "V273              460110\n",
              "V274              460110\n",
              "V275              460110\n",
              "V276              460110\n",
              "V277              460110\n",
              "V278              460110\n",
              "V279                  12\n",
              "V280                  12\n",
              "V281                1269\n",
              "V282                1269\n",
              "V283                1269\n",
              "V284                  12\n",
              "V285                  12\n",
              "V286                  12\n",
              "V287                  12\n",
              "V288                1269\n",
              "V289                1269\n",
              "V290                  12\n",
              "V291                  12\n",
              "V292                  12\n",
              "V293                  12\n",
              "V294                  12\n",
              "V295                  12\n",
              "V296                1269\n",
              "V297                  12\n",
              "V298                  12\n",
              "V299                  12\n",
              "V300                1269\n",
              "V301                1269\n",
              "V302                  12\n",
              "V303                  12\n",
              "V304                  12\n",
              "V305                  12\n",
              "V306                  12\n",
              "V307                  12\n",
              "V308                  12\n",
              "V309                  12\n",
              "V310                  12\n",
              "V311                  12\n",
              "V312                  12\n",
              "V313                1269\n",
              "V314                1269\n",
              "V315                1269\n",
              "V316                  12\n",
              "V317                  12\n",
              "V318                  12\n",
              "V319                  12\n",
              "V320                  12\n",
              "V321                  12\n",
              "V322              508189\n",
              "V323              508189\n",
              "V324              508189\n",
              "V325              508189\n",
              "V326              508189\n",
              "V327              508189\n",
              "V328              508189\n",
              "V329              508189\n",
              "V330              508189\n",
              "V331              508189\n",
              "V332              508189\n",
              "V333              508189\n",
              "V334              508189\n",
              "V335              508189\n",
              "V336              508189\n",
              "V337              508189\n",
              "V338              508189\n",
              "V339              508189\n",
              "dtype: int64"
            ]
          },
          "metadata": {},
          "execution_count": 128
        }
      ]
    },
    {
      "cell_type": "code",
      "source": [
        "#Analizamos las variables que nos interesan.\n",
        "unique_values = dfttr['isFraud'].unique()\n",
        "print(unique_values)"
      ],
      "metadata": {
        "colab": {
          "base_uri": "https://localhost:8080/"
        },
        "id": "Dr9BIsyYfzpi",
        "outputId": "011f5875-a318-4ccc-c139-03358775c362"
      },
      "execution_count": 72,
      "outputs": [
        {
          "output_type": "stream",
          "name": "stdout",
          "text": [
            "[0 1]\n"
          ]
        }
      ]
    },
    {
      "cell_type": "code",
      "source": [
        "unique_values = dfttr['TransactionDT'].unique()\n",
        "print(unique_values)"
      ],
      "metadata": {
        "colab": {
          "base_uri": "https://localhost:8080/"
        },
        "id": "ydNCKo7Gg7M3",
        "outputId": "dec5d72e-1452-4cf9-acfd-d16e6171eb66"
      },
      "execution_count": 151,
      "outputs": [
        {
          "output_type": "stream",
          "name": "stdout",
          "text": [
            "[   86400    86401    86469 ... 15811079 15811088 15811131]\n"
          ]
        }
      ]
    },
    {
      "cell_type": "code",
      "source": [
        "unique_values = dfttr['TransactionAmt'].unique()\n",
        "print(unique_values)"
      ],
      "metadata": {
        "colab": {
          "base_uri": "https://localhost:8080/"
        },
        "id": "ud-Dt8K1f5Ya",
        "outputId": "f1203ffb-9f79-4a99-bc09-e4a05e6c8eab"
      },
      "execution_count": 152,
      "outputs": [
        {
          "output_type": "stream",
          "name": "stdout",
          "text": [
            "[  68.5    29.     59.   ...  557.54 1659.95  400.78]\n"
          ]
        }
      ]
    },
    {
      "cell_type": "code",
      "source": [
        "unique_values = dfttr['card4'].unique()\n",
        "print(unique_values)"
      ],
      "metadata": {
        "colab": {
          "base_uri": "https://localhost:8080/"
        },
        "id": "1u4Adublg9Sd",
        "outputId": "5c73b3e9-bb63-488e-d6c9-1da72704abc6"
      },
      "execution_count": 153,
      "outputs": [
        {
          "output_type": "stream",
          "name": "stdout",
          "text": [
            "['discover' 'mastercard' 'visa' 'american express' nan]\n"
          ]
        }
      ]
    },
    {
      "cell_type": "code",
      "source": [
        "unique_values = dfttr['card6'].unique()\n",
        "print(unique_values)"
      ],
      "metadata": {
        "colab": {
          "base_uri": "https://localhost:8080/"
        },
        "id": "aAggRmkahRvi",
        "outputId": "87c306f5-a98e-4403-cb7e-3de73d124f24"
      },
      "execution_count": 154,
      "outputs": [
        {
          "output_type": "stream",
          "name": "stdout",
          "text": [
            "['credit' 'debit' nan 'debit or credit' 'charge card']\n"
          ]
        }
      ]
    },
    {
      "cell_type": "code",
      "source": [
        "unique_values = dfttr['P_emaildomain'].unique() \n",
        "print(unique_values)"
      ],
      "metadata": {
        "colab": {
          "base_uri": "https://localhost:8080/"
        },
        "id": "yQK8qGgRhVrx",
        "outputId": "429b4e1d-3485-44c7-f5df-904e596b1213"
      },
      "execution_count": 155,
      "outputs": [
        {
          "output_type": "stream",
          "name": "stdout",
          "text": [
            "[nan 'gmail.com' 'outlook.com' 'yahoo.com' 'mail.com' 'anonymous.com'\n",
            " 'hotmail.com' 'verizon.net' 'aol.com' 'me.com' 'comcast.net'\n",
            " 'optonline.net' 'cox.net' 'charter.net' 'rocketmail.com' 'prodigy.net.mx'\n",
            " 'embarqmail.com' 'icloud.com' 'live.com.mx' 'gmail' 'live.com' 'att.net'\n",
            " 'juno.com' 'ymail.com' 'sbcglobal.net' 'bellsouth.net' 'msn.com' 'q.com'\n",
            " 'yahoo.com.mx' 'centurylink.net' 'servicios-ta.com' 'earthlink.net'\n",
            " 'hotmail.es' 'cfl.rr.com' 'roadrunner.com' 'netzero.net' 'gmx.de'\n",
            " 'suddenlink.net' 'frontiernet.net' 'windstream.net' 'frontier.com'\n",
            " 'outlook.es' 'mac.com' 'netzero.com' 'aim.com' 'web.de' 'twc.com'\n",
            " 'cableone.net' 'yahoo.fr' 'yahoo.de' 'yahoo.es' 'sc.rr.com' 'ptd.net'\n",
            " 'live.fr' 'yahoo.co.uk' 'hotmail.fr' 'hotmail.de' 'hotmail.co.uk'\n",
            " 'protonmail.com' 'yahoo.co.jp']\n"
          ]
        }
      ]
    },
    {
      "cell_type": "code",
      "source": [
        "unique_values = dfttr['R_emaildomain'].unique() \n",
        "print(unique_values)"
      ],
      "metadata": {
        "colab": {
          "base_uri": "https://localhost:8080/"
        },
        "id": "j4eIYP80ic3l",
        "outputId": "99592c98-f2df-4f8c-81ca-7ac131fdb597"
      },
      "execution_count": 156,
      "outputs": [
        {
          "output_type": "stream",
          "name": "stdout",
          "text": [
            "[nan 'gmail.com' 'hotmail.com' 'outlook.com' 'anonymous.com' 'charter.net'\n",
            " 'prodigy.net.mx' 'comcast.net' 'live.com.mx' 'icloud.com' 'yahoo.com'\n",
            " 'aol.com' 'juno.com' 'att.net' 'verizon.net' 'yahoo.com.mx'\n",
            " 'bellsouth.net' 'servicios-ta.com' 'ymail.com' 'hotmail.es' 'msn.com'\n",
            " 'optonline.net' 'live.com' 'gmx.de' 'aim.com' 'mail.com' 'me.com'\n",
            " 'outlook.es' 'cox.net' 'earthlink.net' 'embarqmail.com' 'web.de'\n",
            " 'sbcglobal.net' 'scranton.edu' 'mac.com' 'twc.com' 'roadrunner.com'\n",
            " 'yahoo.fr' 'yahoo.de' 'yahoo.es' 'frontiernet.net' 'gmail' 'live.fr'\n",
            " 'q.com' 'yahoo.co.uk' 'windstream.net' 'suddenlink.net' 'hotmail.fr'\n",
            " 'ptd.net' 'hotmail.de' 'frontier.com' 'cfl.rr.com' 'hotmail.co.uk'\n",
            " 'netzero.com' 'netzero.net' 'yahoo.co.jp' 'rocketmail.com'\n",
            " 'centurylink.net' 'protonmail.com' 'cableone.net' 'sc.rr.com']\n"
          ]
        }
      ]
    },
    {
      "cell_type": "code",
      "source": [
        "# Crear una nueva tabla 'transacciones' con las columnas seleccionadas\n",
        "transacciones = dfttr[['TransactionID', 'isFraud', 'TransactionDT', 'TransactionAmt', 'card4', 'card6', 'P_emaildomain']].copy()"
      ],
      "metadata": {
        "id": "QGmYlnGxj0jF"
      },
      "execution_count": 10,
      "outputs": []
    },
    {
      "cell_type": "code",
      "source": [
        "# Cambiar los nombres de las columnas en la tabla 'transacciones'\n",
        "transacciones = transacciones.rename(columns={'TransactionID': 'IdTransaccion',\n",
        "                                              'isFraud': 'EsFraude',\n",
        "                                              'TransactionDT': 'LineaDeTiempo',\n",
        "                                              'TransactionAmt': 'MontoTransaccion',\n",
        "                                              'card4': 'Franquicia',\n",
        "                                              'card6': 'TipoTarjeta',\n",
        "                                              'P_emaildomain': 'DominioCompra'})\n",
        "transacciones"
      ],
      "metadata": {
        "colab": {
          "base_uri": "https://localhost:8080/",
          "height": 424
        },
        "id": "6TE-gNrglOF3",
        "outputId": "e4ca6208-43eb-4a75-d03e-6fee8c0836f7"
      },
      "execution_count": 11,
      "outputs": [
        {
          "output_type": "execute_result",
          "data": {
            "text/plain": [
              "        IdTransaccion  EsFraude  LineaDeTiempo  MontoTransaccion  Franquicia  \\\n",
              "0             2987000         0          86400             68.50    discover   \n",
              "1             2987001         0          86401             29.00  mastercard   \n",
              "2             2987002         0          86469             59.00        visa   \n",
              "3             2987003         0          86499             50.00  mastercard   \n",
              "4             2987004         0          86506             50.00  mastercard   \n",
              "...               ...       ...            ...               ...         ...   \n",
              "590535        3577535         0       15811047             49.00        visa   \n",
              "590536        3577536         0       15811049             39.50  mastercard   \n",
              "590537        3577537         0       15811079             30.95  mastercard   \n",
              "590538        3577538         0       15811088            117.00  mastercard   \n",
              "590539        3577539         0       15811131            279.95  mastercard   \n",
              "\n",
              "       TipoTarjeta DominioCompra  \n",
              "0           credit           NaN  \n",
              "1           credit     gmail.com  \n",
              "2            debit   outlook.com  \n",
              "3            debit     yahoo.com  \n",
              "4           credit     gmail.com  \n",
              "...            ...           ...  \n",
              "590535       debit           NaN  \n",
              "590536       debit     gmail.com  \n",
              "590537       debit     gmail.com  \n",
              "590538       debit       aol.com  \n",
              "590539      credit     gmail.com  \n",
              "\n",
              "[590540 rows x 7 columns]"
            ],
            "text/html": [
              "\n",
              "  <div id=\"df-cab10d7b-a53f-4fd6-8877-c5a09ae0e0a0\">\n",
              "    <div class=\"colab-df-container\">\n",
              "      <div>\n",
              "<style scoped>\n",
              "    .dataframe tbody tr th:only-of-type {\n",
              "        vertical-align: middle;\n",
              "    }\n",
              "\n",
              "    .dataframe tbody tr th {\n",
              "        vertical-align: top;\n",
              "    }\n",
              "\n",
              "    .dataframe thead th {\n",
              "        text-align: right;\n",
              "    }\n",
              "</style>\n",
              "<table border=\"1\" class=\"dataframe\">\n",
              "  <thead>\n",
              "    <tr style=\"text-align: right;\">\n",
              "      <th></th>\n",
              "      <th>IdTransaccion</th>\n",
              "      <th>EsFraude</th>\n",
              "      <th>LineaDeTiempo</th>\n",
              "      <th>MontoTransaccion</th>\n",
              "      <th>Franquicia</th>\n",
              "      <th>TipoTarjeta</th>\n",
              "      <th>DominioCompra</th>\n",
              "    </tr>\n",
              "  </thead>\n",
              "  <tbody>\n",
              "    <tr>\n",
              "      <th>0</th>\n",
              "      <td>2987000</td>\n",
              "      <td>0</td>\n",
              "      <td>86400</td>\n",
              "      <td>68.50</td>\n",
              "      <td>discover</td>\n",
              "      <td>credit</td>\n",
              "      <td>NaN</td>\n",
              "    </tr>\n",
              "    <tr>\n",
              "      <th>1</th>\n",
              "      <td>2987001</td>\n",
              "      <td>0</td>\n",
              "      <td>86401</td>\n",
              "      <td>29.00</td>\n",
              "      <td>mastercard</td>\n",
              "      <td>credit</td>\n",
              "      <td>gmail.com</td>\n",
              "    </tr>\n",
              "    <tr>\n",
              "      <th>2</th>\n",
              "      <td>2987002</td>\n",
              "      <td>0</td>\n",
              "      <td>86469</td>\n",
              "      <td>59.00</td>\n",
              "      <td>visa</td>\n",
              "      <td>debit</td>\n",
              "      <td>outlook.com</td>\n",
              "    </tr>\n",
              "    <tr>\n",
              "      <th>3</th>\n",
              "      <td>2987003</td>\n",
              "      <td>0</td>\n",
              "      <td>86499</td>\n",
              "      <td>50.00</td>\n",
              "      <td>mastercard</td>\n",
              "      <td>debit</td>\n",
              "      <td>yahoo.com</td>\n",
              "    </tr>\n",
              "    <tr>\n",
              "      <th>4</th>\n",
              "      <td>2987004</td>\n",
              "      <td>0</td>\n",
              "      <td>86506</td>\n",
              "      <td>50.00</td>\n",
              "      <td>mastercard</td>\n",
              "      <td>credit</td>\n",
              "      <td>gmail.com</td>\n",
              "    </tr>\n",
              "    <tr>\n",
              "      <th>...</th>\n",
              "      <td>...</td>\n",
              "      <td>...</td>\n",
              "      <td>...</td>\n",
              "      <td>...</td>\n",
              "      <td>...</td>\n",
              "      <td>...</td>\n",
              "      <td>...</td>\n",
              "    </tr>\n",
              "    <tr>\n",
              "      <th>590535</th>\n",
              "      <td>3577535</td>\n",
              "      <td>0</td>\n",
              "      <td>15811047</td>\n",
              "      <td>49.00</td>\n",
              "      <td>visa</td>\n",
              "      <td>debit</td>\n",
              "      <td>NaN</td>\n",
              "    </tr>\n",
              "    <tr>\n",
              "      <th>590536</th>\n",
              "      <td>3577536</td>\n",
              "      <td>0</td>\n",
              "      <td>15811049</td>\n",
              "      <td>39.50</td>\n",
              "      <td>mastercard</td>\n",
              "      <td>debit</td>\n",
              "      <td>gmail.com</td>\n",
              "    </tr>\n",
              "    <tr>\n",
              "      <th>590537</th>\n",
              "      <td>3577537</td>\n",
              "      <td>0</td>\n",
              "      <td>15811079</td>\n",
              "      <td>30.95</td>\n",
              "      <td>mastercard</td>\n",
              "      <td>debit</td>\n",
              "      <td>gmail.com</td>\n",
              "    </tr>\n",
              "    <tr>\n",
              "      <th>590538</th>\n",
              "      <td>3577538</td>\n",
              "      <td>0</td>\n",
              "      <td>15811088</td>\n",
              "      <td>117.00</td>\n",
              "      <td>mastercard</td>\n",
              "      <td>debit</td>\n",
              "      <td>aol.com</td>\n",
              "    </tr>\n",
              "    <tr>\n",
              "      <th>590539</th>\n",
              "      <td>3577539</td>\n",
              "      <td>0</td>\n",
              "      <td>15811131</td>\n",
              "      <td>279.95</td>\n",
              "      <td>mastercard</td>\n",
              "      <td>credit</td>\n",
              "      <td>gmail.com</td>\n",
              "    </tr>\n",
              "  </tbody>\n",
              "</table>\n",
              "<p>590540 rows × 7 columns</p>\n",
              "</div>\n",
              "      <button class=\"colab-df-convert\" onclick=\"convertToInteractive('df-cab10d7b-a53f-4fd6-8877-c5a09ae0e0a0')\"\n",
              "              title=\"Convert this dataframe to an interactive table.\"\n",
              "              style=\"display:none;\">\n",
              "        \n",
              "  <svg xmlns=\"http://www.w3.org/2000/svg\" height=\"24px\"viewBox=\"0 0 24 24\"\n",
              "       width=\"24px\">\n",
              "    <path d=\"M0 0h24v24H0V0z\" fill=\"none\"/>\n",
              "    <path d=\"M18.56 5.44l.94 2.06.94-2.06 2.06-.94-2.06-.94-.94-2.06-.94 2.06-2.06.94zm-11 1L8.5 8.5l.94-2.06 2.06-.94-2.06-.94L8.5 2.5l-.94 2.06-2.06.94zm10 10l.94 2.06.94-2.06 2.06-.94-2.06-.94-.94-2.06-.94 2.06-2.06.94z\"/><path d=\"M17.41 7.96l-1.37-1.37c-.4-.4-.92-.59-1.43-.59-.52 0-1.04.2-1.43.59L10.3 9.45l-7.72 7.72c-.78.78-.78 2.05 0 2.83L4 21.41c.39.39.9.59 1.41.59.51 0 1.02-.2 1.41-.59l7.78-7.78 2.81-2.81c.8-.78.8-2.07 0-2.86zM5.41 20L4 18.59l7.72-7.72 1.47 1.35L5.41 20z\"/>\n",
              "  </svg>\n",
              "      </button>\n",
              "      \n",
              "  <style>\n",
              "    .colab-df-container {\n",
              "      display:flex;\n",
              "      flex-wrap:wrap;\n",
              "      gap: 12px;\n",
              "    }\n",
              "\n",
              "    .colab-df-convert {\n",
              "      background-color: #E8F0FE;\n",
              "      border: none;\n",
              "      border-radius: 50%;\n",
              "      cursor: pointer;\n",
              "      display: none;\n",
              "      fill: #1967D2;\n",
              "      height: 32px;\n",
              "      padding: 0 0 0 0;\n",
              "      width: 32px;\n",
              "    }\n",
              "\n",
              "    .colab-df-convert:hover {\n",
              "      background-color: #E2EBFA;\n",
              "      box-shadow: 0px 1px 2px rgba(60, 64, 67, 0.3), 0px 1px 3px 1px rgba(60, 64, 67, 0.15);\n",
              "      fill: #174EA6;\n",
              "    }\n",
              "\n",
              "    [theme=dark] .colab-df-convert {\n",
              "      background-color: #3B4455;\n",
              "      fill: #D2E3FC;\n",
              "    }\n",
              "\n",
              "    [theme=dark] .colab-df-convert:hover {\n",
              "      background-color: #434B5C;\n",
              "      box-shadow: 0px 1px 3px 1px rgba(0, 0, 0, 0.15);\n",
              "      filter: drop-shadow(0px 1px 2px rgba(0, 0, 0, 0.3));\n",
              "      fill: #FFFFFF;\n",
              "    }\n",
              "  </style>\n",
              "\n",
              "      <script>\n",
              "        const buttonEl =\n",
              "          document.querySelector('#df-cab10d7b-a53f-4fd6-8877-c5a09ae0e0a0 button.colab-df-convert');\n",
              "        buttonEl.style.display =\n",
              "          google.colab.kernel.accessAllowed ? 'block' : 'none';\n",
              "\n",
              "        async function convertToInteractive(key) {\n",
              "          const element = document.querySelector('#df-cab10d7b-a53f-4fd6-8877-c5a09ae0e0a0');\n",
              "          const dataTable =\n",
              "            await google.colab.kernel.invokeFunction('convertToInteractive',\n",
              "                                                     [key], {});\n",
              "          if (!dataTable) return;\n",
              "\n",
              "          const docLinkHtml = 'Like what you see? Visit the ' +\n",
              "            '<a target=\"_blank\" href=https://colab.research.google.com/notebooks/data_table.ipynb>data table notebook</a>'\n",
              "            + ' to learn more about interactive tables.';\n",
              "          element.innerHTML = '';\n",
              "          dataTable['output_type'] = 'display_data';\n",
              "          await google.colab.output.renderOutput(dataTable, element);\n",
              "          const docLink = document.createElement('div');\n",
              "          docLink.innerHTML = docLinkHtml;\n",
              "          element.appendChild(docLink);\n",
              "        }\n",
              "      </script>\n",
              "    </div>\n",
              "  </div>\n",
              "  "
            ]
          },
          "metadata": {},
          "execution_count": 11
        }
      ]
    },
    {
      "cell_type": "code",
      "source": [
        "transacciones.isnull().sum() #Columnas con valores nulos"
      ],
      "metadata": {
        "colab": {
          "base_uri": "https://localhost:8080/"
        },
        "id": "s1r7bM0YkXZH",
        "outputId": "8b09bc18-edca-4f11-efc2-c7949009a654"
      },
      "execution_count": 31,
      "outputs": [
        {
          "output_type": "execute_result",
          "data": {
            "text/plain": [
              "IdTransaccion       0\n",
              "EsFraude            0\n",
              "LineaDeTiempo       0\n",
              "MontoTransaccion    0\n",
              "Franquicia          0\n",
              "TipoTarjeta         0\n",
              "DominioCompra       0\n",
              "dtype: int64"
            ]
          },
          "metadata": {},
          "execution_count": 31
        }
      ]
    },
    {
      "cell_type": "code",
      "source": [
        "transacciones['DominioCompra'] = transacciones['DominioCompra'].fillna('Sin Información')\n",
        "transacciones['Franquicia'] = transacciones['Franquicia'].fillna('Sin Información')\n",
        "transacciones['TipoTarjeta'] = transacciones['TipoTarjeta'].fillna('Sin Información')"
      ],
      "metadata": {
        "id": "ikxUizqck-qO"
      },
      "execution_count": 16,
      "outputs": []
    },
    {
      "cell_type": "code",
      "source": [
        "transacciones.head()"
      ],
      "metadata": {
        "colab": {
          "base_uri": "https://localhost:8080/",
          "height": 206
        },
        "id": "n511AhZCwTrN",
        "outputId": "b942fbd1-2a66-4e52-c717-0f5089315ac1"
      },
      "execution_count": 32,
      "outputs": [
        {
          "output_type": "execute_result",
          "data": {
            "text/plain": [
              "   IdTransaccion  EsFraude  LineaDeTiempo  MontoTransaccion  Franquicia  \\\n",
              "0        2987000         0          86400              68.5    discover   \n",
              "1        2987001         0          86401              29.0  mastercard   \n",
              "2        2987002         0          86469              59.0        visa   \n",
              "3        2987003         0          86499              50.0  mastercard   \n",
              "4        2987004         0          86506              50.0  mastercard   \n",
              "\n",
              "  TipoTarjeta    DominioCompra  \n",
              "0      credit  Sin Información  \n",
              "1      credit        gmail.com  \n",
              "2       debit      outlook.com  \n",
              "3       debit        yahoo.com  \n",
              "4      credit        gmail.com  "
            ],
            "text/html": [
              "\n",
              "  <div id=\"df-228b8ecb-e5eb-4709-a997-c7d6e1b79214\">\n",
              "    <div class=\"colab-df-container\">\n",
              "      <div>\n",
              "<style scoped>\n",
              "    .dataframe tbody tr th:only-of-type {\n",
              "        vertical-align: middle;\n",
              "    }\n",
              "\n",
              "    .dataframe tbody tr th {\n",
              "        vertical-align: top;\n",
              "    }\n",
              "\n",
              "    .dataframe thead th {\n",
              "        text-align: right;\n",
              "    }\n",
              "</style>\n",
              "<table border=\"1\" class=\"dataframe\">\n",
              "  <thead>\n",
              "    <tr style=\"text-align: right;\">\n",
              "      <th></th>\n",
              "      <th>IdTransaccion</th>\n",
              "      <th>EsFraude</th>\n",
              "      <th>LineaDeTiempo</th>\n",
              "      <th>MontoTransaccion</th>\n",
              "      <th>Franquicia</th>\n",
              "      <th>TipoTarjeta</th>\n",
              "      <th>DominioCompra</th>\n",
              "    </tr>\n",
              "  </thead>\n",
              "  <tbody>\n",
              "    <tr>\n",
              "      <th>0</th>\n",
              "      <td>2987000</td>\n",
              "      <td>0</td>\n",
              "      <td>86400</td>\n",
              "      <td>68.5</td>\n",
              "      <td>discover</td>\n",
              "      <td>credit</td>\n",
              "      <td>Sin Información</td>\n",
              "    </tr>\n",
              "    <tr>\n",
              "      <th>1</th>\n",
              "      <td>2987001</td>\n",
              "      <td>0</td>\n",
              "      <td>86401</td>\n",
              "      <td>29.0</td>\n",
              "      <td>mastercard</td>\n",
              "      <td>credit</td>\n",
              "      <td>gmail.com</td>\n",
              "    </tr>\n",
              "    <tr>\n",
              "      <th>2</th>\n",
              "      <td>2987002</td>\n",
              "      <td>0</td>\n",
              "      <td>86469</td>\n",
              "      <td>59.0</td>\n",
              "      <td>visa</td>\n",
              "      <td>debit</td>\n",
              "      <td>outlook.com</td>\n",
              "    </tr>\n",
              "    <tr>\n",
              "      <th>3</th>\n",
              "      <td>2987003</td>\n",
              "      <td>0</td>\n",
              "      <td>86499</td>\n",
              "      <td>50.0</td>\n",
              "      <td>mastercard</td>\n",
              "      <td>debit</td>\n",
              "      <td>yahoo.com</td>\n",
              "    </tr>\n",
              "    <tr>\n",
              "      <th>4</th>\n",
              "      <td>2987004</td>\n",
              "      <td>0</td>\n",
              "      <td>86506</td>\n",
              "      <td>50.0</td>\n",
              "      <td>mastercard</td>\n",
              "      <td>credit</td>\n",
              "      <td>gmail.com</td>\n",
              "    </tr>\n",
              "  </tbody>\n",
              "</table>\n",
              "</div>\n",
              "      <button class=\"colab-df-convert\" onclick=\"convertToInteractive('df-228b8ecb-e5eb-4709-a997-c7d6e1b79214')\"\n",
              "              title=\"Convert this dataframe to an interactive table.\"\n",
              "              style=\"display:none;\">\n",
              "        \n",
              "  <svg xmlns=\"http://www.w3.org/2000/svg\" height=\"24px\"viewBox=\"0 0 24 24\"\n",
              "       width=\"24px\">\n",
              "    <path d=\"M0 0h24v24H0V0z\" fill=\"none\"/>\n",
              "    <path d=\"M18.56 5.44l.94 2.06.94-2.06 2.06-.94-2.06-.94-.94-2.06-.94 2.06-2.06.94zm-11 1L8.5 8.5l.94-2.06 2.06-.94-2.06-.94L8.5 2.5l-.94 2.06-2.06.94zm10 10l.94 2.06.94-2.06 2.06-.94-2.06-.94-.94-2.06-.94 2.06-2.06.94z\"/><path d=\"M17.41 7.96l-1.37-1.37c-.4-.4-.92-.59-1.43-.59-.52 0-1.04.2-1.43.59L10.3 9.45l-7.72 7.72c-.78.78-.78 2.05 0 2.83L4 21.41c.39.39.9.59 1.41.59.51 0 1.02-.2 1.41-.59l7.78-7.78 2.81-2.81c.8-.78.8-2.07 0-2.86zM5.41 20L4 18.59l7.72-7.72 1.47 1.35L5.41 20z\"/>\n",
              "  </svg>\n",
              "      </button>\n",
              "      \n",
              "  <style>\n",
              "    .colab-df-container {\n",
              "      display:flex;\n",
              "      flex-wrap:wrap;\n",
              "      gap: 12px;\n",
              "    }\n",
              "\n",
              "    .colab-df-convert {\n",
              "      background-color: #E8F0FE;\n",
              "      border: none;\n",
              "      border-radius: 50%;\n",
              "      cursor: pointer;\n",
              "      display: none;\n",
              "      fill: #1967D2;\n",
              "      height: 32px;\n",
              "      padding: 0 0 0 0;\n",
              "      width: 32px;\n",
              "    }\n",
              "\n",
              "    .colab-df-convert:hover {\n",
              "      background-color: #E2EBFA;\n",
              "      box-shadow: 0px 1px 2px rgba(60, 64, 67, 0.3), 0px 1px 3px 1px rgba(60, 64, 67, 0.15);\n",
              "      fill: #174EA6;\n",
              "    }\n",
              "\n",
              "    [theme=dark] .colab-df-convert {\n",
              "      background-color: #3B4455;\n",
              "      fill: #D2E3FC;\n",
              "    }\n",
              "\n",
              "    [theme=dark] .colab-df-convert:hover {\n",
              "      background-color: #434B5C;\n",
              "      box-shadow: 0px 1px 3px 1px rgba(0, 0, 0, 0.15);\n",
              "      filter: drop-shadow(0px 1px 2px rgba(0, 0, 0, 0.3));\n",
              "      fill: #FFFFFF;\n",
              "    }\n",
              "  </style>\n",
              "\n",
              "      <script>\n",
              "        const buttonEl =\n",
              "          document.querySelector('#df-228b8ecb-e5eb-4709-a997-c7d6e1b79214 button.colab-df-convert');\n",
              "        buttonEl.style.display =\n",
              "          google.colab.kernel.accessAllowed ? 'block' : 'none';\n",
              "\n",
              "        async function convertToInteractive(key) {\n",
              "          const element = document.querySelector('#df-228b8ecb-e5eb-4709-a997-c7d6e1b79214');\n",
              "          const dataTable =\n",
              "            await google.colab.kernel.invokeFunction('convertToInteractive',\n",
              "                                                     [key], {});\n",
              "          if (!dataTable) return;\n",
              "\n",
              "          const docLinkHtml = 'Like what you see? Visit the ' +\n",
              "            '<a target=\"_blank\" href=https://colab.research.google.com/notebooks/data_table.ipynb>data table notebook</a>'\n",
              "            + ' to learn more about interactive tables.';\n",
              "          element.innerHTML = '';\n",
              "          dataTable['output_type'] = 'display_data';\n",
              "          await google.colab.output.renderOutput(dataTable, element);\n",
              "          const docLink = document.createElement('div');\n",
              "          docLink.innerHTML = docLinkHtml;\n",
              "          element.appendChild(docLink);\n",
              "        }\n",
              "      </script>\n",
              "    </div>\n",
              "  </div>\n",
              "  "
            ]
          },
          "metadata": {},
          "execution_count": 32
        }
      ]
    },
    {
      "cell_type": "markdown",
      "source": [
        "###############################################################################################\n",
        "\n",
        "\n",
        "\n",
        "\n",
        "\n",
        "\n",
        "\n",
        "\n",
        "#           CON ESTO YA TENEMOS SOLAMENTE LOS DATOS QUE NOS INTERESAN PARA EL DASHBOARD EN LA TABLA DE TRANSACCIONES\n",
        "\n",
        "\n",
        "\n",
        "\n",
        "\n",
        "\n",
        "\n",
        "###############################################################################################"
      ],
      "metadata": {
        "id": "kGls8APc7L-Z"
      }
    },
    {
      "cell_type": "markdown",
      "source": [
        "AHORA CONCATENAMOS AMBAS TABLAS CON DATOS LIMPIOS"
      ],
      "metadata": {
        "id": "Hx556Xd1uNU2"
      }
    },
    {
      "cell_type": "code",
      "source": [
        "#Concatenamos los datos de dfi sin NAN con dft\n",
        "df = identidad.merge(transacciones,on = 'IdTransaccion',how = 'left')"
      ],
      "metadata": {
        "id": "myTxSVKWuUi1"
      },
      "execution_count": 17,
      "outputs": []
    },
    {
      "cell_type": "code",
      "source": [
        "df.head()"
      ],
      "metadata": {
        "colab": {
          "base_uri": "https://localhost:8080/",
          "height": 206
        },
        "id": "PonotVbauqaR",
        "outputId": "09b779f4-32c2-4a77-b13b-31a63e053a64"
      },
      "execution_count": 34,
      "outputs": [
        {
          "output_type": "execute_result",
          "data": {
            "text/plain": [
              "   IdTransaccion Proxy  SistemaOperativo            Navegador Resolucion  \\\n",
              "0        2987004   NaN       android 7.0  samsung browser 6.2  2220x1080   \n",
              "1        2987008   NaN        ios 11.1.2   mobile safari 11.0   1334x750   \n",
              "2        2987010   NaN               NaN          chrome 62.0        NaN   \n",
              "3        2987011   NaN               NaN          chrome 62.0        NaN   \n",
              "4        2987016   NaN  mac os x 10.11.6          chrome 62.0   1280x800   \n",
              "\n",
              "  TipoDispositivo                InfoDispositivo  EsFraude  LineaDeTiempo  \\\n",
              "0          mobile  SAMSUNG SM-G892A Build/NRD90M         0          86506   \n",
              "1          mobile                     iOS Device         0          86535   \n",
              "2         desktop                        Windows         0          86549   \n",
              "3         desktop                            NaN         0          86555   \n",
              "4         desktop                          MacOS         0          86620   \n",
              "\n",
              "   MontoTransaccion  Franquicia TipoTarjeta  DominioCompra  \n",
              "0            50.000  mastercard      credit      gmail.com  \n",
              "1            15.000        visa       debit  anonymous.com  \n",
              "2            75.887  mastercard      credit      gmail.com  \n",
              "3            16.495  mastercard       debit    hotmail.com  \n",
              "4            30.000        visa       debit        aol.com  "
            ],
            "text/html": [
              "\n",
              "  <div id=\"df-3d6de0b1-289d-404e-9472-880f2f0fefca\">\n",
              "    <div class=\"colab-df-container\">\n",
              "      <div>\n",
              "<style scoped>\n",
              "    .dataframe tbody tr th:only-of-type {\n",
              "        vertical-align: middle;\n",
              "    }\n",
              "\n",
              "    .dataframe tbody tr th {\n",
              "        vertical-align: top;\n",
              "    }\n",
              "\n",
              "    .dataframe thead th {\n",
              "        text-align: right;\n",
              "    }\n",
              "</style>\n",
              "<table border=\"1\" class=\"dataframe\">\n",
              "  <thead>\n",
              "    <tr style=\"text-align: right;\">\n",
              "      <th></th>\n",
              "      <th>IdTransaccion</th>\n",
              "      <th>Proxy</th>\n",
              "      <th>SistemaOperativo</th>\n",
              "      <th>Navegador</th>\n",
              "      <th>Resolucion</th>\n",
              "      <th>TipoDispositivo</th>\n",
              "      <th>InfoDispositivo</th>\n",
              "      <th>EsFraude</th>\n",
              "      <th>LineaDeTiempo</th>\n",
              "      <th>MontoTransaccion</th>\n",
              "      <th>Franquicia</th>\n",
              "      <th>TipoTarjeta</th>\n",
              "      <th>DominioCompra</th>\n",
              "    </tr>\n",
              "  </thead>\n",
              "  <tbody>\n",
              "    <tr>\n",
              "      <th>0</th>\n",
              "      <td>2987004</td>\n",
              "      <td>NaN</td>\n",
              "      <td>android 7.0</td>\n",
              "      <td>samsung browser 6.2</td>\n",
              "      <td>2220x1080</td>\n",
              "      <td>mobile</td>\n",
              "      <td>SAMSUNG SM-G892A Build/NRD90M</td>\n",
              "      <td>0</td>\n",
              "      <td>86506</td>\n",
              "      <td>50.000</td>\n",
              "      <td>mastercard</td>\n",
              "      <td>credit</td>\n",
              "      <td>gmail.com</td>\n",
              "    </tr>\n",
              "    <tr>\n",
              "      <th>1</th>\n",
              "      <td>2987008</td>\n",
              "      <td>NaN</td>\n",
              "      <td>ios 11.1.2</td>\n",
              "      <td>mobile safari 11.0</td>\n",
              "      <td>1334x750</td>\n",
              "      <td>mobile</td>\n",
              "      <td>iOS Device</td>\n",
              "      <td>0</td>\n",
              "      <td>86535</td>\n",
              "      <td>15.000</td>\n",
              "      <td>visa</td>\n",
              "      <td>debit</td>\n",
              "      <td>anonymous.com</td>\n",
              "    </tr>\n",
              "    <tr>\n",
              "      <th>2</th>\n",
              "      <td>2987010</td>\n",
              "      <td>NaN</td>\n",
              "      <td>NaN</td>\n",
              "      <td>chrome 62.0</td>\n",
              "      <td>NaN</td>\n",
              "      <td>desktop</td>\n",
              "      <td>Windows</td>\n",
              "      <td>0</td>\n",
              "      <td>86549</td>\n",
              "      <td>75.887</td>\n",
              "      <td>mastercard</td>\n",
              "      <td>credit</td>\n",
              "      <td>gmail.com</td>\n",
              "    </tr>\n",
              "    <tr>\n",
              "      <th>3</th>\n",
              "      <td>2987011</td>\n",
              "      <td>NaN</td>\n",
              "      <td>NaN</td>\n",
              "      <td>chrome 62.0</td>\n",
              "      <td>NaN</td>\n",
              "      <td>desktop</td>\n",
              "      <td>NaN</td>\n",
              "      <td>0</td>\n",
              "      <td>86555</td>\n",
              "      <td>16.495</td>\n",
              "      <td>mastercard</td>\n",
              "      <td>debit</td>\n",
              "      <td>hotmail.com</td>\n",
              "    </tr>\n",
              "    <tr>\n",
              "      <th>4</th>\n",
              "      <td>2987016</td>\n",
              "      <td>NaN</td>\n",
              "      <td>mac os x 10.11.6</td>\n",
              "      <td>chrome 62.0</td>\n",
              "      <td>1280x800</td>\n",
              "      <td>desktop</td>\n",
              "      <td>MacOS</td>\n",
              "      <td>0</td>\n",
              "      <td>86620</td>\n",
              "      <td>30.000</td>\n",
              "      <td>visa</td>\n",
              "      <td>debit</td>\n",
              "      <td>aol.com</td>\n",
              "    </tr>\n",
              "  </tbody>\n",
              "</table>\n",
              "</div>\n",
              "      <button class=\"colab-df-convert\" onclick=\"convertToInteractive('df-3d6de0b1-289d-404e-9472-880f2f0fefca')\"\n",
              "              title=\"Convert this dataframe to an interactive table.\"\n",
              "              style=\"display:none;\">\n",
              "        \n",
              "  <svg xmlns=\"http://www.w3.org/2000/svg\" height=\"24px\"viewBox=\"0 0 24 24\"\n",
              "       width=\"24px\">\n",
              "    <path d=\"M0 0h24v24H0V0z\" fill=\"none\"/>\n",
              "    <path d=\"M18.56 5.44l.94 2.06.94-2.06 2.06-.94-2.06-.94-.94-2.06-.94 2.06-2.06.94zm-11 1L8.5 8.5l.94-2.06 2.06-.94-2.06-.94L8.5 2.5l-.94 2.06-2.06.94zm10 10l.94 2.06.94-2.06 2.06-.94-2.06-.94-.94-2.06-.94 2.06-2.06.94z\"/><path d=\"M17.41 7.96l-1.37-1.37c-.4-.4-.92-.59-1.43-.59-.52 0-1.04.2-1.43.59L10.3 9.45l-7.72 7.72c-.78.78-.78 2.05 0 2.83L4 21.41c.39.39.9.59 1.41.59.51 0 1.02-.2 1.41-.59l7.78-7.78 2.81-2.81c.8-.78.8-2.07 0-2.86zM5.41 20L4 18.59l7.72-7.72 1.47 1.35L5.41 20z\"/>\n",
              "  </svg>\n",
              "      </button>\n",
              "      \n",
              "  <style>\n",
              "    .colab-df-container {\n",
              "      display:flex;\n",
              "      flex-wrap:wrap;\n",
              "      gap: 12px;\n",
              "    }\n",
              "\n",
              "    .colab-df-convert {\n",
              "      background-color: #E8F0FE;\n",
              "      border: none;\n",
              "      border-radius: 50%;\n",
              "      cursor: pointer;\n",
              "      display: none;\n",
              "      fill: #1967D2;\n",
              "      height: 32px;\n",
              "      padding: 0 0 0 0;\n",
              "      width: 32px;\n",
              "    }\n",
              "\n",
              "    .colab-df-convert:hover {\n",
              "      background-color: #E2EBFA;\n",
              "      box-shadow: 0px 1px 2px rgba(60, 64, 67, 0.3), 0px 1px 3px 1px rgba(60, 64, 67, 0.15);\n",
              "      fill: #174EA6;\n",
              "    }\n",
              "\n",
              "    [theme=dark] .colab-df-convert {\n",
              "      background-color: #3B4455;\n",
              "      fill: #D2E3FC;\n",
              "    }\n",
              "\n",
              "    [theme=dark] .colab-df-convert:hover {\n",
              "      background-color: #434B5C;\n",
              "      box-shadow: 0px 1px 3px 1px rgba(0, 0, 0, 0.15);\n",
              "      filter: drop-shadow(0px 1px 2px rgba(0, 0, 0, 0.3));\n",
              "      fill: #FFFFFF;\n",
              "    }\n",
              "  </style>\n",
              "\n",
              "      <script>\n",
              "        const buttonEl =\n",
              "          document.querySelector('#df-3d6de0b1-289d-404e-9472-880f2f0fefca button.colab-df-convert');\n",
              "        buttonEl.style.display =\n",
              "          google.colab.kernel.accessAllowed ? 'block' : 'none';\n",
              "\n",
              "        async function convertToInteractive(key) {\n",
              "          const element = document.querySelector('#df-3d6de0b1-289d-404e-9472-880f2f0fefca');\n",
              "          const dataTable =\n",
              "            await google.colab.kernel.invokeFunction('convertToInteractive',\n",
              "                                                     [key], {});\n",
              "          if (!dataTable) return;\n",
              "\n",
              "          const docLinkHtml = 'Like what you see? Visit the ' +\n",
              "            '<a target=\"_blank\" href=https://colab.research.google.com/notebooks/data_table.ipynb>data table notebook</a>'\n",
              "            + ' to learn more about interactive tables.';\n",
              "          element.innerHTML = '';\n",
              "          dataTable['output_type'] = 'display_data';\n",
              "          await google.colab.output.renderOutput(dataTable, element);\n",
              "          const docLink = document.createElement('div');\n",
              "          docLink.innerHTML = docLinkHtml;\n",
              "          element.appendChild(docLink);\n",
              "        }\n",
              "      </script>\n",
              "    </div>\n",
              "  </div>\n",
              "  "
            ]
          },
          "metadata": {},
          "execution_count": 34
        }
      ]
    },
    {
      "cell_type": "code",
      "source": [
        "unique_values = df['EsFraude'].unique()\n",
        "print(unique_values)"
      ],
      "metadata": {
        "colab": {
          "base_uri": "https://localhost:8080/"
        },
        "id": "817P8_UPht_U",
        "outputId": "2754a4c2-eb73-4db2-f999-88106725e7c5"
      },
      "execution_count": 54,
      "outputs": [
        {
          "output_type": "stream",
          "name": "stdout",
          "text": [
            "[0 1]\n"
          ]
        }
      ]
    },
    {
      "cell_type": "code",
      "source": [
        "df.shape  #Tenemos 144.233 transacciones con 13 columnas que nos informan varias cosas sobre la transacción"
      ],
      "metadata": {
        "colab": {
          "base_uri": "https://localhost:8080/"
        },
        "id": "phY43SCfm_bJ",
        "outputId": "310d6993-acbb-4bac-f178-011cf6a39806"
      },
      "execution_count": 35,
      "outputs": [
        {
          "output_type": "execute_result",
          "data": {
            "text/plain": [
              "(144233, 13)"
            ]
          },
          "metadata": {},
          "execution_count": 35
        }
      ]
    },
    {
      "cell_type": "code",
      "source": [
        "null_counts = df.isnull().sum()\n",
        "print(null_counts)\n"
      ],
      "metadata": {
        "colab": {
          "base_uri": "https://localhost:8080/"
        },
        "id": "qgxvgMAg7bEM",
        "outputId": "a2fe3e9e-cec9-4d3e-f304-a497c3d8e5a4"
      },
      "execution_count": 55,
      "outputs": [
        {
          "output_type": "stream",
          "name": "stdout",
          "text": [
            "IdTransaccion            0\n",
            "Proxy               139064\n",
            "SistemaOperativo     66668\n",
            "Navegador             3951\n",
            "Resolucion           70944\n",
            "TipoDispositivo       3423\n",
            "InfoDispositivo      25567\n",
            "EsFraude                 0\n",
            "LineaDeTiempo            0\n",
            "MontoTransaccion         0\n",
            "Franquicia               0\n",
            "TipoTarjeta              0\n",
            "DominioCompra            0\n",
            "dtype: int64\n"
          ]
        }
      ]
    },
    {
      "cell_type": "code",
      "source": [
        "columns_to_fillna = ['Proxy', 'Navegador', 'Resolucion', 'TipoDispositivo', 'InfoDispositivo']\n",
        "for column in columns_to_fillna:\n",
        "    df[column] = df[column].fillna('Sin Información')"
      ],
      "metadata": {
        "id": "FJRqVPTF7swo"
      },
      "execution_count": 18,
      "outputs": []
    },
    {
      "cell_type": "markdown",
      "source": [
        "\n",
        "##2. Análisis de la variable objetivo (isFraud)"
      ],
      "metadata": {
        "id": "ZiC4jDIwxZie"
      }
    },
    {
      "cell_type": "code",
      "source": [
        "#Distribución de la variable objetivo\n",
        "sns.distplot(df['EsFraude'])"
      ],
      "metadata": {
        "colab": {
          "base_uri": "https://localhost:8080/",
          "height": 466
        },
        "id": "16fRowIbwbRc",
        "outputId": "d471f81f-8779-41fe-fe90-112d43ed9609"
      },
      "execution_count": 26,
      "outputs": [
        {
          "output_type": "execute_result",
          "data": {
            "text/plain": [
              "<Axes: xlabel='EsFraude', ylabel='Density'>"
            ]
          },
          "metadata": {},
          "execution_count": 26
        },
        {
          "output_type": "display_data",
          "data": {
            "text/plain": [
              "<Figure size 640x480 with 1 Axes>"
            ],
            "image/png": "[encoded data removed]"
          },
          "metadata": {}
        }
      ]
    },
    {
      "cell_type": "code",
      "source": [
        "unique_values = df['EsFraude'].unique()\n",
        "print(unique_values)"
      ],
      "metadata": {
        "colab": {
          "base_uri": "https://localhost:8080/"
        },
        "id": "l7u28x3DwXUH",
        "outputId": "563b1bd4-31c0-46d0-a0ba-6c470fe5f10d"
      },
      "execution_count": 39,
      "outputs": [
        {
          "output_type": "stream",
          "name": "stdout",
          "text": [
            "[0 1]\n"
          ]
        }
      ]
    },
    {
      "cell_type": "code",
      "source": [
        "#Ahora mediremos el sesgo de nuestra variable objetivo\n",
        "print('Skewness de la variable objetivo {:.1f}%'.format(round((df['EsFraude'].skew()),1)))"
      ],
      "metadata": {
        "colab": {
          "base_uri": "https://localhost:8080/"
        },
        "id": "JnfikG-9xza1",
        "outputId": "85a66b9f-9e64-4aa0-8c2d-0ec586fe0af1"
      },
      "execution_count": 40,
      "outputs": [
        {
          "output_type": "stream",
          "name": "stdout",
          "text": [
            "Skewness de la variable objetivo 3.1%\n"
          ]
        }
      ]
    },
    {
      "cell_type": "markdown",
      "source": [
        "Observación:\n",
        "La variable objetivo presenta una asimetria muy pronunciada hacia la izquierda.\n",
        "Se puede arreglar esta asimetria aplicando una transformación logaritmica."
      ],
      "metadata": {
        "id": "KBqlO13yyyLJ"
      }
    },
    {
      "cell_type": "code",
      "source": [
        "df.head()"
      ],
      "metadata": {
        "colab": {
          "base_uri": "https://localhost:8080/",
          "height": 206
        },
        "id": "6F8FjPg92F6l",
        "outputId": "afe08600-b118-4321-fdf8-0e7902d8cff0"
      },
      "execution_count": 59,
      "outputs": [
        {
          "output_type": "execute_result",
          "data": {
            "text/plain": [
              "   IdTransaccion Proxy  SistemaOperativo            Navegador Resolucion  \\\n",
              "0        2987004   NaN       android 7.0  samsung browser 6.2  2220x1080   \n",
              "1        2987008   NaN        ios 11.1.2   mobile safari 11.0   1334x750   \n",
              "2        2987010   NaN               NaN          chrome 62.0        NaN   \n",
              "3        2987011   NaN               NaN          chrome 62.0        NaN   \n",
              "4        2987016   NaN  mac os x 10.11.6          chrome 62.0   1280x800   \n",
              "\n",
              "  TipoDispositivo                InfoDispositivo  EsFraude  LineaDeTiempo  \\\n",
              "0          mobile  SAMSUNG SM-G892A Build/NRD90M         0          86506   \n",
              "1          mobile                     iOS Device         0          86535   \n",
              "2         desktop                        Windows         0          86549   \n",
              "3         desktop                            NaN         0          86555   \n",
              "4         desktop                          MacOS         0          86620   \n",
              "\n",
              "   MontoTransaccion  Franquicia TipoTarjeta  DominioCompra  \n",
              "0            50.000  mastercard      credit      gmail.com  \n",
              "1            15.000        visa       debit  anonymous.com  \n",
              "2            75.887  mastercard      credit      gmail.com  \n",
              "3            16.495  mastercard       debit    hotmail.com  \n",
              "4            30.000        visa       debit        aol.com  "
            ],
            "text/html": [
              "\n",
              "  <div id=\"df-f6a80501-6e81-4ec3-a81e-bdc22f01b25f\">\n",
              "    <div class=\"colab-df-container\">\n",
              "      <div>\n",
              "<style scoped>\n",
              "    .dataframe tbody tr th:only-of-type {\n",
              "        vertical-align: middle;\n",
              "    }\n",
              "\n",
              "    .dataframe tbody tr th {\n",
              "        vertical-align: top;\n",
              "    }\n",
              "\n",
              "    .dataframe thead th {\n",
              "        text-align: right;\n",
              "    }\n",
              "</style>\n",
              "<table border=\"1\" class=\"dataframe\">\n",
              "  <thead>\n",
              "    <tr style=\"text-align: right;\">\n",
              "      <th></th>\n",
              "      <th>IdTransaccion</th>\n",
              "      <th>Proxy</th>\n",
              "      <th>SistemaOperativo</th>\n",
              "      <th>Navegador</th>\n",
              "      <th>Resolucion</th>\n",
              "      <th>TipoDispositivo</th>\n",
              "      <th>InfoDispositivo</th>\n",
              "      <th>EsFraude</th>\n",
              "      <th>LineaDeTiempo</th>\n",
              "      <th>MontoTransaccion</th>\n",
              "      <th>Franquicia</th>\n",
              "      <th>TipoTarjeta</th>\n",
              "      <th>DominioCompra</th>\n",
              "    </tr>\n",
              "  </thead>\n",
              "  <tbody>\n",
              "    <tr>\n",
              "      <th>0</th>\n",
              "      <td>2987004</td>\n",
              "      <td>NaN</td>\n",
              "      <td>android 7.0</td>\n",
              "      <td>samsung browser 6.2</td>\n",
              "      <td>2220x1080</td>\n",
              "      <td>mobile</td>\n",
              "      <td>SAMSUNG SM-G892A Build/NRD90M</td>\n",
              "      <td>0</td>\n",
              "      <td>86506</td>\n",
              "      <td>50.000</td>\n",
              "      <td>mastercard</td>\n",
              "      <td>credit</td>\n",
              "      <td>gmail.com</td>\n",
              "    </tr>\n",
              "    <tr>\n",
              "      <th>1</th>\n",
              "      <td>2987008</td>\n",
              "      <td>NaN</td>\n",
              "      <td>ios 11.1.2</td>\n",
              "      <td>mobile safari 11.0</td>\n",
              "      <td>1334x750</td>\n",
              "      <td>mobile</td>\n",
              "      <td>iOS Device</td>\n",
              "      <td>0</td>\n",
              "      <td>86535</td>\n",
              "      <td>15.000</td>\n",
              "      <td>visa</td>\n",
              "      <td>debit</td>\n",
              "      <td>anonymous.com</td>\n",
              "    </tr>\n",
              "    <tr>\n",
              "      <th>2</th>\n",
              "      <td>2987010</td>\n",
              "      <td>NaN</td>\n",
              "      <td>NaN</td>\n",
              "      <td>chrome 62.0</td>\n",
              "      <td>NaN</td>\n",
              "      <td>desktop</td>\n",
              "      <td>Windows</td>\n",
              "      <td>0</td>\n",
              "      <td>86549</td>\n",
              "      <td>75.887</td>\n",
              "      <td>mastercard</td>\n",
              "      <td>credit</td>\n",
              "      <td>gmail.com</td>\n",
              "    </tr>\n",
              "    <tr>\n",
              "      <th>3</th>\n",
              "      <td>2987011</td>\n",
              "      <td>NaN</td>\n",
              "      <td>NaN</td>\n",
              "      <td>chrome 62.0</td>\n",
              "      <td>NaN</td>\n",
              "      <td>desktop</td>\n",
              "      <td>NaN</td>\n",
              "      <td>0</td>\n",
              "      <td>86555</td>\n",
              "      <td>16.495</td>\n",
              "      <td>mastercard</td>\n",
              "      <td>debit</td>\n",
              "      <td>hotmail.com</td>\n",
              "    </tr>\n",
              "    <tr>\n",
              "      <th>4</th>\n",
              "      <td>2987016</td>\n",
              "      <td>NaN</td>\n",
              "      <td>mac os x 10.11.6</td>\n",
              "      <td>chrome 62.0</td>\n",
              "      <td>1280x800</td>\n",
              "      <td>desktop</td>\n",
              "      <td>MacOS</td>\n",
              "      <td>0</td>\n",
              "      <td>86620</td>\n",
              "      <td>30.000</td>\n",
              "      <td>visa</td>\n",
              "      <td>debit</td>\n",
              "      <td>aol.com</td>\n",
              "    </tr>\n",
              "  </tbody>\n",
              "</table>\n",
              "</div>\n",
              "      <button class=\"colab-df-convert\" onclick=\"convertToInteractive('df-f6a80501-6e81-4ec3-a81e-bdc22f01b25f')\"\n",
              "              title=\"Convert this dataframe to an interactive table.\"\n",
              "              style=\"display:none;\">\n",
              "        \n",
              "  <svg xmlns=\"http://www.w3.org/2000/svg\" height=\"24px\"viewBox=\"0 0 24 24\"\n",
              "       width=\"24px\">\n",
              "    <path d=\"M0 0h24v24H0V0z\" fill=\"none\"/>\n",
              "    <path d=\"M18.56 5.44l.94 2.06.94-2.06 2.06-.94-2.06-.94-.94-2.06-.94 2.06-2.06.94zm-11 1L8.5 8.5l.94-2.06 2.06-.94-2.06-.94L8.5 2.5l-.94 2.06-2.06.94zm10 10l.94 2.06.94-2.06 2.06-.94-2.06-.94-.94-2.06-.94 2.06-2.06.94z\"/><path d=\"M17.41 7.96l-1.37-1.37c-.4-.4-.92-.59-1.43-.59-.52 0-1.04.2-1.43.59L10.3 9.45l-7.72 7.72c-.78.78-.78 2.05 0 2.83L4 21.41c.39.39.9.59 1.41.59.51 0 1.02-.2 1.41-.59l7.78-7.78 2.81-2.81c.8-.78.8-2.07 0-2.86zM5.41 20L4 18.59l7.72-7.72 1.47 1.35L5.41 20z\"/>\n",
              "  </svg>\n",
              "      </button>\n",
              "      \n",
              "  <style>\n",
              "    .colab-df-container {\n",
              "      display:flex;\n",
              "      flex-wrap:wrap;\n",
              "      gap: 12px;\n",
              "    }\n",
              "\n",
              "    .colab-df-convert {\n",
              "      background-color: #E8F0FE;\n",
              "      border: none;\n",
              "      border-radius: 50%;\n",
              "      cursor: pointer;\n",
              "      display: none;\n",
              "      fill: #1967D2;\n",
              "      height: 32px;\n",
              "      padding: 0 0 0 0;\n",
              "      width: 32px;\n",
              "    }\n",
              "\n",
              "    .colab-df-convert:hover {\n",
              "      background-color: #E2EBFA;\n",
              "      box-shadow: 0px 1px 2px rgba(60, 64, 67, 0.3), 0px 1px 3px 1px rgba(60, 64, 67, 0.15);\n",
              "      fill: #174EA6;\n",
              "    }\n",
              "\n",
              "    [theme=dark] .colab-df-convert {\n",
              "      background-color: #3B4455;\n",
              "      fill: #D2E3FC;\n",
              "    }\n",
              "\n",
              "    [theme=dark] .colab-df-convert:hover {\n",
              "      background-color: #434B5C;\n",
              "      box-shadow: 0px 1px 3px 1px rgba(0, 0, 0, 0.15);\n",
              "      filter: drop-shadow(0px 1px 2px rgba(0, 0, 0, 0.3));\n",
              "      fill: #FFFFFF;\n",
              "    }\n",
              "  </style>\n",
              "\n",
              "      <script>\n",
              "        const buttonEl =\n",
              "          document.querySelector('#df-f6a80501-6e81-4ec3-a81e-bdc22f01b25f button.colab-df-convert');\n",
              "        buttonEl.style.display =\n",
              "          google.colab.kernel.accessAllowed ? 'block' : 'none';\n",
              "\n",
              "        async function convertToInteractive(key) {\n",
              "          const element = document.querySelector('#df-f6a80501-6e81-4ec3-a81e-bdc22f01b25f');\n",
              "          const dataTable =\n",
              "            await google.colab.kernel.invokeFunction('convertToInteractive',\n",
              "                                                     [key], {});\n",
              "          if (!dataTable) return;\n",
              "\n",
              "          const docLinkHtml = 'Like what you see? Visit the ' +\n",
              "            '<a target=\"_blank\" href=https://colab.research.google.com/notebooks/data_table.ipynb>data table notebook</a>'\n",
              "            + ' to learn more about interactive tables.';\n",
              "          element.innerHTML = '';\n",
              "          dataTable['output_type'] = 'display_data';\n",
              "          await google.colab.output.renderOutput(dataTable, element);\n",
              "          const docLink = document.createElement('div');\n",
              "          docLink.innerHTML = docLinkHtml;\n",
              "          element.appendChild(docLink);\n",
              "        }\n",
              "      </script>\n",
              "    </div>\n",
              "  </div>\n",
              "  "
            ]
          },
          "metadata": {},
          "execution_count": 59
        }
      ]
    },
    {
      "cell_type": "code",
      "source": [
        "unique_values = df['EsFraude'].unique()\n",
        "print(unique_values)"
      ],
      "metadata": {
        "colab": {
          "base_uri": "https://localhost:8080/"
        },
        "id": "pZXxjHHjhW5u",
        "outputId": "fbbe8b02-1a7c-49a5-e6f9-b435b8c0ddad"
      },
      "execution_count": 60,
      "outputs": [
        {
          "output_type": "stream",
          "name": "stdout",
          "text": [
            "[0 1]\n"
          ]
        }
      ]
    },
    {
      "cell_type": "code",
      "source": [
        "import matplotlib.pyplot as plt\n",
        "\n",
        "fraud_count = df['EsFraude'].value_counts()\n",
        "fraud_percentage = fraud_count / len(df) * 100\n",
        "plt.bar(fraud_count.index, fraud_count.values)\n",
        "plt.xlabel('EsFraude')\n",
        "plt.ylabel('Cantidad de transacciones')\n",
        "plt.xticks(fraud_count.index, ['No Fraude', 'Fraude'])\n",
        "plt.title('Distribución de transacciones fraudulentas y no fraudulentas')\n",
        "plt.show()\n",
        "print(\"Porcentaje de transacciones fraudulentas: {:.2f}%\".format(fraud_percentage[1]))\n",
        "print(\"Porcentaje de transacciones no fraudulentas: {:.2f}%\".format(fraud_percentage[0]))\n"
      ],
      "metadata": {
        "colab": {
          "base_uri": "https://localhost:8080/",
          "height": 507
        },
        "id": "XoAjnxc6-4wt",
        "outputId": "140a4282-6e0b-4fec-fc9a-110a36da000d"
      },
      "execution_count": 61,
      "outputs": [
        {
          "output_type": "display_data",
          "data": {
            "text/plain": [
              "<Figure size 640x480 with 1 Axes>"
            ],
            "image/png": "[encoded data removed]"
          },
          "metadata": {}
        },
        {
          "output_type": "stream",
          "name": "stdout",
          "text": [
            "Porcentaje de transacciones fraudulentas: 7.85%\n",
            "Porcentaje de transacciones no fraudulentas: 92.15%\n"
          ]
        }
      ]
    },
    {
      "cell_type": "markdown",
      "source": [
        "## 3. Exploración de variables"
      ],
      "metadata": {
        "id": "CwFKNEWtzLJE"
      }
    },
    {
      "cell_type": "code",
      "source": [
        "df.describe()\n"
      ],
      "metadata": {
        "colab": {
          "base_uri": "https://localhost:8080/",
          "height": 301
        },
        "id": "mLdib6DN_bED",
        "outputId": "7c46a23f-a810-4e78-9dd0-7d0f75a9ca5d"
      },
      "execution_count": 108,
      "outputs": [
        {
          "output_type": "execute_result",
          "data": {
            "text/plain": [
              "       IdTransaccion       EsFraude  LineaDeTiempo  MontoTransaccion\n",
              "count   1.442330e+05  144233.000000   1.442330e+05     144233.000000\n",
              "mean    3.236329e+06       0.078470   6.166958e+06         83.554533\n",
              "std     1.788496e+05       0.268911   4.807714e+06         99.850258\n",
              "min     2.987004e+06       0.000000   8.650600e+04          0.251000\n",
              "25%     3.077142e+06       0.000000   1.885289e+06         25.453000\n",
              "50%     3.198818e+06       0.000000   4.913738e+06         50.000000\n",
              "75%     3.392923e+06       0.000000   1.025794e+07        100.000000\n",
              "max     3.577534e+06       1.000000   1.581103e+07       1800.000000"
            ],
            "text/html": [
              "\n",
              "  <div id=\"df-88991f33-221b-4f49-9640-4cf3aa49bea9\">\n",
              "    <div class=\"colab-df-container\">\n",
              "      <div>\n",
              "<style scoped>\n",
              "    .dataframe tbody tr th:only-of-type {\n",
              "        vertical-align: middle;\n",
              "    }\n",
              "\n",
              "    .dataframe tbody tr th {\n",
              "        vertical-align: top;\n",
              "    }\n",
              "\n",
              "    .dataframe thead th {\n",
              "        text-align: right;\n",
              "    }\n",
              "</style>\n",
              "<table border=\"1\" class=\"dataframe\">\n",
              "  <thead>\n",
              "    <tr style=\"text-align: right;\">\n",
              "      <th></th>\n",
              "      <th>IdTransaccion</th>\n",
              "      <th>EsFraude</th>\n",
              "      <th>LineaDeTiempo</th>\n",
              "      <th>MontoTransaccion</th>\n",
              "    </tr>\n",
              "  </thead>\n",
              "  <tbody>\n",
              "    <tr>\n",
              "      <th>count</th>\n",
              "      <td>1.442330e+05</td>\n",
              "      <td>144233.000000</td>\n",
              "      <td>1.442330e+05</td>\n",
              "      <td>144233.000000</td>\n",
              "    </tr>\n",
              "    <tr>\n",
              "      <th>mean</th>\n",
              "      <td>3.236329e+06</td>\n",
              "      <td>0.078470</td>\n",
              "      <td>6.166958e+06</td>\n",
              "      <td>83.554533</td>\n",
              "    </tr>\n",
              "    <tr>\n",
              "      <th>std</th>\n",
              "      <td>1.788496e+05</td>\n",
              "      <td>0.268911</td>\n",
              "      <td>4.807714e+06</td>\n",
              "      <td>99.850258</td>\n",
              "    </tr>\n",
              "    <tr>\n",
              "      <th>min</th>\n",
              "      <td>2.987004e+06</td>\n",
              "      <td>0.000000</td>\n",
              "      <td>8.650600e+04</td>\n",
              "      <td>0.251000</td>\n",
              "    </tr>\n",
              "    <tr>\n",
              "      <th>25%</th>\n",
              "      <td>3.077142e+06</td>\n",
              "      <td>0.000000</td>\n",
              "      <td>1.885289e+06</td>\n",
              "      <td>25.453000</td>\n",
              "    </tr>\n",
              "    <tr>\n",
              "      <th>50%</th>\n",
              "      <td>3.198818e+06</td>\n",
              "      <td>0.000000</td>\n",
              "      <td>4.913738e+06</td>\n",
              "      <td>50.000000</td>\n",
              "    </tr>\n",
              "    <tr>\n",
              "      <th>75%</th>\n",
              "      <td>3.392923e+06</td>\n",
              "      <td>0.000000</td>\n",
              "      <td>1.025794e+07</td>\n",
              "      <td>100.000000</td>\n",
              "    </tr>\n",
              "    <tr>\n",
              "      <th>max</th>\n",
              "      <td>3.577534e+06</td>\n",
              "      <td>1.000000</td>\n",
              "      <td>1.581103e+07</td>\n",
              "      <td>1800.000000</td>\n",
              "    </tr>\n",
              "  </tbody>\n",
              "</table>\n",
              "</div>\n",
              "      <button class=\"colab-df-convert\" onclick=\"convertToInteractive('df-88991f33-221b-4f49-9640-4cf3aa49bea9')\"\n",
              "              title=\"Convert this dataframe to an interactive table.\"\n",
              "              style=\"display:none;\">\n",
              "        \n",
              "  <svg xmlns=\"http://www.w3.org/2000/svg\" height=\"24px\"viewBox=\"0 0 24 24\"\n",
              "       width=\"24px\">\n",
              "    <path d=\"M0 0h24v24H0V0z\" fill=\"none\"/>\n",
              "    <path d=\"M18.56 5.44l.94 2.06.94-2.06 2.06-.94-2.06-.94-.94-2.06-.94 2.06-2.06.94zm-11 1L8.5 8.5l.94-2.06 2.06-.94-2.06-.94L8.5 2.5l-.94 2.06-2.06.94zm10 10l.94 2.06.94-2.06 2.06-.94-2.06-.94-.94-2.06-.94 2.06-2.06.94z\"/><path d=\"M17.41 7.96l-1.37-1.37c-.4-.4-.92-.59-1.43-.59-.52 0-1.04.2-1.43.59L10.3 9.45l-7.72 7.72c-.78.78-.78 2.05 0 2.83L4 21.41c.39.39.9.59 1.41.59.51 0 1.02-.2 1.41-.59l7.78-7.78 2.81-2.81c.8-.78.8-2.07 0-2.86zM5.41 20L4 18.59l7.72-7.72 1.47 1.35L5.41 20z\"/>\n",
              "  </svg>\n",
              "      </button>\n",
              "      \n",
              "  <style>\n",
              "    .colab-df-container {\n",
              "      display:flex;\n",
              "      flex-wrap:wrap;\n",
              "      gap: 12px;\n",
              "    }\n",
              "\n",
              "    .colab-df-convert {\n",
              "      background-color: #E8F0FE;\n",
              "      border: none;\n",
              "      border-radius: 50%;\n",
              "      cursor: pointer;\n",
              "      display: none;\n",
              "      fill: #1967D2;\n",
              "      height: 32px;\n",
              "      padding: 0 0 0 0;\n",
              "      width: 32px;\n",
              "    }\n",
              "\n",
              "    .colab-df-convert:hover {\n",
              "      background-color: #E2EBFA;\n",
              "      box-shadow: 0px 1px 2px rgba(60, 64, 67, 0.3), 0px 1px 3px 1px rgba(60, 64, 67, 0.15);\n",
              "      fill: #174EA6;\n",
              "    }\n",
              "\n",
              "    [theme=dark] .colab-df-convert {\n",
              "      background-color: #3B4455;\n",
              "      fill: #D2E3FC;\n",
              "    }\n",
              "\n",
              "    [theme=dark] .colab-df-convert:hover {\n",
              "      background-color: #434B5C;\n",
              "      box-shadow: 0px 1px 3px 1px rgba(0, 0, 0, 0.15);\n",
              "      filter: drop-shadow(0px 1px 2px rgba(0, 0, 0, 0.3));\n",
              "      fill: #FFFFFF;\n",
              "    }\n",
              "  </style>\n",
              "\n",
              "      <script>\n",
              "        const buttonEl =\n",
              "          document.querySelector('#df-88991f33-221b-4f49-9640-4cf3aa49bea9 button.colab-df-convert');\n",
              "        buttonEl.style.display =\n",
              "          google.colab.kernel.accessAllowed ? 'block' : 'none';\n",
              "\n",
              "        async function convertToInteractive(key) {\n",
              "          const element = document.querySelector('#df-88991f33-221b-4f49-9640-4cf3aa49bea9');\n",
              "          const dataTable =\n",
              "            await google.colab.kernel.invokeFunction('convertToInteractive',\n",
              "                                                     [key], {});\n",
              "          if (!dataTable) return;\n",
              "\n",
              "          const docLinkHtml = 'Like what you see? Visit the ' +\n",
              "            '<a target=\"_blank\" href=https://colab.research.google.com/notebooks/data_table.ipynb>data table notebook</a>'\n",
              "            + ' to learn more about interactive tables.';\n",
              "          element.innerHTML = '';\n",
              "          dataTable['output_type'] = 'display_data';\n",
              "          await google.colab.output.renderOutput(dataTable, element);\n",
              "          const docLink = document.createElement('div');\n",
              "          docLink.innerHTML = docLinkHtml;\n",
              "          element.appendChild(docLink);\n",
              "        }\n",
              "      </script>\n",
              "    </div>\n",
              "  </div>\n",
              "  "
            ]
          },
          "metadata": {},
          "execution_count": 108
        }
      ]
    },
    {
      "cell_type": "markdown",
      "source": [
        "Tenemos 144.233 datos en Fraude\n",
        "\n",
        "La media de las transacciones es de 83 dolares, con un minimo de 0.25 centavos de dolar y un máximo de 1.800 dolares.\n",
        "\n",
        "Podriamos decir que los montos para hacer fraudes son inferiores a 1.800 dólares"
      ],
      "metadata": {
        "id": "PlJBx630_emK"
      }
    },
    {
      "cell_type": "markdown",
      "source": [
        "#### 3.1. Franquicias"
      ],
      "metadata": {
        "id": "nIecbH_fzW7f"
      }
    },
    {
      "cell_type": "code",
      "source": [
        "transacciones.columns"
      ],
      "metadata": {
        "colab": {
          "base_uri": "https://localhost:8080/"
        },
        "id": "qqm17V1Hw0pM",
        "outputId": "8ad997a5-92dd-46a9-eb2c-a779460bd294"
      },
      "execution_count": 87,
      "outputs": [
        {
          "output_type": "execute_result",
          "data": {
            "text/plain": [
              "Index(['IdTransaccion', 'EsFraude', 'LineaDeTiempo', 'MontoTransaccion',\n",
              "       'Franquicia', 'TipoTarjeta', 'DominioCompra'],\n",
              "      dtype='object')"
            ]
          },
          "metadata": {},
          "execution_count": 87
        }
      ]
    },
    {
      "cell_type": "code",
      "source": [
        "import plotly.graph_objects as go\n",
        "\n",
        "count_franquicias = df['Franquicia'].value_counts()\n",
        "fig = go.Figure(data=[go.Pie(labels=count_franquicias.index, values=count_franquicias)])\n",
        "fig.update_layout(\n",
        "    title='Distribución de Transacciones por Franquicia',\n",
        "    showlegend=True,\n",
        "    legend=dict(\n",
        "        orientation=\"h\",\n",
        "        yanchor=\"bottom\",\n",
        "        y=1.02,\n",
        "        xanchor=\"center\",\n",
        "        x=0.5\n",
        "    )\n",
        ")\n",
        "fig.show()\n"
      ],
      "metadata": {
        "colab": {
          "base_uri": "https://localhost:8080/",
          "height": 542
        },
        "id": "VdkWjbWR0ZqM",
        "outputId": "0071929d-d127-44df-bbff-96a272beeda4"
      },
      "execution_count": 62,
      "outputs": [
        {
          "output_type": "display_data",
          "data": {
            "text/html": [
              "<html>\n",
              "<head><meta charset=\"utf-8\" /></head>\n",
              "<body>\n",
              "    <div>            <script src=\"https://cdnjs.cloudflare.com/ajax/libs/mathjax/2.7.5/MathJax.js?config=TeX-AMS-MML_SVG\"></script><script type=\"text/javascript\">if (window.MathJax && window.MathJax.Hub && window.MathJax.Hub.Config) {window.MathJax.Hub.Config({SVG: {font: \"STIX-Web\"}});}</script>                <script type=\"text/javascript\">window.PlotlyConfig = {MathJaxConfig: 'local'};</script>\n",
              "        <script src=\"https://cdn.plot.ly/plotly-2.18.2.min.js\"></script>                <div id=\"07b49cbe-140b-4914-913f-264a48d8a59e\" class=\"plotly-graph-div\" style=\"height:525px; width:100%;\"></div>            <script type=\"text/javascript\">                                    window.PLOTLYENV=window.PLOTLYENV || {};                                    if (document.getElementById(\"07b49cbe-140b-4914-913f-264a48d8a59e\")) {                    Plotly.newPlot(                        \"07b49cbe-140b-4914-913f-264a48d8a59e\",                        [{\"labels\":[\"visa\",\"mastercard\",\"american express\",\"discover\",\"Sin Informaci\\u00f3n\"],\"values\":[89299,44186,8298,2266,184],\"type\":\"pie\"}],                        {\"template\":{\"data\":{\"histogram2dcontour\":[{\"type\":\"histogram2dcontour\",\"colorbar\":{\"outlinewidth\":0,\"ticks\":\"\"},\"colorscale\":[[0.0,\"#0d0887\"],[0.1111111111111111,\"#46039f\"],[0.2222222222222222,\"#7201a8\"],[0.3333333333333333,\"#9c179e\"],[0.4444444444444444,\"#bd3786\"],[0.5555555555555556,\"#d8576b\"],[0.6666666666666666,\"#ed7953\"],[0.7777777777777778,\"#fb9f3a\"],[0.8888888888888888,\"#fdca26\"],[1.0,\"#f0f921\"]]}],\"choropleth\":[{\"type\":\"choropleth\",\"colorbar\":{\"outlinewidth\":0,\"ticks\":\"\"}}],\"histogram2d\":[{\"type\":\"histogram2d\",\"colorbar\":{\"outlinewidth\":0,\"ticks\":\"\"},\"colorscale\":[[0.0,\"#0d0887\"],[0.1111111111111111,\"#46039f\"],[0.2222222222222222,\"#7201a8\"],[0.3333333333333333,\"#9c179e\"],[0.4444444444444444,\"#bd3786\"],[0.5555555555555556,\"#d8576b\"],[0.6666666666666666,\"#ed7953\"],[0.7777777777777778,\"#fb9f3a\"],[0.8888888888888888,\"#fdca26\"],[1.0,\"#f0f921\"]]}],\"heatmap\":[{\"type\":\"heatmap\",\"colorbar\":{\"outlinewidth\":0,\"ticks\":\"\"},\"colorscale\":[[0.0,\"#0d0887\"],[0.1111111111111111,\"#46039f\"],[0.2222222222222222,\"#7201a8\"],[0.3333333333333333,\"#9c179e\"],[0.4444444444444444,\"#bd3786\"],[0.5555555555555556,\"#d8576b\"],[0.6666666666666666,\"#ed7953\"],[0.7777777777777778,\"#fb9f3a\"],[0.8888888888888888,\"#fdca26\"],[1.0,\"#f0f921\"]]}],\"heatmapgl\":[{\"type\":\"heatmapgl\",\"colorbar\":{\"outlinewidth\":0,\"ticks\":\"\"},\"colorscale\":[[0.0,\"#0d0887\"],[0.1111111111111111,\"#46039f\"],[0.2222222222222222,\"#7201a8\"],[0.3333333333333333,\"#9c179e\"],[0.4444444444444444,\"#bd3786\"],[0.5555555555555556,\"#d8576b\"],[0.6666666666666666,\"#ed7953\"],[0.7777777777777778,\"#fb9f3a\"],[0.8888888888888888,\"#fdca26\"],[1.0,\"#f0f921\"]]}],\"contourcarpet\":[{\"type\":\"contourcarpet\",\"colorbar\":{\"outlinewidth\":0,\"ticks\":\"\"}}],\"contour\":[{\"type\":\"contour\",\"colorbar\":{\"outlinewidth\":0,\"ticks\":\"\"},\"colorscale\":[[0.0,\"#0d0887\"],[0.1111111111111111,\"#46039f\"],[0.2222222222222222,\"#7201a8\"],[0.3333333333333333,\"#9c179e\"],[0.4444444444444444,\"#bd3786\"],[0.5555555555555556,\"#d8576b\"],[0.6666666666666666,\"#ed7953\"],[0.7777777777777778,\"#fb9f3a\"],[0.8888888888888888,\"#fdca26\"],[1.0,\"#f0f921\"]]}],\"surface\":[{\"type\":\"surface\",\"colorbar\":{\"outlinewidth\":0,\"ticks\":\"\"},\"colorscale\":[[0.0,\"#0d0887\"],[0.1111111111111111,\"#46039f\"],[0.2222222222222222,\"#7201a8\"],[0.3333333333333333,\"#9c179e\"],[0.4444444444444444,\"#bd3786\"],[0.5555555555555556,\"#d8576b\"],[0.6666666666666666,\"#ed7953\"],[0.7777777777777778,\"#fb9f3a\"],[0.8888888888888888,\"#fdca26\"],[1.0,\"#f0f921\"]]}],\"mesh3d\":[{\"type\":\"mesh3d\",\"colorbar\":{\"outlinewidth\":0,\"ticks\":\"\"}}],\"scatter\":[{\"fillpattern\":{\"fillmode\":\"overlay\",\"size\":10,\"solidity\":0.2},\"type\":\"scatter\"}],\"parcoords\":[{\"type\":\"parcoords\",\"line\":{\"colorbar\":{\"outlinewidth\":0,\"ticks\":\"\"}}}],\"scatterpolargl\":[{\"type\":\"scatterpolargl\",\"marker\":{\"colorbar\":{\"outlinewidth\":0,\"ticks\":\"\"}}}],\"bar\":[{\"error_x\":{\"color\":\"#2a3f5f\"},\"error_y\":{\"color\":\"#2a3f5f\"},\"marker\":{\"line\":{\"color\":\"#E5ECF6\",\"width\":0.5},\"pattern\":{\"fillmode\":\"overlay\",\"size\":10,\"solidity\":0.2}},\"type\":\"bar\"}],\"scattergeo\":[{\"type\":\"scattergeo\",\"marker\":{\"colorbar\":{\"outlinewidth\":0,\"ticks\":\"\"}}}],\"scatterpolar\":[{\"type\":\"scatterpolar\",\"marker\":{\"colorbar\":{\"outlinewidth\":0,\"ticks\":\"\"}}}],\"histogram\":[{\"marker\":{\"pattern\":{\"fillmode\":\"overlay\",\"size\":10,\"solidity\":0.2}},\"type\":\"histogram\"}],\"scattergl\":[{\"type\":\"scattergl\",\"marker\":{\"colorbar\":{\"outlinewidth\":0,\"ticks\":\"\"}}}],\"scatter3d\":[{\"type\":\"scatter3d\",\"line\":{\"colorbar\":{\"outlinewidth\":0,\"ticks\":\"\"}},\"marker\":{\"colorbar\":{\"outlinewidth\":0,\"ticks\":\"\"}}}],\"scattermapbox\":[{\"type\":\"scattermapbox\",\"marker\":{\"colorbar\":{\"outlinewidth\":0,\"ticks\":\"\"}}}],\"scatterternary\":[{\"type\":\"scatterternary\",\"marker\":{\"colorbar\":{\"outlinewidth\":0,\"ticks\":\"\"}}}],\"scattercarpet\":[{\"type\":\"scattercarpet\",\"marker\":{\"colorbar\":{\"outlinewidth\":0,\"ticks\":\"\"}}}],\"carpet\":[{\"aaxis\":{\"endlinecolor\":\"#2a3f5f\",\"gridcolor\":\"white\",\"linecolor\":\"white\",\"minorgridcolor\":\"white\",\"startlinecolor\":\"#2a3f5f\"},\"baxis\":{\"endlinecolor\":\"#2a3f5f\",\"gridcolor\":\"white\",\"linecolor\":\"white\",\"minorgridcolor\":\"white\",\"startlinecolor\":\"#2a3f5f\"},\"type\":\"carpet\"}],\"table\":[{\"cells\":{\"fill\":{\"color\":\"#EBF0F8\"},\"line\":{\"color\":\"white\"}},\"header\":{\"fill\":{\"color\":\"#C8D4E3\"},\"line\":{\"color\":\"white\"}},\"type\":\"table\"}],\"barpolar\":[{\"marker\":{\"line\":{\"color\":\"#E5ECF6\",\"width\":0.5},\"pattern\":{\"fillmode\":\"overlay\",\"size\":10,\"solidity\":0.2}},\"type\":\"barpolar\"}],\"pie\":[{\"automargin\":true,\"type\":\"pie\"}]},\"layout\":{\"autotypenumbers\":\"strict\",\"colorway\":[\"#636efa\",\"#EF553B\",\"#00cc96\",\"#ab63fa\",\"#FFA15A\",\"#19d3f3\",\"#FF6692\",\"#B6E880\",\"#FF97FF\",\"#FECB52\"],\"font\":{\"color\":\"#2a3f5f\"},\"hovermode\":\"closest\",\"hoverlabel\":{\"align\":\"left\"},\"paper_bgcolor\":\"white\",\"plot_bgcolor\":\"#E5ECF6\",\"polar\":{\"bgcolor\":\"#E5ECF6\",\"angularaxis\":{\"gridcolor\":\"white\",\"linecolor\":\"white\",\"ticks\":\"\"},\"radialaxis\":{\"gridcolor\":\"white\",\"linecolor\":\"white\",\"ticks\":\"\"}},\"ternary\":{\"bgcolor\":\"#E5ECF6\",\"aaxis\":{\"gridcolor\":\"white\",\"linecolor\":\"white\",\"ticks\":\"\"},\"baxis\":{\"gridcolor\":\"white\",\"linecolor\":\"white\",\"ticks\":\"\"},\"caxis\":{\"gridcolor\":\"white\",\"linecolor\":\"white\",\"ticks\":\"\"}},\"coloraxis\":{\"colorbar\":{\"outlinewidth\":0,\"ticks\":\"\"}},\"colorscale\":{\"sequential\":[[0.0,\"#0d0887\"],[0.1111111111111111,\"#46039f\"],[0.2222222222222222,\"#7201a8\"],[0.3333333333333333,\"#9c179e\"],[0.4444444444444444,\"#bd3786\"],[0.5555555555555556,\"#d8576b\"],[0.6666666666666666,\"#ed7953\"],[0.7777777777777778,\"#fb9f3a\"],[0.8888888888888888,\"#fdca26\"],[1.0,\"#f0f921\"]],\"sequentialminus\":[[0.0,\"#0d0887\"],[0.1111111111111111,\"#46039f\"],[0.2222222222222222,\"#7201a8\"],[0.3333333333333333,\"#9c179e\"],[0.4444444444444444,\"#bd3786\"],[0.5555555555555556,\"#d8576b\"],[0.6666666666666666,\"#ed7953\"],[0.7777777777777778,\"#fb9f3a\"],[0.8888888888888888,\"#fdca26\"],[1.0,\"#f0f921\"]],\"diverging\":[[0,\"#8e0152\"],[0.1,\"#c51b7d\"],[0.2,\"#de77ae\"],[0.3,\"#f1b6da\"],[0.4,\"#fde0ef\"],[0.5,\"#f7f7f7\"],[0.6,\"#e6f5d0\"],[0.7,\"#b8e186\"],[0.8,\"#7fbc41\"],[0.9,\"#4d9221\"],[1,\"#276419\"]]},\"xaxis\":{\"gridcolor\":\"white\",\"linecolor\":\"white\",\"ticks\":\"\",\"title\":{\"standoff\":15},\"zerolinecolor\":\"white\",\"automargin\":true,\"zerolinewidth\":2},\"yaxis\":{\"gridcolor\":\"white\",\"linecolor\":\"white\",\"ticks\":\"\",\"title\":{\"standoff\":15},\"zerolinecolor\":\"white\",\"automargin\":true,\"zerolinewidth\":2},\"scene\":{\"xaxis\":{\"backgroundcolor\":\"#E5ECF6\",\"gridcolor\":\"white\",\"linecolor\":\"white\",\"showbackground\":true,\"ticks\":\"\",\"zerolinecolor\":\"white\",\"gridwidth\":2},\"yaxis\":{\"backgroundcolor\":\"#E5ECF6\",\"gridcolor\":\"white\",\"linecolor\":\"white\",\"showbackground\":true,\"ticks\":\"\",\"zerolinecolor\":\"white\",\"gridwidth\":2},\"zaxis\":{\"backgroundcolor\":\"#E5ECF6\",\"gridcolor\":\"white\",\"linecolor\":\"white\",\"showbackground\":true,\"ticks\":\"\",\"zerolinecolor\":\"white\",\"gridwidth\":2}},\"shapedefaults\":{\"line\":{\"color\":\"#2a3f5f\"}},\"annotationdefaults\":{\"arrowcolor\":\"#2a3f5f\",\"arrowhead\":0,\"arrowwidth\":1},\"geo\":{\"bgcolor\":\"white\",\"landcolor\":\"#E5ECF6\",\"subunitcolor\":\"white\",\"showland\":true,\"showlakes\":true,\"lakecolor\":\"white\"},\"title\":{\"x\":0.05},\"mapbox\":{\"style\":\"light\"}}},\"legend\":{\"orientation\":\"h\",\"yanchor\":\"bottom\",\"y\":1.02,\"xanchor\":\"center\",\"x\":0.5},\"title\":{\"text\":\"Distribuci\\u00f3n de Transacciones por Franquicia\"},\"showlegend\":true},                        {\"responsive\": true}                    ).then(function(){\n",
              "                            \n",
              "var gd = document.getElementById('07b49cbe-140b-4914-913f-264a48d8a59e');\n",
              "var x = new MutationObserver(function (mutations, observer) {{\n",
              "        var display = window.getComputedStyle(gd).display;\n",
              "        if (!display || display === 'none') {{\n",
              "            console.log([gd, 'removed!']);\n",
              "            Plotly.purge(gd);\n",
              "            observer.disconnect();\n",
              "        }}\n",
              "}});\n",
              "\n",
              "// Listen for the removal of the full notebook cells\n",
              "var notebookContainer = gd.closest('#notebook-container');\n",
              "if (notebookContainer) {{\n",
              "    x.observe(notebookContainer, {childList: true});\n",
              "}}\n",
              "\n",
              "// Listen for the clearing of the current output cell\n",
              "var outputEl = gd.closest('.output');\n",
              "if (outputEl) {{\n",
              "    x.observe(outputEl, {childList: true});\n",
              "}}\n",
              "\n",
              "                        })                };                            </script>        </div>\n",
              "</body>\n",
              "</html>"
            ]
          },
          "metadata": {}
        }
      ]
    },
    {
      "cell_type": "markdown",
      "source": [
        "Aquí podemos notar lo siguiente:\n",
        "\n",
        "La franquicia más usada es Visa con un 61.9%\n",
        "Luego mastercard con un 30.6%\n",
        "\n",
        "Con esta dos ya tenemos más de un 90% de las transacciones totales del dataset."
      ],
      "metadata": {
        "id": "xbBXi2m10iVZ"
      }
    },
    {
      "cell_type": "markdown",
      "source": [
        "#### 3.2. Tipo de dispositivo"
      ],
      "metadata": {
        "id": "dGYez9Dk3V6P"
      }
    },
    {
      "cell_type": "code",
      "source": [
        "import plotly.graph_objects as go\n",
        "\n",
        "conteo_dispositivo = df['TipoDispositivo'].value_counts()\n",
        "fig = go.Figure(data=[go.Pie(\n",
        "    labels=conteo_dispositivo.index,\n",
        "    values=conteo_dispositivo.values,\n",
        "    hole=0.4\n",
        ")])\n",
        "fig.update_layout(\n",
        "    title='Distribución de Transacciones por Tipo de Dispositivo',\n",
        "    showlegend=True\n",
        ")\n",
        "\n",
        "fig.show()\n"
      ],
      "metadata": {
        "colab": {
          "base_uri": "https://localhost:8080/",
          "height": 542
        },
        "id": "CetY_Syn1iX1",
        "outputId": "0111b4dd-c255-451e-9ab4-a224554adc2f"
      },
      "execution_count": 63,
      "outputs": [
        {
          "output_type": "display_data",
          "data": {
            "text/html": [
              "<html>\n",
              "<head><meta charset=\"utf-8\" /></head>\n",
              "<body>\n",
              "    <div>            <script src=\"https://cdnjs.cloudflare.com/ajax/libs/mathjax/2.7.5/MathJax.js?config=TeX-AMS-MML_SVG\"></script><script type=\"text/javascript\">if (window.MathJax && window.MathJax.Hub && window.MathJax.Hub.Config) {window.MathJax.Hub.Config({SVG: {font: \"STIX-Web\"}});}</script>                <script type=\"text/javascript\">window.PlotlyConfig = {MathJaxConfig: 'local'};</script>\n",
              "        <script src=\"https://cdn.plot.ly/plotly-2.18.2.min.js\"></script>                <div id=\"b2e71508-196f-4994-b0e8-65b7e03255ad\" class=\"plotly-graph-div\" style=\"height:525px; width:100%;\"></div>            <script type=\"text/javascript\">                                    window.PLOTLYENV=window.PLOTLYENV || {};                                    if (document.getElementById(\"b2e71508-196f-4994-b0e8-65b7e03255ad\")) {                    Plotly.newPlot(                        \"b2e71508-196f-4994-b0e8-65b7e03255ad\",                        [{\"hole\":0.4,\"labels\":[\"desktop\",\"mobile\"],\"values\":[85165,55645],\"type\":\"pie\"}],                        {\"template\":{\"data\":{\"histogram2dcontour\":[{\"type\":\"histogram2dcontour\",\"colorbar\":{\"outlinewidth\":0,\"ticks\":\"\"},\"colorscale\":[[0.0,\"#0d0887\"],[0.1111111111111111,\"#46039f\"],[0.2222222222222222,\"#7201a8\"],[0.3333333333333333,\"#9c179e\"],[0.4444444444444444,\"#bd3786\"],[0.5555555555555556,\"#d8576b\"],[0.6666666666666666,\"#ed7953\"],[0.7777777777777778,\"#fb9f3a\"],[0.8888888888888888,\"#fdca26\"],[1.0,\"#f0f921\"]]}],\"choropleth\":[{\"type\":\"choropleth\",\"colorbar\":{\"outlinewidth\":0,\"ticks\":\"\"}}],\"histogram2d\":[{\"type\":\"histogram2d\",\"colorbar\":{\"outlinewidth\":0,\"ticks\":\"\"},\"colorscale\":[[0.0,\"#0d0887\"],[0.1111111111111111,\"#46039f\"],[0.2222222222222222,\"#7201a8\"],[0.3333333333333333,\"#9c179e\"],[0.4444444444444444,\"#bd3786\"],[0.5555555555555556,\"#d8576b\"],[0.6666666666666666,\"#ed7953\"],[0.7777777777777778,\"#fb9f3a\"],[0.8888888888888888,\"#fdca26\"],[1.0,\"#f0f921\"]]}],\"heatmap\":[{\"type\":\"heatmap\",\"colorbar\":{\"outlinewidth\":0,\"ticks\":\"\"},\"colorscale\":[[0.0,\"#0d0887\"],[0.1111111111111111,\"#46039f\"],[0.2222222222222222,\"#7201a8\"],[0.3333333333333333,\"#9c179e\"],[0.4444444444444444,\"#bd3786\"],[0.5555555555555556,\"#d8576b\"],[0.6666666666666666,\"#ed7953\"],[0.7777777777777778,\"#fb9f3a\"],[0.8888888888888888,\"#fdca26\"],[1.0,\"#f0f921\"]]}],\"heatmapgl\":[{\"type\":\"heatmapgl\",\"colorbar\":{\"outlinewidth\":0,\"ticks\":\"\"},\"colorscale\":[[0.0,\"#0d0887\"],[0.1111111111111111,\"#46039f\"],[0.2222222222222222,\"#7201a8\"],[0.3333333333333333,\"#9c179e\"],[0.4444444444444444,\"#bd3786\"],[0.5555555555555556,\"#d8576b\"],[0.6666666666666666,\"#ed7953\"],[0.7777777777777778,\"#fb9f3a\"],[0.8888888888888888,\"#fdca26\"],[1.0,\"#f0f921\"]]}],\"contourcarpet\":[{\"type\":\"contourcarpet\",\"colorbar\":{\"outlinewidth\":0,\"ticks\":\"\"}}],\"contour\":[{\"type\":\"contour\",\"colorbar\":{\"outlinewidth\":0,\"ticks\":\"\"},\"colorscale\":[[0.0,\"#0d0887\"],[0.1111111111111111,\"#46039f\"],[0.2222222222222222,\"#7201a8\"],[0.3333333333333333,\"#9c179e\"],[0.4444444444444444,\"#bd3786\"],[0.5555555555555556,\"#d8576b\"],[0.6666666666666666,\"#ed7953\"],[0.7777777777777778,\"#fb9f3a\"],[0.8888888888888888,\"#fdca26\"],[1.0,\"#f0f921\"]]}],\"surface\":[{\"type\":\"surface\",\"colorbar\":{\"outlinewidth\":0,\"ticks\":\"\"},\"colorscale\":[[0.0,\"#0d0887\"],[0.1111111111111111,\"#46039f\"],[0.2222222222222222,\"#7201a8\"],[0.3333333333333333,\"#9c179e\"],[0.4444444444444444,\"#bd3786\"],[0.5555555555555556,\"#d8576b\"],[0.6666666666666666,\"#ed7953\"],[0.7777777777777778,\"#fb9f3a\"],[0.8888888888888888,\"#fdca26\"],[1.0,\"#f0f921\"]]}],\"mesh3d\":[{\"type\":\"mesh3d\",\"colorbar\":{\"outlinewidth\":0,\"ticks\":\"\"}}],\"scatter\":[{\"fillpattern\":{\"fillmode\":\"overlay\",\"size\":10,\"solidity\":0.2},\"type\":\"scatter\"}],\"parcoords\":[{\"type\":\"parcoords\",\"line\":{\"colorbar\":{\"outlinewidth\":0,\"ticks\":\"\"}}}],\"scatterpolargl\":[{\"type\":\"scatterpolargl\",\"marker\":{\"colorbar\":{\"outlinewidth\":0,\"ticks\":\"\"}}}],\"bar\":[{\"error_x\":{\"color\":\"#2a3f5f\"},\"error_y\":{\"color\":\"#2a3f5f\"},\"marker\":{\"line\":{\"color\":\"#E5ECF6\",\"width\":0.5},\"pattern\":{\"fillmode\":\"overlay\",\"size\":10,\"solidity\":0.2}},\"type\":\"bar\"}],\"scattergeo\":[{\"type\":\"scattergeo\",\"marker\":{\"colorbar\":{\"outlinewidth\":0,\"ticks\":\"\"}}}],\"scatterpolar\":[{\"type\":\"scatterpolar\",\"marker\":{\"colorbar\":{\"outlinewidth\":0,\"ticks\":\"\"}}}],\"histogram\":[{\"marker\":{\"pattern\":{\"fillmode\":\"overlay\",\"size\":10,\"solidity\":0.2}},\"type\":\"histogram\"}],\"scattergl\":[{\"type\":\"scattergl\",\"marker\":{\"colorbar\":{\"outlinewidth\":0,\"ticks\":\"\"}}}],\"scatter3d\":[{\"type\":\"scatter3d\",\"line\":{\"colorbar\":{\"outlinewidth\":0,\"ticks\":\"\"}},\"marker\":{\"colorbar\":{\"outlinewidth\":0,\"ticks\":\"\"}}}],\"scattermapbox\":[{\"type\":\"scattermapbox\",\"marker\":{\"colorbar\":{\"outlinewidth\":0,\"ticks\":\"\"}}}],\"scatterternary\":[{\"type\":\"scatterternary\",\"marker\":{\"colorbar\":{\"outlinewidth\":0,\"ticks\":\"\"}}}],\"scattercarpet\":[{\"type\":\"scattercarpet\",\"marker\":{\"colorbar\":{\"outlinewidth\":0,\"ticks\":\"\"}}}],\"carpet\":[{\"aaxis\":{\"endlinecolor\":\"#2a3f5f\",\"gridcolor\":\"white\",\"linecolor\":\"white\",\"minorgridcolor\":\"white\",\"startlinecolor\":\"#2a3f5f\"},\"baxis\":{\"endlinecolor\":\"#2a3f5f\",\"gridcolor\":\"white\",\"linecolor\":\"white\",\"minorgridcolor\":\"white\",\"startlinecolor\":\"#2a3f5f\"},\"type\":\"carpet\"}],\"table\":[{\"cells\":{\"fill\":{\"color\":\"#EBF0F8\"},\"line\":{\"color\":\"white\"}},\"header\":{\"fill\":{\"color\":\"#C8D4E3\"},\"line\":{\"color\":\"white\"}},\"type\":\"table\"}],\"barpolar\":[{\"marker\":{\"line\":{\"color\":\"#E5ECF6\",\"width\":0.5},\"pattern\":{\"fillmode\":\"overlay\",\"size\":10,\"solidity\":0.2}},\"type\":\"barpolar\"}],\"pie\":[{\"automargin\":true,\"type\":\"pie\"}]},\"layout\":{\"autotypenumbers\":\"strict\",\"colorway\":[\"#636efa\",\"#EF553B\",\"#00cc96\",\"#ab63fa\",\"#FFA15A\",\"#19d3f3\",\"#FF6692\",\"#B6E880\",\"#FF97FF\",\"#FECB52\"],\"font\":{\"color\":\"#2a3f5f\"},\"hovermode\":\"closest\",\"hoverlabel\":{\"align\":\"left\"},\"paper_bgcolor\":\"white\",\"plot_bgcolor\":\"#E5ECF6\",\"polar\":{\"bgcolor\":\"#E5ECF6\",\"angularaxis\":{\"gridcolor\":\"white\",\"linecolor\":\"white\",\"ticks\":\"\"},\"radialaxis\":{\"gridcolor\":\"white\",\"linecolor\":\"white\",\"ticks\":\"\"}},\"ternary\":{\"bgcolor\":\"#E5ECF6\",\"aaxis\":{\"gridcolor\":\"white\",\"linecolor\":\"white\",\"ticks\":\"\"},\"baxis\":{\"gridcolor\":\"white\",\"linecolor\":\"white\",\"ticks\":\"\"},\"caxis\":{\"gridcolor\":\"white\",\"linecolor\":\"white\",\"ticks\":\"\"}},\"coloraxis\":{\"colorbar\":{\"outlinewidth\":0,\"ticks\":\"\"}},\"colorscale\":{\"sequential\":[[0.0,\"#0d0887\"],[0.1111111111111111,\"#46039f\"],[0.2222222222222222,\"#7201a8\"],[0.3333333333333333,\"#9c179e\"],[0.4444444444444444,\"#bd3786\"],[0.5555555555555556,\"#d8576b\"],[0.6666666666666666,\"#ed7953\"],[0.7777777777777778,\"#fb9f3a\"],[0.8888888888888888,\"#fdca26\"],[1.0,\"#f0f921\"]],\"sequentialminus\":[[0.0,\"#0d0887\"],[0.1111111111111111,\"#46039f\"],[0.2222222222222222,\"#7201a8\"],[0.3333333333333333,\"#9c179e\"],[0.4444444444444444,\"#bd3786\"],[0.5555555555555556,\"#d8576b\"],[0.6666666666666666,\"#ed7953\"],[0.7777777777777778,\"#fb9f3a\"],[0.8888888888888888,\"#fdca26\"],[1.0,\"#f0f921\"]],\"diverging\":[[0,\"#8e0152\"],[0.1,\"#c51b7d\"],[0.2,\"#de77ae\"],[0.3,\"#f1b6da\"],[0.4,\"#fde0ef\"],[0.5,\"#f7f7f7\"],[0.6,\"#e6f5d0\"],[0.7,\"#b8e186\"],[0.8,\"#7fbc41\"],[0.9,\"#4d9221\"],[1,\"#276419\"]]},\"xaxis\":{\"gridcolor\":\"white\",\"linecolor\":\"white\",\"ticks\":\"\",\"title\":{\"standoff\":15},\"zerolinecolor\":\"white\",\"automargin\":true,\"zerolinewidth\":2},\"yaxis\":{\"gridcolor\":\"white\",\"linecolor\":\"white\",\"ticks\":\"\",\"title\":{\"standoff\":15},\"zerolinecolor\":\"white\",\"automargin\":true,\"zerolinewidth\":2},\"scene\":{\"xaxis\":{\"backgroundcolor\":\"#E5ECF6\",\"gridcolor\":\"white\",\"linecolor\":\"white\",\"showbackground\":true,\"ticks\":\"\",\"zerolinecolor\":\"white\",\"gridwidth\":2},\"yaxis\":{\"backgroundcolor\":\"#E5ECF6\",\"gridcolor\":\"white\",\"linecolor\":\"white\",\"showbackground\":true,\"ticks\":\"\",\"zerolinecolor\":\"white\",\"gridwidth\":2},\"zaxis\":{\"backgroundcolor\":\"#E5ECF6\",\"gridcolor\":\"white\",\"linecolor\":\"white\",\"showbackground\":true,\"ticks\":\"\",\"zerolinecolor\":\"white\",\"gridwidth\":2}},\"shapedefaults\":{\"line\":{\"color\":\"#2a3f5f\"}},\"annotationdefaults\":{\"arrowcolor\":\"#2a3f5f\",\"arrowhead\":0,\"arrowwidth\":1},\"geo\":{\"bgcolor\":\"white\",\"landcolor\":\"#E5ECF6\",\"subunitcolor\":\"white\",\"showland\":true,\"showlakes\":true,\"lakecolor\":\"white\"},\"title\":{\"x\":0.05},\"mapbox\":{\"style\":\"light\"}}},\"title\":{\"text\":\"Distribuci\\u00f3n de Transacciones por Tipo de Dispositivo\"},\"showlegend\":true},                        {\"responsive\": true}                    ).then(function(){\n",
              "                            \n",
              "var gd = document.getElementById('b2e71508-196f-4994-b0e8-65b7e03255ad');\n",
              "var x = new MutationObserver(function (mutations, observer) {{\n",
              "        var display = window.getComputedStyle(gd).display;\n",
              "        if (!display || display === 'none') {{\n",
              "            console.log([gd, 'removed!']);\n",
              "            Plotly.purge(gd);\n",
              "            observer.disconnect();\n",
              "        }}\n",
              "}});\n",
              "\n",
              "// Listen for the removal of the full notebook cells\n",
              "var notebookContainer = gd.closest('#notebook-container');\n",
              "if (notebookContainer) {{\n",
              "    x.observe(notebookContainer, {childList: true});\n",
              "}}\n",
              "\n",
              "// Listen for the clearing of the current output cell\n",
              "var outputEl = gd.closest('.output');\n",
              "if (outputEl) {{\n",
              "    x.observe(outputEl, {childList: true});\n",
              "}}\n",
              "\n",
              "                        })                };                            </script>        </div>\n",
              "</body>\n",
              "</html>"
            ]
          },
          "metadata": {}
        }
      ]
    },
    {
      "cell_type": "markdown",
      "source": [
        "Podemos observar que se hacen más transacciones desde los equipos de escritorio que desde los celulares."
      ],
      "metadata": {
        "id": "N3MW3CFj16BF"
      }
    },
    {
      "cell_type": "markdown",
      "source": [
        "#### 3.3. Sistema Operativo"
      ],
      "metadata": {
        "id": "QFI-FmOi3YuU"
      }
    },
    {
      "cell_type": "code",
      "source": [
        "import plotly.graph_objects as go\n",
        "valores = df['SistemaOperativo'].value_counts().values\n",
        "etiquetas = df['SistemaOperativo'].value_counts().index\n",
        "fig = go.Figure(data=[go.Bar(\n",
        "    y=etiquetas,\n",
        "    x=valores,\n",
        "    orientation='h'\n",
        ")])\n",
        "\n",
        "fig.update_layout(\n",
        "    title='Distribución de Transacciones por Sistema Operativo',\n",
        "    xaxis_title='Cantidad de Transacciones',\n",
        "    yaxis_title='Sistema Operativo',\n",
        "    showlegend=False\n",
        ")\n",
        "\n",
        "fig.show()\n"
      ],
      "metadata": {
        "colab": {
          "base_uri": "https://localhost:8080/",
          "height": 542
        },
        "id": "0RJdaEr805pv",
        "outputId": "5d97b3e6-7d30-4209-c1ed-b98d0b99032b"
      },
      "execution_count": 64,
      "outputs": [
        {
          "output_type": "display_data",
          "data": {
            "text/html": [
              "<html>\n",
              "<head><meta charset=\"utf-8\" /></head>\n",
              "<body>\n",
              "    <div>            <script src=\"https://cdnjs.cloudflare.com/ajax/libs/mathjax/2.7.5/MathJax.js?config=TeX-AMS-MML_SVG\"></script><script type=\"text/javascript\">if (window.MathJax && window.MathJax.Hub && window.MathJax.Hub.Config) {window.MathJax.Hub.Config({SVG: {font: \"STIX-Web\"}});}</script>                <script type=\"text/javascript\">window.PlotlyConfig = {MathJaxConfig: 'local'};</script>\n",
              "        <script src=\"https://cdn.plot.ly/plotly-2.18.2.min.js\"></script>                <div id=\"67a06e1e-8f09-4bc5-871c-b70cfd7a48c7\" class=\"plotly-graph-div\" style=\"height:525px; width:100%;\"></div>            <script type=\"text/javascript\">                                    window.PLOTLYENV=window.PLOTLYENV || {};                                    if (document.getElementById(\"67a06e1e-8f09-4bc5-871c-b70cfd7a48c7\")) {                    Plotly.newPlot(                        \"67a06e1e-8f09-4bc5-871c-b70cfd7a48c7\",                        [{\"orientation\":\"h\",\"x\":[21155,13110,3722,3699,2871,2559,2348,2016,1914,1651,1647,1558,1421,1211,1200,1136,1079,902,860,852,759,700,659,630,570,566,428,414,350,343,303,287,285,274,271,267,246,236,217,200,192,180,166,149,144,136,135,131,127,103,96,95,95,93,82,80,74,63,58,55,54,53,50,49,44,41,33,33,15,10,5,4,3,1],\"y\":[\"windows 10\",\"windows 7\",\"ios 11.2.1\",\"ios 11.1.2\",\"android 7.0\",\"mac os x 10.12.6\",\"mac os x 10.11.6\",\"ios 11.3.0\",\"windows 8.1\",\"mac os x 10.10.5\",\"ios 11.2.6\",\"ios 10.3.3\",\"mac os x 10.13.2\",\"mac os x 10.13.1\",\"ios 11.2.5\",\"linux\",\"android\",\"ios 11.2.2\",\"mac os x 10.13.3\",\"ios 11.2.0\",\"mac os x 10.13.4\",\"ios 11.1.1\",\"ios 11.0.3\",\"android 7.1.1\",\"mac os x 10.9.5\",\"android 6.0.1\",\"ios 10.3.2\",\"ios 9.3.5\",\"android 5.1.1\",\"android 8.0.0\",\"mac\",\"mac os x 10.13\",\"ios 10.2.1\",\"ios\",\"ios 11.1.0\",\"mac os x 10.12\",\"windows vista\",\"ios 10.3.1\",\"mac os x 10.12.5\",\"mac os x 10.11\",\"android 8.1.0\",\"windows 8\",\"ios 11.0.2\",\"ios 10.2.0\",\"ios 11.0.0\",\"ios 11.3.1\",\"mac os x 10.10\",\"windows xp\",\"ios 11.0.1\",\"mac os x 10.12.4\",\"ios 10.1.1\",\"mac os x 10.12.3\",\"ios 10.0.2\",\"mac os x 10.7.5\",\"mac os x 10.11.5\",\"android 6.0\",\"mac os x 10.8.5\",\"android 4.4.2\",\"mac os x 10.9\",\"android 5.0.2\",\"mac os x 10.11.3\",\"mac os x 10.11.4\",\"mac os x 10.6.8\",\"mac os x 10.6\",\"mac os x 10.12.1\",\"android 5.0\",\"android 7.1.2\",\"mac os x 10.12.2\",\"other\",\"func\",\"ios 11.4.0\",\"mac os x 10.13.5\",\"windows\",\"ios 11.4.1\"],\"type\":\"bar\"}],                        {\"template\":{\"data\":{\"histogram2dcontour\":[{\"type\":\"histogram2dcontour\",\"colorbar\":{\"outlinewidth\":0,\"ticks\":\"\"},\"colorscale\":[[0.0,\"#0d0887\"],[0.1111111111111111,\"#46039f\"],[0.2222222222222222,\"#7201a8\"],[0.3333333333333333,\"#9c179e\"],[0.4444444444444444,\"#bd3786\"],[0.5555555555555556,\"#d8576b\"],[0.6666666666666666,\"#ed7953\"],[0.7777777777777778,\"#fb9f3a\"],[0.8888888888888888,\"#fdca26\"],[1.0,\"#f0f921\"]]}],\"choropleth\":[{\"type\":\"choropleth\",\"colorbar\":{\"outlinewidth\":0,\"ticks\":\"\"}}],\"histogram2d\":[{\"type\":\"histogram2d\",\"colorbar\":{\"outlinewidth\":0,\"ticks\":\"\"},\"colorscale\":[[0.0,\"#0d0887\"],[0.1111111111111111,\"#46039f\"],[0.2222222222222222,\"#7201a8\"],[0.3333333333333333,\"#9c179e\"],[0.4444444444444444,\"#bd3786\"],[0.5555555555555556,\"#d8576b\"],[0.6666666666666666,\"#ed7953\"],[0.7777777777777778,\"#fb9f3a\"],[0.8888888888888888,\"#fdca26\"],[1.0,\"#f0f921\"]]}],\"heatmap\":[{\"type\":\"heatmap\",\"colorbar\":{\"outlinewidth\":0,\"ticks\":\"\"},\"colorscale\":[[0.0,\"#0d0887\"],[0.1111111111111111,\"#46039f\"],[0.2222222222222222,\"#7201a8\"],[0.3333333333333333,\"#9c179e\"],[0.4444444444444444,\"#bd3786\"],[0.5555555555555556,\"#d8576b\"],[0.6666666666666666,\"#ed7953\"],[0.7777777777777778,\"#fb9f3a\"],[0.8888888888888888,\"#fdca26\"],[1.0,\"#f0f921\"]]}],\"heatmapgl\":[{\"type\":\"heatmapgl\",\"colorbar\":{\"outlinewidth\":0,\"ticks\":\"\"},\"colorscale\":[[0.0,\"#0d0887\"],[0.1111111111111111,\"#46039f\"],[0.2222222222222222,\"#7201a8\"],[0.3333333333333333,\"#9c179e\"],[0.4444444444444444,\"#bd3786\"],[0.5555555555555556,\"#d8576b\"],[0.6666666666666666,\"#ed7953\"],[0.7777777777777778,\"#fb9f3a\"],[0.8888888888888888,\"#fdca26\"],[1.0,\"#f0f921\"]]}],\"contourcarpet\":[{\"type\":\"contourcarpet\",\"colorbar\":{\"outlinewidth\":0,\"ticks\":\"\"}}],\"contour\":[{\"type\":\"contour\",\"colorbar\":{\"outlinewidth\":0,\"ticks\":\"\"},\"colorscale\":[[0.0,\"#0d0887\"],[0.1111111111111111,\"#46039f\"],[0.2222222222222222,\"#7201a8\"],[0.3333333333333333,\"#9c179e\"],[0.4444444444444444,\"#bd3786\"],[0.5555555555555556,\"#d8576b\"],[0.6666666666666666,\"#ed7953\"],[0.7777777777777778,\"#fb9f3a\"],[0.8888888888888888,\"#fdca26\"],[1.0,\"#f0f921\"]]}],\"surface\":[{\"type\":\"surface\",\"colorbar\":{\"outlinewidth\":0,\"ticks\":\"\"},\"colorscale\":[[0.0,\"#0d0887\"],[0.1111111111111111,\"#46039f\"],[0.2222222222222222,\"#7201a8\"],[0.3333333333333333,\"#9c179e\"],[0.4444444444444444,\"#bd3786\"],[0.5555555555555556,\"#d8576b\"],[0.6666666666666666,\"#ed7953\"],[0.7777777777777778,\"#fb9f3a\"],[0.8888888888888888,\"#fdca26\"],[1.0,\"#f0f921\"]]}],\"mesh3d\":[{\"type\":\"mesh3d\",\"colorbar\":{\"outlinewidth\":0,\"ticks\":\"\"}}],\"scatter\":[{\"fillpattern\":{\"fillmode\":\"overlay\",\"size\":10,\"solidity\":0.2},\"type\":\"scatter\"}],\"parcoords\":[{\"type\":\"parcoords\",\"line\":{\"colorbar\":{\"outlinewidth\":0,\"ticks\":\"\"}}}],\"scatterpolargl\":[{\"type\":\"scatterpolargl\",\"marker\":{\"colorbar\":{\"outlinewidth\":0,\"ticks\":\"\"}}}],\"bar\":[{\"error_x\":{\"color\":\"#2a3f5f\"},\"error_y\":{\"color\":\"#2a3f5f\"},\"marker\":{\"line\":{\"color\":\"#E5ECF6\",\"width\":0.5},\"pattern\":{\"fillmode\":\"overlay\",\"size\":10,\"solidity\":0.2}},\"type\":\"bar\"}],\"scattergeo\":[{\"type\":\"scattergeo\",\"marker\":{\"colorbar\":{\"outlinewidth\":0,\"ticks\":\"\"}}}],\"scatterpolar\":[{\"type\":\"scatterpolar\",\"marker\":{\"colorbar\":{\"outlinewidth\":0,\"ticks\":\"\"}}}],\"histogram\":[{\"marker\":{\"pattern\":{\"fillmode\":\"overlay\",\"size\":10,\"solidity\":0.2}},\"type\":\"histogram\"}],\"scattergl\":[{\"type\":\"scattergl\",\"marker\":{\"colorbar\":{\"outlinewidth\":0,\"ticks\":\"\"}}}],\"scatter3d\":[{\"type\":\"scatter3d\",\"line\":{\"colorbar\":{\"outlinewidth\":0,\"ticks\":\"\"}},\"marker\":{\"colorbar\":{\"outlinewidth\":0,\"ticks\":\"\"}}}],\"scattermapbox\":[{\"type\":\"scattermapbox\",\"marker\":{\"colorbar\":{\"outlinewidth\":0,\"ticks\":\"\"}}}],\"scatterternary\":[{\"type\":\"scatterternary\",\"marker\":{\"colorbar\":{\"outlinewidth\":0,\"ticks\":\"\"}}}],\"scattercarpet\":[{\"type\":\"scattercarpet\",\"marker\":{\"colorbar\":{\"outlinewidth\":0,\"ticks\":\"\"}}}],\"carpet\":[{\"aaxis\":{\"endlinecolor\":\"#2a3f5f\",\"gridcolor\":\"white\",\"linecolor\":\"white\",\"minorgridcolor\":\"white\",\"startlinecolor\":\"#2a3f5f\"},\"baxis\":{\"endlinecolor\":\"#2a3f5f\",\"gridcolor\":\"white\",\"linecolor\":\"white\",\"minorgridcolor\":\"white\",\"startlinecolor\":\"#2a3f5f\"},\"type\":\"carpet\"}],\"table\":[{\"cells\":{\"fill\":{\"color\":\"#EBF0F8\"},\"line\":{\"color\":\"white\"}},\"header\":{\"fill\":{\"color\":\"#C8D4E3\"},\"line\":{\"color\":\"white\"}},\"type\":\"table\"}],\"barpolar\":[{\"marker\":{\"line\":{\"color\":\"#E5ECF6\",\"width\":0.5},\"pattern\":{\"fillmode\":\"overlay\",\"size\":10,\"solidity\":0.2}},\"type\":\"barpolar\"}],\"pie\":[{\"automargin\":true,\"type\":\"pie\"}]},\"layout\":{\"autotypenumbers\":\"strict\",\"colorway\":[\"#636efa\",\"#EF553B\",\"#00cc96\",\"#ab63fa\",\"#FFA15A\",\"#19d3f3\",\"#FF6692\",\"#B6E880\",\"#FF97FF\",\"#FECB52\"],\"font\":{\"color\":\"#2a3f5f\"},\"hovermode\":\"closest\",\"hoverlabel\":{\"align\":\"left\"},\"paper_bgcolor\":\"white\",\"plot_bgcolor\":\"#E5ECF6\",\"polar\":{\"bgcolor\":\"#E5ECF6\",\"angularaxis\":{\"gridcolor\":\"white\",\"linecolor\":\"white\",\"ticks\":\"\"},\"radialaxis\":{\"gridcolor\":\"white\",\"linecolor\":\"white\",\"ticks\":\"\"}},\"ternary\":{\"bgcolor\":\"#E5ECF6\",\"aaxis\":{\"gridcolor\":\"white\",\"linecolor\":\"white\",\"ticks\":\"\"},\"baxis\":{\"gridcolor\":\"white\",\"linecolor\":\"white\",\"ticks\":\"\"},\"caxis\":{\"gridcolor\":\"white\",\"linecolor\":\"white\",\"ticks\":\"\"}},\"coloraxis\":{\"colorbar\":{\"outlinewidth\":0,\"ticks\":\"\"}},\"colorscale\":{\"sequential\":[[0.0,\"#0d0887\"],[0.1111111111111111,\"#46039f\"],[0.2222222222222222,\"#7201a8\"],[0.3333333333333333,\"#9c179e\"],[0.4444444444444444,\"#bd3786\"],[0.5555555555555556,\"#d8576b\"],[0.6666666666666666,\"#ed7953\"],[0.7777777777777778,\"#fb9f3a\"],[0.8888888888888888,\"#fdca26\"],[1.0,\"#f0f921\"]],\"sequentialminus\":[[0.0,\"#0d0887\"],[0.1111111111111111,\"#46039f\"],[0.2222222222222222,\"#7201a8\"],[0.3333333333333333,\"#9c179e\"],[0.4444444444444444,\"#bd3786\"],[0.5555555555555556,\"#d8576b\"],[0.6666666666666666,\"#ed7953\"],[0.7777777777777778,\"#fb9f3a\"],[0.8888888888888888,\"#fdca26\"],[1.0,\"#f0f921\"]],\"diverging\":[[0,\"#8e0152\"],[0.1,\"#c51b7d\"],[0.2,\"#de77ae\"],[0.3,\"#f1b6da\"],[0.4,\"#fde0ef\"],[0.5,\"#f7f7f7\"],[0.6,\"#e6f5d0\"],[0.7,\"#b8e186\"],[0.8,\"#7fbc41\"],[0.9,\"#4d9221\"],[1,\"#276419\"]]},\"xaxis\":{\"gridcolor\":\"white\",\"linecolor\":\"white\",\"ticks\":\"\",\"title\":{\"standoff\":15},\"zerolinecolor\":\"white\",\"automargin\":true,\"zerolinewidth\":2},\"yaxis\":{\"gridcolor\":\"white\",\"linecolor\":\"white\",\"ticks\":\"\",\"title\":{\"standoff\":15},\"zerolinecolor\":\"white\",\"automargin\":true,\"zerolinewidth\":2},\"scene\":{\"xaxis\":{\"backgroundcolor\":\"#E5ECF6\",\"gridcolor\":\"white\",\"linecolor\":\"white\",\"showbackground\":true,\"ticks\":\"\",\"zerolinecolor\":\"white\",\"gridwidth\":2},\"yaxis\":{\"backgroundcolor\":\"#E5ECF6\",\"gridcolor\":\"white\",\"linecolor\":\"white\",\"showbackground\":true,\"ticks\":\"\",\"zerolinecolor\":\"white\",\"gridwidth\":2},\"zaxis\":{\"backgroundcolor\":\"#E5ECF6\",\"gridcolor\":\"white\",\"linecolor\":\"white\",\"showbackground\":true,\"ticks\":\"\",\"zerolinecolor\":\"white\",\"gridwidth\":2}},\"shapedefaults\":{\"line\":{\"color\":\"#2a3f5f\"}},\"annotationdefaults\":{\"arrowcolor\":\"#2a3f5f\",\"arrowhead\":0,\"arrowwidth\":1},\"geo\":{\"bgcolor\":\"white\",\"landcolor\":\"#E5ECF6\",\"subunitcolor\":\"white\",\"showland\":true,\"showlakes\":true,\"lakecolor\":\"white\"},\"title\":{\"x\":0.05},\"mapbox\":{\"style\":\"light\"}}},\"title\":{\"text\":\"Distribuci\\u00f3n de Transacciones por Sistema Operativo\"},\"xaxis\":{\"title\":{\"text\":\"Cantidad de Transacciones\"}},\"yaxis\":{\"title\":{\"text\":\"Sistema Operativo\"}},\"showlegend\":false},                        {\"responsive\": true}                    ).then(function(){\n",
              "                            \n",
              "var gd = document.getElementById('67a06e1e-8f09-4bc5-871c-b70cfd7a48c7');\n",
              "var x = new MutationObserver(function (mutations, observer) {{\n",
              "        var display = window.getComputedStyle(gd).display;\n",
              "        if (!display || display === 'none') {{\n",
              "            console.log([gd, 'removed!']);\n",
              "            Plotly.purge(gd);\n",
              "            observer.disconnect();\n",
              "        }}\n",
              "}});\n",
              "\n",
              "// Listen for the removal of the full notebook cells\n",
              "var notebookContainer = gd.closest('#notebook-container');\n",
              "if (notebookContainer) {{\n",
              "    x.observe(notebookContainer, {childList: true});\n",
              "}}\n",
              "\n",
              "// Listen for the clearing of the current output cell\n",
              "var outputEl = gd.closest('.output');\n",
              "if (outputEl) {{\n",
              "    x.observe(outputEl, {childList: true});\n",
              "}}\n",
              "\n",
              "                        })                };                            </script>        </div>\n",
              "</body>\n",
              "</html>"
            ]
          },
          "metadata": {}
        }
      ]
    },
    {
      "cell_type": "markdown",
      "source": [
        "El sistema operativo más usado es Windows 10 con más de 20.000 datos\n",
        "y de segundo es android 7.0\n",
        "\n",
        "Cabe anotar que esta base de datos es anterior a la aparición de Windows 11"
      ],
      "metadata": {
        "id": "SbREp9rj1VgQ"
      }
    },
    {
      "cell_type": "code",
      "source": [],
      "metadata": {
        "id": "utDqX6vT3fty"
      },
      "execution_count": null,
      "outputs": []
    },
    {
      "cell_type": "markdown",
      "source": [
        "#### 3.4. Tipo de dispositivo vs Monto de la transacción"
      ],
      "metadata": {
        "id": "_RQZVP7x3css"
      }
    },
    {
      "cell_type": "code",
      "source": [
        "import plotly.graph_objects as go\n",
        "\n",
        "monto_total = df.groupby('TipoDispositivo')['MontoTransaccion'].sum()\n",
        "fig = go.Figure(data=[go.Bar(\n",
        "    x=monto_total.index,\n",
        "    y=monto_total.values\n",
        ")])\n",
        "\n",
        "fig.update_layout(\n",
        "    title='Monto Total de Transacciones por Tipo de Dispositivo',\n",
        "    xaxis_title='Tipo de Dispositivo',\n",
        "    yaxis_title='Monto Total',\n",
        "    showlegend=False\n",
        ")\n",
        "\n",
        "fig.show()\n"
      ],
      "metadata": {
        "colab": {
          "base_uri": "https://localhost:8080/",
          "height": 542
        },
        "id": "FuxUikEO2T59",
        "outputId": "4f6d8c83-9dec-46ca-a916-0568e6d88607"
      },
      "execution_count": 65,
      "outputs": [
        {
          "output_type": "display_data",
          "data": {
            "text/html": [
              "<html>\n",
              "<head><meta charset=\"utf-8\" /></head>\n",
              "<body>\n",
              "    <div>            <script src=\"https://cdnjs.cloudflare.com/ajax/libs/mathjax/2.7.5/MathJax.js?config=TeX-AMS-MML_SVG\"></script><script type=\"text/javascript\">if (window.MathJax && window.MathJax.Hub && window.MathJax.Hub.Config) {window.MathJax.Hub.Config({SVG: {font: \"STIX-Web\"}});}</script>                <script type=\"text/javascript\">window.PlotlyConfig = {MathJaxConfig: 'local'};</script>\n",
              "        <script src=\"https://cdn.plot.ly/plotly-2.18.2.min.js\"></script>                <div id=\"e0d0dc24-e58d-4b8e-b5af-c3cd14a526f5\" class=\"plotly-graph-div\" style=\"height:525px; width:100%;\"></div>            <script type=\"text/javascript\">                                    window.PLOTLYENV=window.PLOTLYENV || {};                                    if (document.getElementById(\"e0d0dc24-e58d-4b8e-b5af-c3cd14a526f5\")) {                    Plotly.newPlot(                        \"e0d0dc24-e58d-4b8e-b5af-c3cd14a526f5\",                        [{\"x\":[\"desktop\",\"mobile\"],\"y\":[7886291.448,3867584.528],\"type\":\"bar\"}],                        {\"template\":{\"data\":{\"histogram2dcontour\":[{\"type\":\"histogram2dcontour\",\"colorbar\":{\"outlinewidth\":0,\"ticks\":\"\"},\"colorscale\":[[0.0,\"#0d0887\"],[0.1111111111111111,\"#46039f\"],[0.2222222222222222,\"#7201a8\"],[0.3333333333333333,\"#9c179e\"],[0.4444444444444444,\"#bd3786\"],[0.5555555555555556,\"#d8576b\"],[0.6666666666666666,\"#ed7953\"],[0.7777777777777778,\"#fb9f3a\"],[0.8888888888888888,\"#fdca26\"],[1.0,\"#f0f921\"]]}],\"choropleth\":[{\"type\":\"choropleth\",\"colorbar\":{\"outlinewidth\":0,\"ticks\":\"\"}}],\"histogram2d\":[{\"type\":\"histogram2d\",\"colorbar\":{\"outlinewidth\":0,\"ticks\":\"\"},\"colorscale\":[[0.0,\"#0d0887\"],[0.1111111111111111,\"#46039f\"],[0.2222222222222222,\"#7201a8\"],[0.3333333333333333,\"#9c179e\"],[0.4444444444444444,\"#bd3786\"],[0.5555555555555556,\"#d8576b\"],[0.6666666666666666,\"#ed7953\"],[0.7777777777777778,\"#fb9f3a\"],[0.8888888888888888,\"#fdca26\"],[1.0,\"#f0f921\"]]}],\"heatmap\":[{\"type\":\"heatmap\",\"colorbar\":{\"outlinewidth\":0,\"ticks\":\"\"},\"colorscale\":[[0.0,\"#0d0887\"],[0.1111111111111111,\"#46039f\"],[0.2222222222222222,\"#7201a8\"],[0.3333333333333333,\"#9c179e\"],[0.4444444444444444,\"#bd3786\"],[0.5555555555555556,\"#d8576b\"],[0.6666666666666666,\"#ed7953\"],[0.7777777777777778,\"#fb9f3a\"],[0.8888888888888888,\"#fdca26\"],[1.0,\"#f0f921\"]]}],\"heatmapgl\":[{\"type\":\"heatmapgl\",\"colorbar\":{\"outlinewidth\":0,\"ticks\":\"\"},\"colorscale\":[[0.0,\"#0d0887\"],[0.1111111111111111,\"#46039f\"],[0.2222222222222222,\"#7201a8\"],[0.3333333333333333,\"#9c179e\"],[0.4444444444444444,\"#bd3786\"],[0.5555555555555556,\"#d8576b\"],[0.6666666666666666,\"#ed7953\"],[0.7777777777777778,\"#fb9f3a\"],[0.8888888888888888,\"#fdca26\"],[1.0,\"#f0f921\"]]}],\"contourcarpet\":[{\"type\":\"contourcarpet\",\"colorbar\":{\"outlinewidth\":0,\"ticks\":\"\"}}],\"contour\":[{\"type\":\"contour\",\"colorbar\":{\"outlinewidth\":0,\"ticks\":\"\"},\"colorscale\":[[0.0,\"#0d0887\"],[0.1111111111111111,\"#46039f\"],[0.2222222222222222,\"#7201a8\"],[0.3333333333333333,\"#9c179e\"],[0.4444444444444444,\"#bd3786\"],[0.5555555555555556,\"#d8576b\"],[0.6666666666666666,\"#ed7953\"],[0.7777777777777778,\"#fb9f3a\"],[0.8888888888888888,\"#fdca26\"],[1.0,\"#f0f921\"]]}],\"surface\":[{\"type\":\"surface\",\"colorbar\":{\"outlinewidth\":0,\"ticks\":\"\"},\"colorscale\":[[0.0,\"#0d0887\"],[0.1111111111111111,\"#46039f\"],[0.2222222222222222,\"#7201a8\"],[0.3333333333333333,\"#9c179e\"],[0.4444444444444444,\"#bd3786\"],[0.5555555555555556,\"#d8576b\"],[0.6666666666666666,\"#ed7953\"],[0.7777777777777778,\"#fb9f3a\"],[0.8888888888888888,\"#fdca26\"],[1.0,\"#f0f921\"]]}],\"mesh3d\":[{\"type\":\"mesh3d\",\"colorbar\":{\"outlinewidth\":0,\"ticks\":\"\"}}],\"scatter\":[{\"fillpattern\":{\"fillmode\":\"overlay\",\"size\":10,\"solidity\":0.2},\"type\":\"scatter\"}],\"parcoords\":[{\"type\":\"parcoords\",\"line\":{\"colorbar\":{\"outlinewidth\":0,\"ticks\":\"\"}}}],\"scatterpolargl\":[{\"type\":\"scatterpolargl\",\"marker\":{\"colorbar\":{\"outlinewidth\":0,\"ticks\":\"\"}}}],\"bar\":[{\"error_x\":{\"color\":\"#2a3f5f\"},\"error_y\":{\"color\":\"#2a3f5f\"},\"marker\":{\"line\":{\"color\":\"#E5ECF6\",\"width\":0.5},\"pattern\":{\"fillmode\":\"overlay\",\"size\":10,\"solidity\":0.2}},\"type\":\"bar\"}],\"scattergeo\":[{\"type\":\"scattergeo\",\"marker\":{\"colorbar\":{\"outlinewidth\":0,\"ticks\":\"\"}}}],\"scatterpolar\":[{\"type\":\"scatterpolar\",\"marker\":{\"colorbar\":{\"outlinewidth\":0,\"ticks\":\"\"}}}],\"histogram\":[{\"marker\":{\"pattern\":{\"fillmode\":\"overlay\",\"size\":10,\"solidity\":0.2}},\"type\":\"histogram\"}],\"scattergl\":[{\"type\":\"scattergl\",\"marker\":{\"colorbar\":{\"outlinewidth\":0,\"ticks\":\"\"}}}],\"scatter3d\":[{\"type\":\"scatter3d\",\"line\":{\"colorbar\":{\"outlinewidth\":0,\"ticks\":\"\"}},\"marker\":{\"colorbar\":{\"outlinewidth\":0,\"ticks\":\"\"}}}],\"scattermapbox\":[{\"type\":\"scattermapbox\",\"marker\":{\"colorbar\":{\"outlinewidth\":0,\"ticks\":\"\"}}}],\"scatterternary\":[{\"type\":\"scatterternary\",\"marker\":{\"colorbar\":{\"outlinewidth\":0,\"ticks\":\"\"}}}],\"scattercarpet\":[{\"type\":\"scattercarpet\",\"marker\":{\"colorbar\":{\"outlinewidth\":0,\"ticks\":\"\"}}}],\"carpet\":[{\"aaxis\":{\"endlinecolor\":\"#2a3f5f\",\"gridcolor\":\"white\",\"linecolor\":\"white\",\"minorgridcolor\":\"white\",\"startlinecolor\":\"#2a3f5f\"},\"baxis\":{\"endlinecolor\":\"#2a3f5f\",\"gridcolor\":\"white\",\"linecolor\":\"white\",\"minorgridcolor\":\"white\",\"startlinecolor\":\"#2a3f5f\"},\"type\":\"carpet\"}],\"table\":[{\"cells\":{\"fill\":{\"color\":\"#EBF0F8\"},\"line\":{\"color\":\"white\"}},\"header\":{\"fill\":{\"color\":\"#C8D4E3\"},\"line\":{\"color\":\"white\"}},\"type\":\"table\"}],\"barpolar\":[{\"marker\":{\"line\":{\"color\":\"#E5ECF6\",\"width\":0.5},\"pattern\":{\"fillmode\":\"overlay\",\"size\":10,\"solidity\":0.2}},\"type\":\"barpolar\"}],\"pie\":[{\"automargin\":true,\"type\":\"pie\"}]},\"layout\":{\"autotypenumbers\":\"strict\",\"colorway\":[\"#636efa\",\"#EF553B\",\"#00cc96\",\"#ab63fa\",\"#FFA15A\",\"#19d3f3\",\"#FF6692\",\"#B6E880\",\"#FF97FF\",\"#FECB52\"],\"font\":{\"color\":\"#2a3f5f\"},\"hovermode\":\"closest\",\"hoverlabel\":{\"align\":\"left\"},\"paper_bgcolor\":\"white\",\"plot_bgcolor\":\"#E5ECF6\",\"polar\":{\"bgcolor\":\"#E5ECF6\",\"angularaxis\":{\"gridcolor\":\"white\",\"linecolor\":\"white\",\"ticks\":\"\"},\"radialaxis\":{\"gridcolor\":\"white\",\"linecolor\":\"white\",\"ticks\":\"\"}},\"ternary\":{\"bgcolor\":\"#E5ECF6\",\"aaxis\":{\"gridcolor\":\"white\",\"linecolor\":\"white\",\"ticks\":\"\"},\"baxis\":{\"gridcolor\":\"white\",\"linecolor\":\"white\",\"ticks\":\"\"},\"caxis\":{\"gridcolor\":\"white\",\"linecolor\":\"white\",\"ticks\":\"\"}},\"coloraxis\":{\"colorbar\":{\"outlinewidth\":0,\"ticks\":\"\"}},\"colorscale\":{\"sequential\":[[0.0,\"#0d0887\"],[0.1111111111111111,\"#46039f\"],[0.2222222222222222,\"#7201a8\"],[0.3333333333333333,\"#9c179e\"],[0.4444444444444444,\"#bd3786\"],[0.5555555555555556,\"#d8576b\"],[0.6666666666666666,\"#ed7953\"],[0.7777777777777778,\"#fb9f3a\"],[0.8888888888888888,\"#fdca26\"],[1.0,\"#f0f921\"]],\"sequentialminus\":[[0.0,\"#0d0887\"],[0.1111111111111111,\"#46039f\"],[0.2222222222222222,\"#7201a8\"],[0.3333333333333333,\"#9c179e\"],[0.4444444444444444,\"#bd3786\"],[0.5555555555555556,\"#d8576b\"],[0.6666666666666666,\"#ed7953\"],[0.7777777777777778,\"#fb9f3a\"],[0.8888888888888888,\"#fdca26\"],[1.0,\"#f0f921\"]],\"diverging\":[[0,\"#8e0152\"],[0.1,\"#c51b7d\"],[0.2,\"#de77ae\"],[0.3,\"#f1b6da\"],[0.4,\"#fde0ef\"],[0.5,\"#f7f7f7\"],[0.6,\"#e6f5d0\"],[0.7,\"#b8e186\"],[0.8,\"#7fbc41\"],[0.9,\"#4d9221\"],[1,\"#276419\"]]},\"xaxis\":{\"gridcolor\":\"white\",\"linecolor\":\"white\",\"ticks\":\"\",\"title\":{\"standoff\":15},\"zerolinecolor\":\"white\",\"automargin\":true,\"zerolinewidth\":2},\"yaxis\":{\"gridcolor\":\"white\",\"linecolor\":\"white\",\"ticks\":\"\",\"title\":{\"standoff\":15},\"zerolinecolor\":\"white\",\"automargin\":true,\"zerolinewidth\":2},\"scene\":{\"xaxis\":{\"backgroundcolor\":\"#E5ECF6\",\"gridcolor\":\"white\",\"linecolor\":\"white\",\"showbackground\":true,\"ticks\":\"\",\"zerolinecolor\":\"white\",\"gridwidth\":2},\"yaxis\":{\"backgroundcolor\":\"#E5ECF6\",\"gridcolor\":\"white\",\"linecolor\":\"white\",\"showbackground\":true,\"ticks\":\"\",\"zerolinecolor\":\"white\",\"gridwidth\":2},\"zaxis\":{\"backgroundcolor\":\"#E5ECF6\",\"gridcolor\":\"white\",\"linecolor\":\"white\",\"showbackground\":true,\"ticks\":\"\",\"zerolinecolor\":\"white\",\"gridwidth\":2}},\"shapedefaults\":{\"line\":{\"color\":\"#2a3f5f\"}},\"annotationdefaults\":{\"arrowcolor\":\"#2a3f5f\",\"arrowhead\":0,\"arrowwidth\":1},\"geo\":{\"bgcolor\":\"white\",\"landcolor\":\"#E5ECF6\",\"subunitcolor\":\"white\",\"showland\":true,\"showlakes\":true,\"lakecolor\":\"white\"},\"title\":{\"x\":0.05},\"mapbox\":{\"style\":\"light\"}}},\"title\":{\"text\":\"Monto Total de Transacciones por Tipo de Dispositivo\"},\"xaxis\":{\"title\":{\"text\":\"Tipo de Dispositivo\"}},\"yaxis\":{\"title\":{\"text\":\"Monto Total\"}},\"showlegend\":false},                        {\"responsive\": true}                    ).then(function(){\n",
              "                            \n",
              "var gd = document.getElementById('e0d0dc24-e58d-4b8e-b5af-c3cd14a526f5');\n",
              "var x = new MutationObserver(function (mutations, observer) {{\n",
              "        var display = window.getComputedStyle(gd).display;\n",
              "        if (!display || display === 'none') {{\n",
              "            console.log([gd, 'removed!']);\n",
              "            Plotly.purge(gd);\n",
              "            observer.disconnect();\n",
              "        }}\n",
              "}});\n",
              "\n",
              "// Listen for the removal of the full notebook cells\n",
              "var notebookContainer = gd.closest('#notebook-container');\n",
              "if (notebookContainer) {{\n",
              "    x.observe(notebookContainer, {childList: true});\n",
              "}}\n",
              "\n",
              "// Listen for the clearing of the current output cell\n",
              "var outputEl = gd.closest('.output');\n",
              "if (outputEl) {{\n",
              "    x.observe(outputEl, {childList: true});\n",
              "}}\n",
              "\n",
              "                        })                };                            </script>        </div>\n",
              "</body>\n",
              "</html>"
            ]
          },
          "metadata": {}
        }
      ]
    },
    {
      "cell_type": "markdown",
      "source": [
        "Podemos ver que desde los dispositivos tipo desktop o laptop se hacen muchisimas más transacaciones en monto de dinero que desde el teléfono celular-."
      ],
      "metadata": {
        "id": "rzOcfHxr2aRg"
      }
    },
    {
      "cell_type": "code",
      "source": [
        "import plotly.express as px\n",
        "\n",
        "fraud_by_tipo_dispositivo = df[df['EsFraude'] == True]['TipoDispositivo'].value_counts()\n",
        "\n",
        "fig = px.bar(fraud_by_tipo_dispositivo, x=fraud_by_tipo_dispositivo.index, y=fraud_by_tipo_dispositivo.values)\n",
        "fig.update_layout(title='Cantidad de fraudes por tipo de dispositivo',\n",
        "                  xaxis_title='Tipo de Dispositivo',\n",
        "                  yaxis_title='Cantidad de fraudes')\n",
        "\n",
        "fig.show()\n"
      ],
      "metadata": {
        "colab": {
          "base_uri": "https://localhost:8080/",
          "height": 542
        },
        "id": "xcpec4hNjGB_",
        "outputId": "ff51be08-b9dc-46ad-ea45-ef92f4b90786"
      },
      "execution_count": 73,
      "outputs": [
        {
          "output_type": "display_data",
          "data": {
            "text/html": [
              "<html>\n",
              "<head><meta charset=\"utf-8\" /></head>\n",
              "<body>\n",
              "    <div>            <script src=\"https://cdnjs.cloudflare.com/ajax/libs/mathjax/2.7.5/MathJax.js?config=TeX-AMS-MML_SVG\"></script><script type=\"text/javascript\">if (window.MathJax && window.MathJax.Hub && window.MathJax.Hub.Config) {window.MathJax.Hub.Config({SVG: {font: \"STIX-Web\"}});}</script>                <script type=\"text/javascript\">window.PlotlyConfig = {MathJaxConfig: 'local'};</script>\n",
              "        <script src=\"https://cdn.plot.ly/plotly-2.18.2.min.js\"></script>                <div id=\"1dbc953b-3491-4853-ab5f-aa9bff56cafb\" class=\"plotly-graph-div\" style=\"height:525px; width:100%;\"></div>            <script type=\"text/javascript\">                                    window.PLOTLYENV=window.PLOTLYENV || {};                                    if (document.getElementById(\"1dbc953b-3491-4853-ab5f-aa9bff56cafb\")) {                    Plotly.newPlot(                        \"1dbc953b-3491-4853-ab5f-aa9bff56cafb\",                        [{\"alignmentgroup\":\"True\",\"hovertemplate\":\"index=%{x}<br>y=%{y}<extra></extra>\",\"legendgroup\":\"\",\"marker\":{\"color\":\"#636efa\",\"pattern\":{\"shape\":\"\"}},\"name\":\"\",\"offsetgroup\":\"\",\"orientation\":\"v\",\"showlegend\":false,\"textposition\":\"auto\",\"x\":[\"mobile\",\"desktop\"],\"xaxis\":\"x\",\"y\":[5657,5554],\"yaxis\":\"y\",\"type\":\"bar\"}],                        {\"template\":{\"data\":{\"histogram2dcontour\":[{\"type\":\"histogram2dcontour\",\"colorbar\":{\"outlinewidth\":0,\"ticks\":\"\"},\"colorscale\":[[0.0,\"#0d0887\"],[0.1111111111111111,\"#46039f\"],[0.2222222222222222,\"#7201a8\"],[0.3333333333333333,\"#9c179e\"],[0.4444444444444444,\"#bd3786\"],[0.5555555555555556,\"#d8576b\"],[0.6666666666666666,\"#ed7953\"],[0.7777777777777778,\"#fb9f3a\"],[0.8888888888888888,\"#fdca26\"],[1.0,\"#f0f921\"]]}],\"choropleth\":[{\"type\":\"choropleth\",\"colorbar\":{\"outlinewidth\":0,\"ticks\":\"\"}}],\"histogram2d\":[{\"type\":\"histogram2d\",\"colorbar\":{\"outlinewidth\":0,\"ticks\":\"\"},\"colorscale\":[[0.0,\"#0d0887\"],[0.1111111111111111,\"#46039f\"],[0.2222222222222222,\"#7201a8\"],[0.3333333333333333,\"#9c179e\"],[0.4444444444444444,\"#bd3786\"],[0.5555555555555556,\"#d8576b\"],[0.6666666666666666,\"#ed7953\"],[0.7777777777777778,\"#fb9f3a\"],[0.8888888888888888,\"#fdca26\"],[1.0,\"#f0f921\"]]}],\"heatmap\":[{\"type\":\"heatmap\",\"colorbar\":{\"outlinewidth\":0,\"ticks\":\"\"},\"colorscale\":[[0.0,\"#0d0887\"],[0.1111111111111111,\"#46039f\"],[0.2222222222222222,\"#7201a8\"],[0.3333333333333333,\"#9c179e\"],[0.4444444444444444,\"#bd3786\"],[0.5555555555555556,\"#d8576b\"],[0.6666666666666666,\"#ed7953\"],[0.7777777777777778,\"#fb9f3a\"],[0.8888888888888888,\"#fdca26\"],[1.0,\"#f0f921\"]]}],\"heatmapgl\":[{\"type\":\"heatmapgl\",\"colorbar\":{\"outlinewidth\":0,\"ticks\":\"\"},\"colorscale\":[[0.0,\"#0d0887\"],[0.1111111111111111,\"#46039f\"],[0.2222222222222222,\"#7201a8\"],[0.3333333333333333,\"#9c179e\"],[0.4444444444444444,\"#bd3786\"],[0.5555555555555556,\"#d8576b\"],[0.6666666666666666,\"#ed7953\"],[0.7777777777777778,\"#fb9f3a\"],[0.8888888888888888,\"#fdca26\"],[1.0,\"#f0f921\"]]}],\"contourcarpet\":[{\"type\":\"contourcarpet\",\"colorbar\":{\"outlinewidth\":0,\"ticks\":\"\"}}],\"contour\":[{\"type\":\"contour\",\"colorbar\":{\"outlinewidth\":0,\"ticks\":\"\"},\"colorscale\":[[0.0,\"#0d0887\"],[0.1111111111111111,\"#46039f\"],[0.2222222222222222,\"#7201a8\"],[0.3333333333333333,\"#9c179e\"],[0.4444444444444444,\"#bd3786\"],[0.5555555555555556,\"#d8576b\"],[0.6666666666666666,\"#ed7953\"],[0.7777777777777778,\"#fb9f3a\"],[0.8888888888888888,\"#fdca26\"],[1.0,\"#f0f921\"]]}],\"surface\":[{\"type\":\"surface\",\"colorbar\":{\"outlinewidth\":0,\"ticks\":\"\"},\"colorscale\":[[0.0,\"#0d0887\"],[0.1111111111111111,\"#46039f\"],[0.2222222222222222,\"#7201a8\"],[0.3333333333333333,\"#9c179e\"],[0.4444444444444444,\"#bd3786\"],[0.5555555555555556,\"#d8576b\"],[0.6666666666666666,\"#ed7953\"],[0.7777777777777778,\"#fb9f3a\"],[0.8888888888888888,\"#fdca26\"],[1.0,\"#f0f921\"]]}],\"mesh3d\":[{\"type\":\"mesh3d\",\"colorbar\":{\"outlinewidth\":0,\"ticks\":\"\"}}],\"scatter\":[{\"fillpattern\":{\"fillmode\":\"overlay\",\"size\":10,\"solidity\":0.2},\"type\":\"scatter\"}],\"parcoords\":[{\"type\":\"parcoords\",\"line\":{\"colorbar\":{\"outlinewidth\":0,\"ticks\":\"\"}}}],\"scatterpolargl\":[{\"type\":\"scatterpolargl\",\"marker\":{\"colorbar\":{\"outlinewidth\":0,\"ticks\":\"\"}}}],\"bar\":[{\"error_x\":{\"color\":\"#2a3f5f\"},\"error_y\":{\"color\":\"#2a3f5f\"},\"marker\":{\"line\":{\"color\":\"#E5ECF6\",\"width\":0.5},\"pattern\":{\"fillmode\":\"overlay\",\"size\":10,\"solidity\":0.2}},\"type\":\"bar\"}],\"scattergeo\":[{\"type\":\"scattergeo\",\"marker\":{\"colorbar\":{\"outlinewidth\":0,\"ticks\":\"\"}}}],\"scatterpolar\":[{\"type\":\"scatterpolar\",\"marker\":{\"colorbar\":{\"outlinewidth\":0,\"ticks\":\"\"}}}],\"histogram\":[{\"marker\":{\"pattern\":{\"fillmode\":\"overlay\",\"size\":10,\"solidity\":0.2}},\"type\":\"histogram\"}],\"scattergl\":[{\"type\":\"scattergl\",\"marker\":{\"colorbar\":{\"outlinewidth\":0,\"ticks\":\"\"}}}],\"scatter3d\":[{\"type\":\"scatter3d\",\"line\":{\"colorbar\":{\"outlinewidth\":0,\"ticks\":\"\"}},\"marker\":{\"colorbar\":{\"outlinewidth\":0,\"ticks\":\"\"}}}],\"scattermapbox\":[{\"type\":\"scattermapbox\",\"marker\":{\"colorbar\":{\"outlinewidth\":0,\"ticks\":\"\"}}}],\"scatterternary\":[{\"type\":\"scatterternary\",\"marker\":{\"colorbar\":{\"outlinewidth\":0,\"ticks\":\"\"}}}],\"scattercarpet\":[{\"type\":\"scattercarpet\",\"marker\":{\"colorbar\":{\"outlinewidth\":0,\"ticks\":\"\"}}}],\"carpet\":[{\"aaxis\":{\"endlinecolor\":\"#2a3f5f\",\"gridcolor\":\"white\",\"linecolor\":\"white\",\"minorgridcolor\":\"white\",\"startlinecolor\":\"#2a3f5f\"},\"baxis\":{\"endlinecolor\":\"#2a3f5f\",\"gridcolor\":\"white\",\"linecolor\":\"white\",\"minorgridcolor\":\"white\",\"startlinecolor\":\"#2a3f5f\"},\"type\":\"carpet\"}],\"table\":[{\"cells\":{\"fill\":{\"color\":\"#EBF0F8\"},\"line\":{\"color\":\"white\"}},\"header\":{\"fill\":{\"color\":\"#C8D4E3\"},\"line\":{\"color\":\"white\"}},\"type\":\"table\"}],\"barpolar\":[{\"marker\":{\"line\":{\"color\":\"#E5ECF6\",\"width\":0.5},\"pattern\":{\"fillmode\":\"overlay\",\"size\":10,\"solidity\":0.2}},\"type\":\"barpolar\"}],\"pie\":[{\"automargin\":true,\"type\":\"pie\"}]},\"layout\":{\"autotypenumbers\":\"strict\",\"colorway\":[\"#636efa\",\"#EF553B\",\"#00cc96\",\"#ab63fa\",\"#FFA15A\",\"#19d3f3\",\"#FF6692\",\"#B6E880\",\"#FF97FF\",\"#FECB52\"],\"font\":{\"color\":\"#2a3f5f\"},\"hovermode\":\"closest\",\"hoverlabel\":{\"align\":\"left\"},\"paper_bgcolor\":\"white\",\"plot_bgcolor\":\"#E5ECF6\",\"polar\":{\"bgcolor\":\"#E5ECF6\",\"angularaxis\":{\"gridcolor\":\"white\",\"linecolor\":\"white\",\"ticks\":\"\"},\"radialaxis\":{\"gridcolor\":\"white\",\"linecolor\":\"white\",\"ticks\":\"\"}},\"ternary\":{\"bgcolor\":\"#E5ECF6\",\"aaxis\":{\"gridcolor\":\"white\",\"linecolor\":\"white\",\"ticks\":\"\"},\"baxis\":{\"gridcolor\":\"white\",\"linecolor\":\"white\",\"ticks\":\"\"},\"caxis\":{\"gridcolor\":\"white\",\"linecolor\":\"white\",\"ticks\":\"\"}},\"coloraxis\":{\"colorbar\":{\"outlinewidth\":0,\"ticks\":\"\"}},\"colorscale\":{\"sequential\":[[0.0,\"#0d0887\"],[0.1111111111111111,\"#46039f\"],[0.2222222222222222,\"#7201a8\"],[0.3333333333333333,\"#9c179e\"],[0.4444444444444444,\"#bd3786\"],[0.5555555555555556,\"#d8576b\"],[0.6666666666666666,\"#ed7953\"],[0.7777777777777778,\"#fb9f3a\"],[0.8888888888888888,\"#fdca26\"],[1.0,\"#f0f921\"]],\"sequentialminus\":[[0.0,\"#0d0887\"],[0.1111111111111111,\"#46039f\"],[0.2222222222222222,\"#7201a8\"],[0.3333333333333333,\"#9c179e\"],[0.4444444444444444,\"#bd3786\"],[0.5555555555555556,\"#d8576b\"],[0.6666666666666666,\"#ed7953\"],[0.7777777777777778,\"#fb9f3a\"],[0.8888888888888888,\"#fdca26\"],[1.0,\"#f0f921\"]],\"diverging\":[[0,\"#8e0152\"],[0.1,\"#c51b7d\"],[0.2,\"#de77ae\"],[0.3,\"#f1b6da\"],[0.4,\"#fde0ef\"],[0.5,\"#f7f7f7\"],[0.6,\"#e6f5d0\"],[0.7,\"#b8e186\"],[0.8,\"#7fbc41\"],[0.9,\"#4d9221\"],[1,\"#276419\"]]},\"xaxis\":{\"gridcolor\":\"white\",\"linecolor\":\"white\",\"ticks\":\"\",\"title\":{\"standoff\":15},\"zerolinecolor\":\"white\",\"automargin\":true,\"zerolinewidth\":2},\"yaxis\":{\"gridcolor\":\"white\",\"linecolor\":\"white\",\"ticks\":\"\",\"title\":{\"standoff\":15},\"zerolinecolor\":\"white\",\"automargin\":true,\"zerolinewidth\":2},\"scene\":{\"xaxis\":{\"backgroundcolor\":\"#E5ECF6\",\"gridcolor\":\"white\",\"linecolor\":\"white\",\"showbackground\":true,\"ticks\":\"\",\"zerolinecolor\":\"white\",\"gridwidth\":2},\"yaxis\":{\"backgroundcolor\":\"#E5ECF6\",\"gridcolor\":\"white\",\"linecolor\":\"white\",\"showbackground\":true,\"ticks\":\"\",\"zerolinecolor\":\"white\",\"gridwidth\":2},\"zaxis\":{\"backgroundcolor\":\"#E5ECF6\",\"gridcolor\":\"white\",\"linecolor\":\"white\",\"showbackground\":true,\"ticks\":\"\",\"zerolinecolor\":\"white\",\"gridwidth\":2}},\"shapedefaults\":{\"line\":{\"color\":\"#2a3f5f\"}},\"annotationdefaults\":{\"arrowcolor\":\"#2a3f5f\",\"arrowhead\":0,\"arrowwidth\":1},\"geo\":{\"bgcolor\":\"white\",\"landcolor\":\"#E5ECF6\",\"subunitcolor\":\"white\",\"showland\":true,\"showlakes\":true,\"lakecolor\":\"white\"},\"title\":{\"x\":0.05},\"mapbox\":{\"style\":\"light\"}}},\"xaxis\":{\"anchor\":\"y\",\"domain\":[0.0,1.0],\"title\":{\"text\":\"Tipo de Dispositivo\"}},\"yaxis\":{\"anchor\":\"x\",\"domain\":[0.0,1.0],\"title\":{\"text\":\"Cantidad de fraudes\"}},\"legend\":{\"tracegroupgap\":0},\"margin\":{\"t\":60},\"barmode\":\"relative\",\"title\":{\"text\":\"Cantidad de fraudes por tipo de dispositivo\"}},                        {\"responsive\": true}                    ).then(function(){\n",
              "                            \n",
              "var gd = document.getElementById('1dbc953b-3491-4853-ab5f-aa9bff56cafb');\n",
              "var x = new MutationObserver(function (mutations, observer) {{\n",
              "        var display = window.getComputedStyle(gd).display;\n",
              "        if (!display || display === 'none') {{\n",
              "            console.log([gd, 'removed!']);\n",
              "            Plotly.purge(gd);\n",
              "            observer.disconnect();\n",
              "        }}\n",
              "}});\n",
              "\n",
              "// Listen for the removal of the full notebook cells\n",
              "var notebookContainer = gd.closest('#notebook-container');\n",
              "if (notebookContainer) {{\n",
              "    x.observe(notebookContainer, {childList: true});\n",
              "}}\n",
              "\n",
              "// Listen for the clearing of the current output cell\n",
              "var outputEl = gd.closest('.output');\n",
              "if (outputEl) {{\n",
              "    x.observe(outputEl, {childList: true});\n",
              "}}\n",
              "\n",
              "                        })                };                            </script>        </div>\n",
              "</body>\n",
              "</html>"
            ]
          },
          "metadata": {}
        }
      ]
    },
    {
      "cell_type": "code",
      "source": [
        "df['MontoTransaccion'].hist()\n",
        "plt.xlabel('Monto de la Transacción')\n",
        "plt.ylabel('Frecuencia')\n",
        "plt.title('Distribución del Monto de la Transacción')\n",
        "plt.show()\n"
      ],
      "metadata": {
        "colab": {
          "base_uri": "https://localhost:8080/",
          "height": 472
        },
        "id": "SNm_ZZaJAFxX",
        "outputId": "fffd182e-4626-431b-8b33-93b8d0013104"
      },
      "execution_count": 66,
      "outputs": [
        {
          "output_type": "display_data",
          "data": {
            "text/plain": [
              "<Figure size 640x480 with 1 Axes>"
            ],
            "image/png": "[encoded data removed]"
          },
          "metadata": {}
        }
      ]
    },
    {
      "cell_type": "code",
      "source": [
        "#Distribución de las variables categóricas\n",
        "df['Franquicia'].value_counts().plot(kind='bar')\n",
        "plt.xlabel('Franquicia')\n",
        "plt.ylabel('Frecuencia')\n",
        "plt.title('Distribución de la Franquicia')\n",
        "plt.show()\n"
      ],
      "metadata": {
        "colab": {
          "base_uri": "https://localhost:8080/",
          "height": 581
        },
        "id": "MsPjFlIcAPQt",
        "outputId": "d8ca35d1-0db8-4cdb-a1b2-f09a5d02d806"
      },
      "execution_count": 67,
      "outputs": [
        {
          "output_type": "display_data",
          "data": {
            "text/plain": [
              "<Figure size 640x480 with 1 Axes>"
            ],
            "image/png": "[encoded data removed]"
          },
          "metadata": {}
        }
      ]
    },
    {
      "cell_type": "code",
      "source": [
        "fraudes_por_franquicia = df[df['EsFraude'] == True]['Franquicia'].value_counts()\n",
        "\n",
        "plt.bar(fraudes_por_franquicia.index, fraudes_por_franquicia.values)\n",
        "plt.xlabel('Franquicia')\n",
        "plt.ylabel('Cantidad de fraudes')\n",
        "plt.title('Cantidad de fraudes por franquicia')\n",
        "plt.xticks(rotation=45)\n",
        "plt.show()\n"
      ],
      "metadata": {
        "colab": {
          "base_uri": "https://localhost:8080/",
          "height": 555
        },
        "id": "oMTYN_92iW0C",
        "outputId": "c1112972-e2a9-401b-df42-efeadaff8f24"
      },
      "execution_count": 69,
      "outputs": [
        {
          "output_type": "display_data",
          "data": {
            "text/plain": [
              "<Figure size 640x480 with 1 Axes>"
            ],
            "image/png": "[encoded data removed]"
          },
          "metadata": {}
        }
      ]
    },
    {
      "cell_type": "code",
      "source": [
        "fraude_por_franquicia = df.groupby('Franquicia')['EsFraude'].value_counts().unstack().fillna(0)\n",
        "\n",
        "fraude_por_franquicia.plot(kind='bar', stacked=True)\n",
        "plt.xlabel('Franquicia')\n",
        "plt.ylabel('Cantidad de transacciones')\n",
        "plt.title('Cantidad de transacciones por franquicia')\n",
        "plt.legend(['No Fraude', 'Fraude'])\n",
        "plt.xticks(rotation=45)\n",
        "plt.show()\n"
      ],
      "metadata": {
        "colab": {
          "base_uri": "https://localhost:8080/",
          "height": 555
        },
        "id": "DiPxyr_6iyJg",
        "outputId": "7cde510b-5c40-43ab-810c-39b8fd7cd0b5"
      },
      "execution_count": 70,
      "outputs": [
        {
          "output_type": "display_data",
          "data": {
            "text/plain": [
              "<Figure size 640x480 with 1 Axes>"
            ],
            "image/png": "[encoded data removed]"
          },
          "metadata": {}
        }
      ]
    },
    {
      "cell_type": "markdown",
      "source": [
        "#### 3.4. Correlación entre las diferentes variables"
      ],
      "metadata": {
        "id": "PjpiPpQGzlSh"
      }
    },
    {
      "cell_type": "code",
      "source": [
        "#Matriz de correlaciones\n",
        "corr_matrix = df.corr()"
      ],
      "metadata": {
        "id": "5IACug-JzrOp"
      },
      "execution_count": 41,
      "outputs": []
    },
    {
      "cell_type": "code",
      "source": [
        "#Gráfico de la matriz de correlaciones\n",
        "plt.figure(figsize=(18,18))\n",
        "sns.heatmap(corr_matrix, annot = True, vmin = -1, vmax = 1, cmap = \"YlGnBu\").set_title('Correlation Matrix')\n",
        "plt.show()"
      ],
      "metadata": {
        "colab": {
          "base_uri": "https://localhost:8080/",
          "height": 1000
        },
        "id": "heLqqv2RzwLo",
        "outputId": "13541bc4-b074-4397-dc2d-355e3b1659ab"
      },
      "execution_count": 42,
      "outputs": [
        {
          "output_type": "display_data",
          "data": {
            "text/plain": [
              "<Figure size 1800x1800 with 2 Axes>"
            ],
            "image/png": "[encoded data removed]"
          },
          "metadata": {}
        }
      ]
    },
    {
      "cell_type": "code",
      "source": [
        "#Correlaciones de las variables con la variable objetivo\n",
        "target_corr_df = pd.DataFrame(corr_matrix[\"EsFraude\"].sort_values(ascending=False))\n",
        "target_corr_df "
      ],
      "metadata": {
        "colab": {
          "base_uri": "https://localhost:8080/",
          "height": 175
        },
        "id": "EHRkDv6Sz3H8",
        "outputId": "daa021ea-e3f4-4e01-8b72-c8c0fb58d39a"
      },
      "execution_count": 53,
      "outputs": [
        {
          "output_type": "execute_result",
          "data": {
            "text/plain": [
              "                  EsFraude\n",
              "EsFraude          1.000000\n",
              "IdTransaccion     0.092935\n",
              "LineaDeTiempo     0.089427\n",
              "MontoTransaccion  0.015360"
            ],
            "text/html": [
              "\n",
              "  <div id=\"df-5551a7d6-2920-4c72-a768-7e835f836c18\">\n",
              "    <div class=\"colab-df-container\">\n",
              "      <div>\n",
              "<style scoped>\n",
              "    .dataframe tbody tr th:only-of-type {\n",
              "        vertical-align: middle;\n",
              "    }\n",
              "\n",
              "    .dataframe tbody tr th {\n",
              "        vertical-align: top;\n",
              "    }\n",
              "\n",
              "    .dataframe thead th {\n",
              "        text-align: right;\n",
              "    }\n",
              "</style>\n",
              "<table border=\"1\" class=\"dataframe\">\n",
              "  <thead>\n",
              "    <tr style=\"text-align: right;\">\n",
              "      <th></th>\n",
              "      <th>EsFraude</th>\n",
              "    </tr>\n",
              "  </thead>\n",
              "  <tbody>\n",
              "    <tr>\n",
              "      <th>EsFraude</th>\n",
              "      <td>1.000000</td>\n",
              "    </tr>\n",
              "    <tr>\n",
              "      <th>IdTransaccion</th>\n",
              "      <td>0.092935</td>\n",
              "    </tr>\n",
              "    <tr>\n",
              "      <th>LineaDeTiempo</th>\n",
              "      <td>0.089427</td>\n",
              "    </tr>\n",
              "    <tr>\n",
              "      <th>MontoTransaccion</th>\n",
              "      <td>0.015360</td>\n",
              "    </tr>\n",
              "  </tbody>\n",
              "</table>\n",
              "</div>\n",
              "      <button class=\"colab-df-convert\" onclick=\"convertToInteractive('df-5551a7d6-2920-4c72-a768-7e835f836c18')\"\n",
              "              title=\"Convert this dataframe to an interactive table.\"\n",
              "              style=\"display:none;\">\n",
              "        \n",
              "  <svg xmlns=\"http://www.w3.org/2000/svg\" height=\"24px\"viewBox=\"0 0 24 24\"\n",
              "       width=\"24px\">\n",
              "    <path d=\"M0 0h24v24H0V0z\" fill=\"none\"/>\n",
              "    <path d=\"M18.56 5.44l.94 2.06.94-2.06 2.06-.94-2.06-.94-.94-2.06-.94 2.06-2.06.94zm-11 1L8.5 8.5l.94-2.06 2.06-.94-2.06-.94L8.5 2.5l-.94 2.06-2.06.94zm10 10l.94 2.06.94-2.06 2.06-.94-2.06-.94-.94-2.06-.94 2.06-2.06.94z\"/><path d=\"M17.41 7.96l-1.37-1.37c-.4-.4-.92-.59-1.43-.59-.52 0-1.04.2-1.43.59L10.3 9.45l-7.72 7.72c-.78.78-.78 2.05 0 2.83L4 21.41c.39.39.9.59 1.41.59.51 0 1.02-.2 1.41-.59l7.78-7.78 2.81-2.81c.8-.78.8-2.07 0-2.86zM5.41 20L4 18.59l7.72-7.72 1.47 1.35L5.41 20z\"/>\n",
              "  </svg>\n",
              "      </button>\n",
              "      \n",
              "  <style>\n",
              "    .colab-df-container {\n",
              "      display:flex;\n",
              "      flex-wrap:wrap;\n",
              "      gap: 12px;\n",
              "    }\n",
              "\n",
              "    .colab-df-convert {\n",
              "      background-color: #E8F0FE;\n",
              "      border: none;\n",
              "      border-radius: 50%;\n",
              "      cursor: pointer;\n",
              "      display: none;\n",
              "      fill: #1967D2;\n",
              "      height: 32px;\n",
              "      padding: 0 0 0 0;\n",
              "      width: 32px;\n",
              "    }\n",
              "\n",
              "    .colab-df-convert:hover {\n",
              "      background-color: #E2EBFA;\n",
              "      box-shadow: 0px 1px 2px rgba(60, 64, 67, 0.3), 0px 1px 3px 1px rgba(60, 64, 67, 0.15);\n",
              "      fill: #174EA6;\n",
              "    }\n",
              "\n",
              "    [theme=dark] .colab-df-convert {\n",
              "      background-color: #3B4455;\n",
              "      fill: #D2E3FC;\n",
              "    }\n",
              "\n",
              "    [theme=dark] .colab-df-convert:hover {\n",
              "      background-color: #434B5C;\n",
              "      box-shadow: 0px 1px 3px 1px rgba(0, 0, 0, 0.15);\n",
              "      filter: drop-shadow(0px 1px 2px rgba(0, 0, 0, 0.3));\n",
              "      fill: #FFFFFF;\n",
              "    }\n",
              "  </style>\n",
              "\n",
              "      <script>\n",
              "        const buttonEl =\n",
              "          document.querySelector('#df-5551a7d6-2920-4c72-a768-7e835f836c18 button.colab-df-convert');\n",
              "        buttonEl.style.display =\n",
              "          google.colab.kernel.accessAllowed ? 'block' : 'none';\n",
              "\n",
              "        async function convertToInteractive(key) {\n",
              "          const element = document.querySelector('#df-5551a7d6-2920-4c72-a768-7e835f836c18');\n",
              "          const dataTable =\n",
              "            await google.colab.kernel.invokeFunction('convertToInteractive',\n",
              "                                                     [key], {});\n",
              "          if (!dataTable) return;\n",
              "\n",
              "          const docLinkHtml = 'Like what you see? Visit the ' +\n",
              "            '<a target=\"_blank\" href=https://colab.research.google.com/notebooks/data_table.ipynb>data table notebook</a>'\n",
              "            + ' to learn more about interactive tables.';\n",
              "          element.innerHTML = '';\n",
              "          dataTable['output_type'] = 'display_data';\n",
              "          await google.colab.output.renderOutput(dataTable, element);\n",
              "          const docLink = document.createElement('div');\n",
              "          docLink.innerHTML = docLinkHtml;\n",
              "          element.appendChild(docLink);\n",
              "        }\n",
              "      </script>\n",
              "    </div>\n",
              "  </div>\n",
              "  "
            ]
          },
          "metadata": {},
          "execution_count": 53
        }
      ]
    },
    {
      "cell_type": "markdown",
      "source": [
        "#### 3.5 Distribución de las variables numéricas"
      ],
      "metadata": {
        "id": "lveqlBsSz9fp"
      }
    },
    {
      "cell_type": "code",
      "source": [
        "#Gráficos de los histogramas de las distribuciones de las variables\n",
        "df.hist(bins=50, figsize=(24,15))\n",
        "plt.suptitle('Histograms For the Different Features', fontsize=16)\n",
        "plt.show()"
      ],
      "metadata": {
        "colab": {
          "base_uri": "https://localhost:8080/",
          "height": 1000
        },
        "id": "aUJWcql9z6tx",
        "outputId": "d5653144-97de-4887-9956-5a580f2d151b"
      },
      "execution_count": 54,
      "outputs": [
        {
          "output_type": "display_data",
          "data": {
            "text/plain": [
              "<Figure size 2400x1500 with 4 Axes>"
            ],
            "image/png": "[encoded data removed]"
          },
          "metadata": {}
        }
      ]
    },
    {
      "cell_type": "code",
      "source": [
        "sns.scatterplot(x='MontoTransaccion', y='Franquicia', data=df)\n",
        "plt.xlabel('Monto de Transacción')\n",
        "plt.ylabel('Franquicia')\n",
        "plt.title('Relación entre Monto de Transacción y Franquicia')\n",
        "plt.show()\n"
      ],
      "metadata": {
        "colab": {
          "base_uri": "https://localhost:8080/",
          "height": 472
        },
        "id": "ZxU55KKaAYlN",
        "outputId": "9e850cc4-be1c-4f2d-e297-077ed3121294"
      },
      "execution_count": 113,
      "outputs": [
        {
          "output_type": "display_data",
          "data": {
            "text/plain": [
              "<Figure size 640x480 with 1 Axes>"
            ],
            "image/png": "[encoded data removed]"
          },
          "metadata": {}
        }
      ]
    },
    {
      "cell_type": "code",
      "source": [
        "import matplotlib.pyplot as plt\n",
        "\n",
        "grouped_df = df.groupby(['Franquicia', 'TipoDispositivo'])['MontoTransaccion'].sum().reset_index()\n",
        "\n",
        "plt.figure(figsize=(10, 6))\n",
        "sns.barplot(x='Franquicia', y='MontoTransaccion', hue='TipoDispositivo', data=grouped_df)\n",
        "plt.xlabel('Franquicia')\n",
        "plt.ylabel('Monto de Transacción')\n",
        "plt.title('Monto de Transacción por Franquicia y Dispositivo')\n",
        "plt.legend(title='Tipo de Dispositivo')\n",
        "plt.show()\n"
      ],
      "metadata": {
        "colab": {
          "base_uri": "https://localhost:8080/",
          "height": 565
        },
        "id": "M-ky0rzmA0J7",
        "outputId": "f3bbcae9-6fbb-4a11-de66-a480477c94ea"
      },
      "execution_count": 74,
      "outputs": [
        {
          "output_type": "display_data",
          "data": {
            "text/plain": [
              "<Figure size 1000x600 with 1 Axes>"
            ],
            "image/png": "[encoded data removed]"
          },
          "metadata": {}
        }
      ]
    },
    {
      "cell_type": "code",
      "source": [
        "#Ahora solo cuando es sospechoso de fraude\n",
        "fraud_df = df[df['EsFraude'] == 1]\n",
        "\n",
        "grouped_df = fraud_df.groupby(['Franquicia', 'TipoDispositivo'])['MontoTransaccion'].sum().reset_index()\n",
        "\n",
        "plt.figure(figsize=(10, 6))\n",
        "sns.barplot(x='Franquicia', y='MontoTransaccion', hue='TipoDispositivo', data=grouped_df)\n",
        "plt.xlabel('Franquicia')\n",
        "plt.ylabel('Monto de Transacción')\n",
        "plt.title('Monto de Transacción por Franquicia y Dispositivo (Fraudes)')\n",
        "plt.legend(title='Tipo de Dispositivo')\n",
        "plt.show()\n"
      ],
      "metadata": {
        "colab": {
          "base_uri": "https://localhost:8080/",
          "height": 565
        },
        "id": "9WCNWwaSA_cE",
        "outputId": "cc07b3d2-2e61-4f32-d599-54adb9c60d00"
      },
      "execution_count": 75,
      "outputs": [
        {
          "output_type": "display_data",
          "data": {
            "text/plain": [
              "<Figure size 1000x600 with 1 Axes>"
            ],
            "image/png": "[encoded data removed]"
          },
          "metadata": {}
        }
      ]
    },
    {
      "cell_type": "code",
      "source": [
        "sub = pd.read_csv('sample_submission.csv')\n",
        "sub"
      ],
      "metadata": {
        "colab": {
          "base_uri": "https://localhost:8080/",
          "height": 424
        },
        "id": "gY8w3wXGDeC3",
        "outputId": "97afb8d2-7f1d-436d-e294-bcacc28a0c3a"
      },
      "execution_count": 79,
      "outputs": [
        {
          "output_type": "execute_result",
          "data": {
            "text/plain": [
              "        TransactionID  isFraud\n",
              "0             3663549      0.5\n",
              "1             3663550      0.5\n",
              "2             3663551      0.5\n",
              "3             3663552      0.5\n",
              "4             3663553      0.5\n",
              "...               ...      ...\n",
              "506686        4170235      0.5\n",
              "506687        4170236      0.5\n",
              "506688        4170237      0.5\n",
              "506689        4170238      0.5\n",
              "506690        4170239      0.5\n",
              "\n",
              "[506691 rows x 2 columns]"
            ],
            "text/html": [
              "\n",
              "  <div id=\"df-aaf484e3-55f5-4b2a-8187-39d63e532fa4\">\n",
              "    <div class=\"colab-df-container\">\n",
              "      <div>\n",
              "<style scoped>\n",
              "    .dataframe tbody tr th:only-of-type {\n",
              "        vertical-align: middle;\n",
              "    }\n",
              "\n",
              "    .dataframe tbody tr th {\n",
              "        vertical-align: top;\n",
              "    }\n",
              "\n",
              "    .dataframe thead th {\n",
              "        text-align: right;\n",
              "    }\n",
              "</style>\n",
              "<table border=\"1\" class=\"dataframe\">\n",
              "  <thead>\n",
              "    <tr style=\"text-align: right;\">\n",
              "      <th></th>\n",
              "      <th>TransactionID</th>\n",
              "      <th>isFraud</th>\n",
              "    </tr>\n",
              "  </thead>\n",
              "  <tbody>\n",
              "    <tr>\n",
              "      <th>0</th>\n",
              "      <td>3663549</td>\n",
              "      <td>0.5</td>\n",
              "    </tr>\n",
              "    <tr>\n",
              "      <th>1</th>\n",
              "      <td>3663550</td>\n",
              "      <td>0.5</td>\n",
              "    </tr>\n",
              "    <tr>\n",
              "      <th>2</th>\n",
              "      <td>3663551</td>\n",
              "      <td>0.5</td>\n",
              "    </tr>\n",
              "    <tr>\n",
              "      <th>3</th>\n",
              "      <td>3663552</td>\n",
              "      <td>0.5</td>\n",
              "    </tr>\n",
              "    <tr>\n",
              "      <th>4</th>\n",
              "      <td>3663553</td>\n",
              "      <td>0.5</td>\n",
              "    </tr>\n",
              "    <tr>\n",
              "      <th>...</th>\n",
              "      <td>...</td>\n",
              "      <td>...</td>\n",
              "    </tr>\n",
              "    <tr>\n",
              "      <th>506686</th>\n",
              "      <td>4170235</td>\n",
              "      <td>0.5</td>\n",
              "    </tr>\n",
              "    <tr>\n",
              "      <th>506687</th>\n",
              "      <td>4170236</td>\n",
              "      <td>0.5</td>\n",
              "    </tr>\n",
              "    <tr>\n",
              "      <th>506688</th>\n",
              "      <td>4170237</td>\n",
              "      <td>0.5</td>\n",
              "    </tr>\n",
              "    <tr>\n",
              "      <th>506689</th>\n",
              "      <td>4170238</td>\n",
              "      <td>0.5</td>\n",
              "    </tr>\n",
              "    <tr>\n",
              "      <th>506690</th>\n",
              "      <td>4170239</td>\n",
              "      <td>0.5</td>\n",
              "    </tr>\n",
              "  </tbody>\n",
              "</table>\n",
              "<p>506691 rows × 2 columns</p>\n",
              "</div>\n",
              "      <button class=\"colab-df-convert\" onclick=\"convertToInteractive('df-aaf484e3-55f5-4b2a-8187-39d63e532fa4')\"\n",
              "              title=\"Convert this dataframe to an interactive table.\"\n",
              "              style=\"display:none;\">\n",
              "        \n",
              "  <svg xmlns=\"http://www.w3.org/2000/svg\" height=\"24px\"viewBox=\"0 0 24 24\"\n",
              "       width=\"24px\">\n",
              "    <path d=\"M0 0h24v24H0V0z\" fill=\"none\"/>\n",
              "    <path d=\"M18.56 5.44l.94 2.06.94-2.06 2.06-.94-2.06-.94-.94-2.06-.94 2.06-2.06.94zm-11 1L8.5 8.5l.94-2.06 2.06-.94-2.06-.94L8.5 2.5l-.94 2.06-2.06.94zm10 10l.94 2.06.94-2.06 2.06-.94-2.06-.94-.94-2.06-.94 2.06-2.06.94z\"/><path d=\"M17.41 7.96l-1.37-1.37c-.4-.4-.92-.59-1.43-.59-.52 0-1.04.2-1.43.59L10.3 9.45l-7.72 7.72c-.78.78-.78 2.05 0 2.83L4 21.41c.39.39.9.59 1.41.59.51 0 1.02-.2 1.41-.59l7.78-7.78 2.81-2.81c.8-.78.8-2.07 0-2.86zM5.41 20L4 18.59l7.72-7.72 1.47 1.35L5.41 20z\"/>\n",
              "  </svg>\n",
              "      </button>\n",
              "      \n",
              "  <style>\n",
              "    .colab-df-container {\n",
              "      display:flex;\n",
              "      flex-wrap:wrap;\n",
              "      gap: 12px;\n",
              "    }\n",
              "\n",
              "    .colab-df-convert {\n",
              "      background-color: #E8F0FE;\n",
              "      border: none;\n",
              "      border-radius: 50%;\n",
              "      cursor: pointer;\n",
              "      display: none;\n",
              "      fill: #1967D2;\n",
              "      height: 32px;\n",
              "      padding: 0 0 0 0;\n",
              "      width: 32px;\n",
              "    }\n",
              "\n",
              "    .colab-df-convert:hover {\n",
              "      background-color: #E2EBFA;\n",
              "      box-shadow: 0px 1px 2px rgba(60, 64, 67, 0.3), 0px 1px 3px 1px rgba(60, 64, 67, 0.15);\n",
              "      fill: #174EA6;\n",
              "    }\n",
              "\n",
              "    [theme=dark] .colab-df-convert {\n",
              "      background-color: #3B4455;\n",
              "      fill: #D2E3FC;\n",
              "    }\n",
              "\n",
              "    [theme=dark] .colab-df-convert:hover {\n",
              "      background-color: #434B5C;\n",
              "      box-shadow: 0px 1px 3px 1px rgba(0, 0, 0, 0.15);\n",
              "      filter: drop-shadow(0px 1px 2px rgba(0, 0, 0, 0.3));\n",
              "      fill: #FFFFFF;\n",
              "    }\n",
              "  </style>\n",
              "\n",
              "      <script>\n",
              "        const buttonEl =\n",
              "          document.querySelector('#df-aaf484e3-55f5-4b2a-8187-39d63e532fa4 button.colab-df-convert');\n",
              "        buttonEl.style.display =\n",
              "          google.colab.kernel.accessAllowed ? 'block' : 'none';\n",
              "\n",
              "        async function convertToInteractive(key) {\n",
              "          const element = document.querySelector('#df-aaf484e3-55f5-4b2a-8187-39d63e532fa4');\n",
              "          const dataTable =\n",
              "            await google.colab.kernel.invokeFunction('convertToInteractive',\n",
              "                                                     [key], {});\n",
              "          if (!dataTable) return;\n",
              "\n",
              "          const docLinkHtml = 'Like what you see? Visit the ' +\n",
              "            '<a target=\"_blank\" href=https://colab.research.google.com/notebooks/data_table.ipynb>data table notebook</a>'\n",
              "            + ' to learn more about interactive tables.';\n",
              "          element.innerHTML = '';\n",
              "          dataTable['output_type'] = 'display_data';\n",
              "          await google.colab.output.renderOutput(dataTable, element);\n",
              "          const docLink = document.createElement('div');\n",
              "          docLink.innerHTML = docLinkHtml;\n",
              "          element.appendChild(docLink);\n",
              "        }\n",
              "      </script>\n",
              "    </div>\n",
              "  </div>\n",
              "  "
            ]
          },
          "metadata": {},
          "execution_count": 79
        }
      ]
    },
    {
      "cell_type": "code",
      "source": [
        "unique_values = sub['isFraud'].unique()\n",
        "print(unique_values)"
      ],
      "metadata": {
        "colab": {
          "base_uri": "https://localhost:8080/"
        },
        "id": "TYl3XfNfjiet",
        "outputId": "6b313a24-4ff5-49cb-cac2-6d3954c35217"
      },
      "execution_count": 80,
      "outputs": [
        {
          "output_type": "stream",
          "name": "stdout",
          "text": [
            "[0.5]\n"
          ]
        }
      ]
    },
    {
      "cell_type": "code",
      "source": [
        "df.columns"
      ],
      "metadata": {
        "colab": {
          "base_uri": "https://localhost:8080/"
        },
        "id": "ZuXa5Yx1DsPO",
        "outputId": "2b742c0e-d4ad-48cc-83ca-93f51ddc403e"
      },
      "execution_count": 76,
      "outputs": [
        {
          "output_type": "execute_result",
          "data": {
            "text/plain": [
              "Index(['IdTransaccion', 'Proxy', 'SistemaOperativo', 'Navegador', 'Resolucion',\n",
              "       'TipoDispositivo', 'InfoDispositivo', 'EsFraude', 'LineaDeTiempo',\n",
              "       'MontoTransaccion', 'Franquicia', 'TipoTarjeta', 'DominioCompra'],\n",
              "      dtype='object')"
            ]
          },
          "metadata": {},
          "execution_count": 76
        }
      ]
    },
    {
      "cell_type": "code",
      "source": [
        "transacciones.columns"
      ],
      "metadata": {
        "colab": {
          "base_uri": "https://localhost:8080/"
        },
        "id": "7Ji4KDhonyOW",
        "outputId": "8d8b3dc3-685b-431b-eab3-b7cfb33d7044"
      },
      "execution_count": 82,
      "outputs": [
        {
          "output_type": "execute_result",
          "data": {
            "text/plain": [
              "Index(['IdTransaccion', 'EsFraude', 'LineaDeTiempo', 'MontoTransaccion',\n",
              "       'Franquicia', 'TipoTarjeta', 'DominioCompra'],\n",
              "      dtype='object')"
            ]
          },
          "metadata": {},
          "execution_count": 82
        }
      ]
    },
    {
      "cell_type": "code",
      "source": [
        "sns.distplot(df['EsFraude'], fit=norm)\n",
        "fig = plt.figure()\n",
        "res = stats.probplot(df['EsFraude'], plot=plt)"
      ],
      "metadata": {
        "colab": {
          "base_uri": "https://localhost:8080/",
          "height": 904
        },
        "id": "4tXPolO9sGb7",
        "outputId": "63fffdfe-b160-474b-f422-ca8b6633c1b6"
      },
      "execution_count": 92,
      "outputs": [
        {
          "output_type": "display_data",
          "data": {
            "text/plain": [
              "<Figure size 640x480 with 1 Axes>"
            ],
            "image/png": "[encoded data removed]"
          },
          "metadata": {}
        },
        {
          "output_type": "display_data",
          "data": {
            "text/plain": [
              "<Figure size 640x480 with 1 Axes>"
            ],
            "image/png": "[encoded data removed]"
          },
          "metadata": {}
        }
      ]
    },
    {
      "cell_type": "code",
      "source": [
        "from sklearn.metrics import roc_curve, roc_auc_score\n",
        "import matplotlib.pyplot as plt\n",
        "\n",
        "# Obtener las probabilidades de la clase positiva del modelo\n",
        "probabilities = df['EsFraude']\n",
        "\n",
        "# Calcular la curva ROC\n",
        "fpr, tpr, thresholds = roc_curve(df['EsFraude'], probabilities)\n",
        "\n",
        "# Calcular el área bajo la curva ROC\n",
        "auc_roc = roc_auc_score(df['EsFraude'], probabilities)\n",
        "\n",
        "# Graficar la curva ROC\n",
        "plt.plot(fpr, tpr, label='ROC curve (AUC = %0.2f)' % auc_roc)\n",
        "plt.plot([0, 1], [0, 1], 'k--')\n",
        "plt.xlim([0.0, 1.0])\n",
        "plt.ylim([0.0, 1.05])\n",
        "plt.xlabel('Tasa de falsos positivos')\n",
        "plt.ylabel('Tasa de verdaderos positivos')\n",
        "plt.title('Curva ROC (Receiver Operating Characteristic)')\n",
        "plt.legend(loc=\"lower right\")\n",
        "plt.show()\n",
        "\n",
        "# Imprimir el valor del área bajo la curva ROC\n",
        "print(\"Área bajo la curva ROC (AUC-ROC): {:.4f}\".format(auc_roc))\n"
      ],
      "metadata": {
        "colab": {
          "base_uri": "https://localhost:8080/",
          "height": 489
        },
        "id": "jybPyZ60pkNV",
        "outputId": "267b6550-bd67-405e-db4f-626d8a3566f1"
      },
      "execution_count": 43,
      "outputs": [
        {
          "output_type": "display_data",
          "data": {
            "text/plain": [
              "<Figure size 640x480 with 1 Axes>"
            ],
            "image/png": "[encoded data removed]"
          },
          "metadata": {}
        },
        {
          "output_type": "stream",
          "name": "stdout",
          "text": [
            "Área bajo la curva ROC (AUC-ROC): 1.0000\n"
          ]
        }
      ]
    },
    {
      "cell_type": "code",
      "source": [
        "# Reemplazar \"Sin Información\" con NaN\n",
        "df.replace('Sin Información', np.nan, inplace=True)"
      ],
      "metadata": {
        "colab": {
          "base_uri": "https://localhost:8080/",
          "height": 182
        },
        "id": "5WfmBJsPESDg",
        "outputId": "11e3dade-b4bd-4dc1-cf98-bbf2d8de0ff9"
      },
      "execution_count": 14,
      "outputs": [
        {
          "output_type": "error",
          "ename": "NameError",
          "evalue": "ignored",
          "traceback": [
            "\u001b[0;31m---------------------------------------------------------------------------\u001b[0m",
            "\u001b[0;31mNameError\u001b[0m                                 Traceback (most recent call last)",
            "\u001b[0;32m<ipython-input-14-5ec6ec561bed>\u001b[0m in \u001b[0;36m<cell line: 2>\u001b[0;34m()\u001b[0m\n\u001b[1;32m      1\u001b[0m \u001b[0;31m# Reemplazar \"Sin Información\" con NaN\u001b[0m\u001b[0;34m\u001b[0m\u001b[0;34m\u001b[0m\u001b[0m\n\u001b[0;32m----> 2\u001b[0;31m \u001b[0mdf\u001b[0m\u001b[0;34m.\u001b[0m\u001b[0mreplace\u001b[0m\u001b[0;34m(\u001b[0m\u001b[0;34m'Sin Información'\u001b[0m\u001b[0;34m,\u001b[0m \u001b[0mnp\u001b[0m\u001b[0;34m.\u001b[0m\u001b[0mnan\u001b[0m\u001b[0;34m,\u001b[0m \u001b[0minplace\u001b[0m\u001b[0;34m=\u001b[0m\u001b[0;32mTrue\u001b[0m\u001b[0;34m)\u001b[0m\u001b[0;34m\u001b[0m\u001b[0;34m\u001b[0m\u001b[0m\n\u001b[0m",
            "\u001b[0;31mNameError\u001b[0m: name 'np' is not defined"
          ]
        }
      ]
    },
    {
      "cell_type": "code",
      "source": [
        "df.dtypes"
      ],
      "metadata": {
        "colab": {
          "base_uri": "https://localhost:8080/"
        },
        "id": "hiVZhEsxF-hb",
        "outputId": "4b6a090d-7800-494a-ce7f-c316ec51640e"
      },
      "execution_count": 57,
      "outputs": [
        {
          "output_type": "execute_result",
          "data": {
            "text/plain": [
              "IdTransaccion         int64\n",
              "Proxy                object\n",
              "SistemaOperativo     object\n",
              "Navegador            object\n",
              "Resolucion           object\n",
              "TipoDispositivo      object\n",
              "InfoDispositivo      object\n",
              "EsFraude              int64\n",
              "LineaDeTiempo         int64\n",
              "MontoTransaccion    float64\n",
              "Franquicia           object\n",
              "TipoTarjeta          object\n",
              "DominioCompra        object\n",
              "dtype: object"
            ]
          },
          "metadata": {},
          "execution_count": 57
        }
      ]
    },
    {
      "cell_type": "code",
      "source": [
        "X = df[['Proxy', 'SistemaOperativo', 'Navegador', 'Resolucion',\n",
        "       'TipoDispositivo', 'InfoDispositivo', 'LineaDeTiempo',\n",
        "       'MontoTransaccion', 'Franquicia', 'TipoTarjeta', 'DominioCompra']]\n",
        "y = df['EsFraude']\n"
      ],
      "metadata": {
        "id": "_0SX3sCKtVEO"
      },
      "execution_count": 58,
      "outputs": []
    },
    {
      "cell_type": "code",
      "source": [
        "X_encoded = pd.get_dummies(X)\n"
      ],
      "metadata": {
        "id": "8QoJkR4EGwWV"
      },
      "execution_count": 59,
      "outputs": []
    },
    {
      "cell_type": "code",
      "source": [
        "from sklearn.model_selection import train_test_split\n",
        "\n",
        "X_train, X_test, y_train, y_test = train_test_split(X_encoded, y, test_size=0.2, random_state=42)\n"
      ],
      "metadata": {
        "id": "PB0W6QQzG0QC"
      },
      "execution_count": 60,
      "outputs": []
    },
    {
      "cell_type": "code",
      "source": [
        "from sklearn.linear_model import LogisticRegression\n",
        "\n",
        "model = LogisticRegression()\n",
        "model.fit(X_train, y_train)\n"
      ],
      "metadata": {
        "colab": {
          "base_uri": "https://localhost:8080/",
          "height": 75
        },
        "id": "EEiQXXmPG3ri",
        "outputId": "af94940a-7fb7-4ed3-9197-9c238776257e"
      },
      "execution_count": 61,
      "outputs": [
        {
          "output_type": "execute_result",
          "data": {
            "text/plain": [
              "LogisticRegression()"
            ],
            "text/html": [
              "<style>#sk-container-id-1 {color: black;background-color: white;}#sk-container-id-1 pre{padding: 0;}#sk-container-id-1 div.sk-toggleable {background-color: white;}#sk-container-id-1 label.sk-toggleable__label {cursor: pointer;display: block;width: 100%;margin-bottom: 0;padding: 0.3em;box-sizing: border-box;text-align: center;}#sk-container-id-1 label.sk-toggleable__label-arrow:before {content: \"▸\";float: left;margin-right: 0.25em;color: #696969;}#sk-container-id-1 label.sk-toggleable__label-arrow:hover:before {color: black;}#sk-container-id-1 div.sk-estimator:hover label.sk-toggleable__label-arrow:before {color: black;}#sk-container-id-1 div.sk-toggleable__content {max-height: 0;max-width: 0;overflow: hidden;text-align: left;background-color: #f0f8ff;}#sk-container-id-1 div.sk-toggleable__content pre {margin: 0.2em;color: black;border-radius: 0.25em;background-color: #f0f8ff;}#sk-container-id-1 input.sk-toggleable__control:checked~div.sk-toggleable__content {max-height: 200px;max-width: 100%;overflow: auto;}#sk-container-id-1 input.sk-toggleable__control:checked~label.sk-toggleable__label-arrow:before {content: \"▾\";}#sk-container-id-1 div.sk-estimator input.sk-toggleable__control:checked~label.sk-toggleable__label {background-color: #d4ebff;}#sk-container-id-1 div.sk-label input.sk-toggleable__control:checked~label.sk-toggleable__label {background-color: #d4ebff;}#sk-container-id-1 input.sk-hidden--visually {border: 0;clip: rect(1px 1px 1px 1px);clip: rect(1px, 1px, 1px, 1px);height: 1px;margin: -1px;overflow: hidden;padding: 0;position: absolute;width: 1px;}#sk-container-id-1 div.sk-estimator {font-family: monospace;background-color: #f0f8ff;border: 1px dotted black;border-radius: 0.25em;box-sizing: border-box;margin-bottom: 0.5em;}#sk-container-id-1 div.sk-estimator:hover {background-color: #d4ebff;}#sk-container-id-1 div.sk-parallel-item::after {content: \"\";width: 100%;border-bottom: 1px solid gray;flex-grow: 1;}#sk-container-id-1 div.sk-label:hover label.sk-toggleable__label {background-color: #d4ebff;}#sk-container-id-1 div.sk-serial::before {content: \"\";position: absolute;border-left: 1px solid gray;box-sizing: border-box;top: 0;bottom: 0;left: 50%;z-index: 0;}#sk-container-id-1 div.sk-serial {display: flex;flex-direction: column;align-items: center;background-color: white;padding-right: 0.2em;padding-left: 0.2em;position: relative;}#sk-container-id-1 div.sk-item {position: relative;z-index: 1;}#sk-container-id-1 div.sk-parallel {display: flex;align-items: stretch;justify-content: center;background-color: white;position: relative;}#sk-container-id-1 div.sk-item::before, #sk-container-id-1 div.sk-parallel-item::before {content: \"\";position: absolute;border-left: 1px solid gray;box-sizing: border-box;top: 0;bottom: 0;left: 50%;z-index: -1;}#sk-container-id-1 div.sk-parallel-item {display: flex;flex-direction: column;z-index: 1;position: relative;background-color: white;}#sk-container-id-1 div.sk-parallel-item:first-child::after {align-self: flex-end;width: 50%;}#sk-container-id-1 div.sk-parallel-item:last-child::after {align-self: flex-start;width: 50%;}#sk-container-id-1 div.sk-parallel-item:only-child::after {width: 0;}#sk-container-id-1 div.sk-dashed-wrapped {border: 1px dashed gray;margin: 0 0.4em 0.5em 0.4em;box-sizing: border-box;padding-bottom: 0.4em;background-color: white;}#sk-container-id-1 div.sk-label label {font-family: monospace;font-weight: bold;display: inline-block;line-height: 1.2em;}#sk-container-id-1 div.sk-label-container {text-align: center;}#sk-container-id-1 div.sk-container {/* jupyter's `normalize.less` sets `[hidden] { display: none; }` but bootstrap.min.css set `[hidden] { display: none !important; }` so we also need the `!important` here to be able to override the default hidden behavior on the sphinx rendered scikit-learn.org. See: https://github.com/scikit-learn/scikit-learn/issues/21755 */display: inline-block !important;position: relative;}#sk-container-id-1 div.sk-text-repr-fallback {display: none;}</style><div id=\"sk-container-id-1\" class=\"sk-top-container\"><div class=\"sk-text-repr-fallback\"><pre>LogisticRegression()</pre><b>In a Jupyter environment, please rerun this cell to show the HTML representation or trust the notebook. <br />On GitHub, the HTML representation is unable to render, please try loading this page with nbviewer.org.</b></div><div class=\"sk-container\" hidden><div class=\"sk-item\"><div class=\"sk-estimator sk-toggleable\"><input class=\"sk-toggleable__control sk-hidden--visually\" id=\"sk-estimator-id-1\" type=\"checkbox\" checked><label for=\"sk-estimator-id-1\" class=\"sk-toggleable__label sk-toggleable__label-arrow\">LogisticRegression</label><div class=\"sk-toggleable__content\"><pre>LogisticRegression()</pre></div></div></div></div></div>"
            ]
          },
          "metadata": {},
          "execution_count": 61
        }
      ]
    },
    {
      "cell_type": "code",
      "source": [
        "y_pred = model.predict(X_test)\n"
      ],
      "metadata": {
        "id": "uVgQvI-KG8lq"
      },
      "execution_count": 62,
      "outputs": []
    },
    {
      "cell_type": "code",
      "source": [
        "from sklearn.metrics import classification_report\n",
        "\n",
        "print(classification_report(y_test, y_pred))\n"
      ],
      "metadata": {
        "colab": {
          "base_uri": "https://localhost:8080/"
        },
        "id": "I9ud-_ezHBWs",
        "outputId": "e479848f-dcb4-4a5f-a8de-018267164b4b"
      },
      "execution_count": 63,
      "outputs": [
        {
          "output_type": "stream",
          "name": "stdout",
          "text": [
            "              precision    recall  f1-score   support\n",
            "\n",
            "           0       0.92      1.00      0.96     26587\n",
            "           1       0.00      0.00      0.00      2260\n",
            "\n",
            "    accuracy                           0.92     28847\n",
            "   macro avg       0.46      0.50      0.48     28847\n",
            "weighted avg       0.85      0.92      0.88     28847\n",
            "\n"
          ]
        }
      ]
    },
    {
      "cell_type": "markdown",
      "source": [
        "Con esto tenemos que los resultados obtenidos son muy bajos para lo que necesitamos. "
      ],
      "metadata": {
        "id": "lc9IX8ZsHyUy"
      }
    },
    {
      "cell_type": "markdown",
      "source": [
        "o la técnica de balanceo de datos mediante el sobremuestreo de la clase minoritaria (fraude) con la biblioteca imbalanced-learn. Además, se utiliza la validación cruzada estratificada para evaluar el rendimiento del modelo de regresión logística:"
      ],
      "metadata": {
        "id": "vfitKRD7IMb-"
      }
    },
    {
      "cell_type": "code",
      "source": [
        "import pandas as pd\n",
        "from sklearn.model_selection import StratifiedKFold\n",
        "from sklearn.linear_model import LogisticRegression\n",
        "from imblearn.over_sampling import SMOTE\n",
        "from sklearn.preprocessing import OneHotEncoder\n",
        "from sklearn.compose import ColumnTransformer\n",
        "from sklearn.metrics import classification_report\n",
        "\n",
        "# Dividir los datos en características (variables independientes) y la variable objetivo (variable dependiente)\n",
        "X = df.drop('EsFraude', axis=1)\n",
        "y = df['EsFraude']\n",
        "\n",
        "# Identificar las columnas categóricas y numéricas\n",
        "categorical_cols = [col for col, dtype in zip(X.columns, X.dtypes) if dtype == 'object']\n",
        "numeric_cols = [col for col, dtype in zip(X.columns, X.dtypes) if dtype != 'object']\n",
        "\n",
        "# Aplicar la codificación one-hot a las variables categóricas\n",
        "ct = ColumnTransformer([('encoder', OneHotEncoder(), categorical_cols)], remainder='passthrough')\n",
        "X_encoded = ct.fit_transform(X)\n",
        "\n",
        "# Realizar sobremuestreo de la clase minoritaria utilizando SMOTE\n",
        "smote = SMOTE(random_state=42)\n",
        "X_resampled, y_resampled = smote.fit_resample(X_encoded, y)\n",
        "\n",
        "# Realizar validación cruzada estratificada\n",
        "skf = StratifiedKFold(n_splits=5, shuffle=True, random_state=42)\n",
        "\n",
        "# Inicializar una lista para almacenar los resultados de evaluación en cada iteración de validación cruzada\n",
        "results = []\n",
        "\n",
        "# Iterar sobre cada fold de la validación cruzada\n",
        "for train_index, test_index in skf.split(X_resampled, y_resampled):\n",
        "    X_train, X_test = X_resampled[train_index], X_resampled[test_index]\n",
        "    y_train, y_test = y_resampled[train_index], y_resampled[test_index]\n",
        "    \n",
        "    # Crear y entrenar el modelo de regresión logística\n",
        "    model = LogisticRegression()\n",
        "    model.fit(X_train, y_train)\n",
        "    \n",
        "    # Realizar predicciones en el conjunto de prueba\n",
        "    y_pred = model.predict(X_test)\n",
        "    \n",
        "    # Evaluar el rendimiento del modelo\n",
        "    report = classification_report(y_test, y_pred)\n",
        "    results.append(report)\n",
        "\n",
        "# Imprimir los resultados de evaluación promediados en cada iteración de validación cruzada\n",
        "print(\"Resultados de evaluación promediados en validación cruzada:\")\n",
        "print(\"--------------------------------------------------------\")\n",
        "print(pd.DataFrame(results).mean())\n"
      ],
      "metadata": {
        "colab": {
          "base_uri": "https://localhost:8080/"
        },
        "id": "tjr0J3clIPV4",
        "outputId": "6193909e-9317-4585-b5f3-f3c7c77a3dce"
      },
      "execution_count": 21,
      "outputs": [
        {
          "output_type": "stream",
          "name": "stdout",
          "text": [
            "Resultados de evaluación promediados en validación cruzada:\n",
            "--------------------------------------------------------\n",
            "Series([], dtype: float64)\n"
          ]
        }
      ]
    },
    {
      "cell_type": "markdown",
      "source": [
        "Este código utiliza la biblioteca imbalanced-learn para aplicar la técnica de sobremuestreo SMOTE, que genera nuevas instancias sintéticas de la clase minoritaria para equilibrar la distribución de las clases. Luego, se realiza la validación cruzada estratificada utilizando StratifiedKFold para dividir los datos en conjuntos de entrenamiento y prueba en cada iteración.\n",
        "\n",
        "Dentro del bucle de validación cruzada, se crea y entrena un modelo de regresión logística en el conjunto de entrenamiento y se evalúa su rendimiento en el conjunto de prueba utilizando classification_report. Finalmente, los resultados se promedian en todas las iteraciones de validación cruzada para obtener una medida general del rendimiento del modelo."
      ],
      "metadata": {
        "id": "8wUUsbZTIZSq"
      }
    }
  ]
}